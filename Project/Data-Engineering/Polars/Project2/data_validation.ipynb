{
 "cells": [
  {
   "cell_type": "markdown",
   "metadata": {},
   "source": [
    "# 1. Perkenalan"
   ]
  },
  {
   "cell_type": "markdown",
   "metadata": {},
   "source": [
    "=================================================================================================================================\n",
    "\n",
    "NAMA        : Alif Nurhadi <br>\n",
    "BATCH       : HCK-019\n",
    "\n",
    "================================================================================================================================="
   ]
  },
  {
   "cell_type": "code",
   "execution_count": 2,
   "metadata": {},
   "outputs": [],
   "source": [
    "# !pip list"
   ]
  },
  {
   "cell_type": "code",
   "execution_count": 3,
   "metadata": {},
   "outputs": [],
   "source": [
    "# %pip install great-expectations==0.18.19"
   ]
  },
  {
   "cell_type": "code",
   "execution_count": 4,
   "metadata": {},
   "outputs": [],
   "source": [
    "# %pip install polars==1.5.0"
   ]
  },
  {
   "cell_type": "markdown",
   "metadata": {},
   "source": [
    "# 2. Import libraries"
   ]
  },
  {
   "cell_type": "code",
   "execution_count": 5,
   "metadata": {},
   "outputs": [],
   "source": [
    "# handling data loading\n",
    "import polars as pl\n",
    "\n",
    "# proses validasi data.\n",
    "from great_expectations.data_context import FileDataContext"
   ]
  },
  {
   "cell_type": "code",
   "execution_count": 6,
   "metadata": {},
   "outputs": [
    {
     "data": {
      "text/html": [
       "<div><style>\n",
       ".dataframe > thead > tr,\n",
       ".dataframe > tbody > tr {\n",
       "  text-align: right;\n",
       "  white-space: pre-wrap;\n",
       "}\n",
       "</style>\n",
       "<small>shape: (5, 19)</small><table border=\"1\" class=\"dataframe\"><thead><tr><th>customerid</th><th>age</th><th>gender</th><th>income</th><th>visitfrequency</th><th>averagespend</th><th>preferredcuisine</th><th>timeofvisit</th><th>groupsize</th><th>diningoccasion</th><th>mealtype</th><th>onlinereservation</th><th>deliveryorder</th><th>loyaltyprogrammember</th><th>waittime</th><th>servicerating</th><th>foodrating</th><th>ambiancerating</th><th>highsatisfaction</th></tr><tr><td>i64</td><td>i64</td><td>str</td><td>i64</td><td>str</td><td>f64</td><td>str</td><td>str</td><td>i64</td><td>str</td><td>str</td><td>i64</td><td>i64</td><td>i64</td><td>f64</td><td>i64</td><td>i64</td><td>i64</td><td>i64</td></tr></thead><tbody><tr><td>2112</td><td>23</td><td>&quot;Female&quot;</td><td>99317</td><td>&quot;Rarely&quot;</td><td>80.808807</td><td>&quot;Chinese&quot;</td><td>&quot;Breakfast&quot;</td><td>3</td><td>&quot;Celebration&quot;</td><td>&quot;Dine-in&quot;</td><td>1</td><td>0</td><td>1</td><td>0.749089</td><td>1</td><td>1</td><td>2</td><td>1</td></tr><tr><td>2011</td><td>53</td><td>&quot;Female&quot;</td><td>106476</td><td>&quot;Weekly&quot;</td><td>189.761975</td><td>&quot;Indian&quot;</td><td>&quot;Lunch&quot;</td><td>3</td><td>&quot;Celebration&quot;</td><td>&quot;Dine-in&quot;</td><td>0</td><td>1</td><td>0</td><td>8.397031</td><td>5</td><td>3</td><td>1</td><td>1</td></tr><tr><td>1432</td><td>26</td><td>&quot;Female&quot;</td><td>36721</td><td>&quot;Weekly&quot;</td><td>38.012189</td><td>&quot;Indian&quot;</td><td>&quot;Dinner&quot;</td><td>8</td><td>&quot;Celebration&quot;</td><td>&quot;Takeaway&quot;</td><td>0</td><td>0</td><td>1</td><td>29.834067</td><td>5</td><td>3</td><td>3</td><td>0</td></tr><tr><td>998</td><td>67</td><td>&quot;Male&quot;</td><td>52525</td><td>&quot;Monthly&quot;</td><td>183.244471</td><td>&quot;American&quot;</td><td>&quot;Breakfast&quot;</td><td>2</td><td>&quot;Casual&quot;</td><td>&quot;Dine-in&quot;</td><td>0</td><td>1</td><td>0</td><td>26.868775</td><td>2</td><td>2</td><td>1</td><td>0</td></tr><tr><td>1869</td><td>44</td><td>&quot;Female&quot;</td><td>106597</td><td>&quot;Weekly&quot;</td><td>150.427206</td><td>&quot;Chinese&quot;</td><td>&quot;Breakfast&quot;</td><td>7</td><td>&quot;Casual&quot;</td><td>&quot;Takeaway&quot;</td><td>1</td><td>0</td><td>1</td><td>35.369403</td><td>2</td><td>1</td><td>4</td><td>0</td></tr></tbody></table></div>"
      ],
      "text/plain": [
       "shape: (5, 19)\n",
       "┌────────────┬─────┬────────┬────────┬───┬──────────────┬────────────┬──────────────┬──────────────┐\n",
       "│ customerid ┆ age ┆ gender ┆ income ┆ … ┆ serviceratin ┆ foodrating ┆ ambiancerati ┆ highsatisfac │\n",
       "│ ---        ┆ --- ┆ ---    ┆ ---    ┆   ┆ g            ┆ ---        ┆ ng           ┆ tion         │\n",
       "│ i64        ┆ i64 ┆ str    ┆ i64    ┆   ┆ ---          ┆ i64        ┆ ---          ┆ ---          │\n",
       "│            ┆     ┆        ┆        ┆   ┆ i64          ┆            ┆ i64          ┆ i64          │\n",
       "╞════════════╪═════╪════════╪════════╪═══╪══════════════╪════════════╪══════════════╪══════════════╡\n",
       "│ 2112       ┆ 23  ┆ Female ┆ 99317  ┆ … ┆ 1            ┆ 1          ┆ 2            ┆ 1            │\n",
       "│ 2011       ┆ 53  ┆ Female ┆ 106476 ┆ … ┆ 5            ┆ 3          ┆ 1            ┆ 1            │\n",
       "│ 1432       ┆ 26  ┆ Female ┆ 36721  ┆ … ┆ 5            ┆ 3          ┆ 3            ┆ 0            │\n",
       "│ 998        ┆ 67  ┆ Male   ┆ 52525  ┆ … ┆ 2            ┆ 2          ┆ 1            ┆ 0            │\n",
       "│ 1869       ┆ 44  ┆ Female ┆ 106597 ┆ … ┆ 2            ┆ 1          ┆ 4            ┆ 0            │\n",
       "└────────────┴─────┴────────┴────────┴───┴──────────────┴────────────┴──────────────┴──────────────┘"
      ]
     },
     "execution_count": 6,
     "metadata": {},
     "output_type": "execute_result"
    }
   ],
   "source": [
    "data = pl.read_csv('./airflow/data/P2M3_alif_nurhadi_clean.csv')\n",
    "data.head()"
   ]
  },
  {
   "cell_type": "code",
   "execution_count": 7,
   "metadata": {},
   "outputs": [],
   "source": [
    "context = FileDataContext.create(project_root_dir='./')"
   ]
  },
  {
   "cell_type": "code",
   "execution_count": 8,
   "metadata": {},
   "outputs": [
    {
     "data": {
      "application/vnd.jupyter.widget-view+json": {
       "model_id": "bad954bd0e6e4409981bd86e35044856",
       "version_major": 2,
       "version_minor": 0
      },
      "text/plain": [
       "Calculating Metrics:   0%|          | 0/1 [00:00<?, ?it/s]"
      ]
     },
     "metadata": {},
     "output_type": "display_data"
    },
    {
     "data": {
      "text/html": [
       "<div>\n",
       "<style scoped>\n",
       "    .dataframe tbody tr th:only-of-type {\n",
       "        vertical-align: middle;\n",
       "    }\n",
       "\n",
       "    .dataframe tbody tr th {\n",
       "        vertical-align: top;\n",
       "    }\n",
       "\n",
       "    .dataframe thead th {\n",
       "        text-align: right;\n",
       "    }\n",
       "</style>\n",
       "<table border=\"1\" class=\"dataframe\">\n",
       "  <thead>\n",
       "    <tr style=\"text-align: right;\">\n",
       "      <th></th>\n",
       "      <th>customerid</th>\n",
       "      <th>age</th>\n",
       "      <th>gender</th>\n",
       "      <th>income</th>\n",
       "      <th>visitfrequency</th>\n",
       "      <th>averagespend</th>\n",
       "      <th>preferredcuisine</th>\n",
       "      <th>timeofvisit</th>\n",
       "      <th>groupsize</th>\n",
       "      <th>diningoccasion</th>\n",
       "      <th>mealtype</th>\n",
       "      <th>onlinereservation</th>\n",
       "      <th>deliveryorder</th>\n",
       "      <th>loyaltyprogrammember</th>\n",
       "      <th>waittime</th>\n",
       "      <th>servicerating</th>\n",
       "      <th>foodrating</th>\n",
       "      <th>ambiancerating</th>\n",
       "      <th>highsatisfaction</th>\n",
       "    </tr>\n",
       "  </thead>\n",
       "  <tbody>\n",
       "    <tr>\n",
       "      <th>0</th>\n",
       "      <td>2112</td>\n",
       "      <td>23</td>\n",
       "      <td>Female</td>\n",
       "      <td>99317</td>\n",
       "      <td>Rarely</td>\n",
       "      <td>80.808807</td>\n",
       "      <td>Chinese</td>\n",
       "      <td>Breakfast</td>\n",
       "      <td>3</td>\n",
       "      <td>Celebration</td>\n",
       "      <td>Dine-in</td>\n",
       "      <td>1</td>\n",
       "      <td>0</td>\n",
       "      <td>1</td>\n",
       "      <td>0.749089</td>\n",
       "      <td>1</td>\n",
       "      <td>1</td>\n",
       "      <td>2</td>\n",
       "      <td>1</td>\n",
       "    </tr>\n",
       "    <tr>\n",
       "      <th>1</th>\n",
       "      <td>2011</td>\n",
       "      <td>53</td>\n",
       "      <td>Female</td>\n",
       "      <td>106476</td>\n",
       "      <td>Weekly</td>\n",
       "      <td>189.761975</td>\n",
       "      <td>Indian</td>\n",
       "      <td>Lunch</td>\n",
       "      <td>3</td>\n",
       "      <td>Celebration</td>\n",
       "      <td>Dine-in</td>\n",
       "      <td>0</td>\n",
       "      <td>1</td>\n",
       "      <td>0</td>\n",
       "      <td>8.397031</td>\n",
       "      <td>5</td>\n",
       "      <td>3</td>\n",
       "      <td>1</td>\n",
       "      <td>1</td>\n",
       "    </tr>\n",
       "    <tr>\n",
       "      <th>2</th>\n",
       "      <td>1432</td>\n",
       "      <td>26</td>\n",
       "      <td>Female</td>\n",
       "      <td>36721</td>\n",
       "      <td>Weekly</td>\n",
       "      <td>38.012189</td>\n",
       "      <td>Indian</td>\n",
       "      <td>Dinner</td>\n",
       "      <td>8</td>\n",
       "      <td>Celebration</td>\n",
       "      <td>Takeaway</td>\n",
       "      <td>0</td>\n",
       "      <td>0</td>\n",
       "      <td>1</td>\n",
       "      <td>29.834067</td>\n",
       "      <td>5</td>\n",
       "      <td>3</td>\n",
       "      <td>3</td>\n",
       "      <td>0</td>\n",
       "    </tr>\n",
       "    <tr>\n",
       "      <th>3</th>\n",
       "      <td>998</td>\n",
       "      <td>67</td>\n",
       "      <td>Male</td>\n",
       "      <td>52525</td>\n",
       "      <td>Monthly</td>\n",
       "      <td>183.244471</td>\n",
       "      <td>American</td>\n",
       "      <td>Breakfast</td>\n",
       "      <td>2</td>\n",
       "      <td>Casual</td>\n",
       "      <td>Dine-in</td>\n",
       "      <td>0</td>\n",
       "      <td>1</td>\n",
       "      <td>0</td>\n",
       "      <td>26.868775</td>\n",
       "      <td>2</td>\n",
       "      <td>2</td>\n",
       "      <td>1</td>\n",
       "      <td>0</td>\n",
       "    </tr>\n",
       "    <tr>\n",
       "      <th>4</th>\n",
       "      <td>1869</td>\n",
       "      <td>44</td>\n",
       "      <td>Female</td>\n",
       "      <td>106597</td>\n",
       "      <td>Weekly</td>\n",
       "      <td>150.427206</td>\n",
       "      <td>Chinese</td>\n",
       "      <td>Breakfast</td>\n",
       "      <td>7</td>\n",
       "      <td>Casual</td>\n",
       "      <td>Takeaway</td>\n",
       "      <td>1</td>\n",
       "      <td>0</td>\n",
       "      <td>1</td>\n",
       "      <td>35.369403</td>\n",
       "      <td>2</td>\n",
       "      <td>1</td>\n",
       "      <td>4</td>\n",
       "      <td>0</td>\n",
       "    </tr>\n",
       "  </tbody>\n",
       "</table>\n",
       "</div>"
      ],
      "text/plain": [
       "   customerid  age  gender  income visitfrequency  averagespend  \\\n",
       "0        2112   23  Female   99317         Rarely     80.808807   \n",
       "1        2011   53  Female  106476         Weekly    189.761975   \n",
       "2        1432   26  Female   36721         Weekly     38.012189   \n",
       "3         998   67    Male   52525        Monthly    183.244471   \n",
       "4        1869   44  Female  106597         Weekly    150.427206   \n",
       "\n",
       "  preferredcuisine timeofvisit  groupsize diningoccasion  mealtype  \\\n",
       "0          Chinese   Breakfast          3    Celebration   Dine-in   \n",
       "1           Indian       Lunch          3    Celebration   Dine-in   \n",
       "2           Indian      Dinner          8    Celebration  Takeaway   \n",
       "3         American   Breakfast          2         Casual   Dine-in   \n",
       "4          Chinese   Breakfast          7         Casual  Takeaway   \n",
       "\n",
       "   onlinereservation  deliveryorder  loyaltyprogrammember   waittime  \\\n",
       "0                  1              0                     1   0.749089   \n",
       "1                  0              1                     0   8.397031   \n",
       "2                  0              0                     1  29.834067   \n",
       "3                  0              1                     0  26.868775   \n",
       "4                  1              0                     1  35.369403   \n",
       "\n",
       "   servicerating  foodrating  ambiancerating  highsatisfaction  \n",
       "0              1           1               2                 1  \n",
       "1              5           3               1                 1  \n",
       "2              5           3               3                 0  \n",
       "3              2           2               1                 0  \n",
       "4              2           1               4                 0  "
      ]
     },
     "execution_count": 8,
     "metadata": {},
     "output_type": "execute_result"
    }
   ],
   "source": [
    "# Buat Datasource dengan Pandas\n",
    "datasource_name = 'csv-data'\n",
    "datasource = context.sources.add_pandas(datasource_name)\n",
    "\n",
    "# Nama dan path lokal untuk Data Asset\n",
    "asset_name = 'Milestone'\n",
    "path_to_data = './airflow/data/P2M3_alif_nurhadi_clean.csv'\n",
    "asset = datasource.add_csv_asset(asset_name, filepath_or_buffer=path_to_data)\n",
    "\n",
    "# Membuat batch request\n",
    "batch_request = asset.build_batch_request()\n",
    "\n",
    "# Membuat Expectation Suite\n",
    "expectation_suite_name = 'Milestone_Expectation'\n",
    "context.add_or_update_expectation_suite(expectation_suite_name)\n",
    "\n",
    "# Membuat validator\n",
    "validator = context.get_validator(\n",
    "    batch_request=batch_request,\n",
    "    expectation_suite_name=expectation_suite_name\n",
    ")\n",
    "\n",
    "# Memeriksa validator\n",
    "validator.head()"
   ]
  },
  {
   "cell_type": "code",
   "execution_count": 9,
   "metadata": {},
   "outputs": [
    {
     "data": {
      "application/vnd.jupyter.widget-view+json": {
       "model_id": "e8ff41e4eaab4c43a33bd09030cde6b6",
       "version_major": 2,
       "version_minor": 0
      },
      "text/plain": [
       "Calculating Metrics:   0%|          | 0/8 [00:00<?, ?it/s]"
      ]
     },
     "metadata": {},
     "output_type": "display_data"
    },
    {
     "data": {
      "text/plain": [
       "{\n",
       "  \"success\": true,\n",
       "  \"result\": {\n",
       "    \"element_count\": 1500,\n",
       "    \"unexpected_count\": 0,\n",
       "    \"unexpected_percent\": 0.0,\n",
       "    \"partial_unexpected_list\": [],\n",
       "    \"missing_count\": 0,\n",
       "    \"missing_percent\": 0.0,\n",
       "    \"unexpected_percent_total\": 0.0,\n",
       "    \"unexpected_percent_nonmissing\": 0.0\n",
       "  },\n",
       "  \"meta\": {},\n",
       "  \"exception_info\": {\n",
       "    \"raised_exception\": false,\n",
       "    \"exception_traceback\": null,\n",
       "    \"exception_message\": null\n",
       "  }\n",
       "}"
      ]
     },
     "execution_count": 9,
     "metadata": {},
     "output_type": "execute_result"
    }
   ],
   "source": [
    "# memvalidasi apakah value pada kolom preferredcuisine berisi hanya sebuah tulisan atau string.\n",
    "validator.expect_column_values_to_match_regex(\"preferredcuisine\", regex=\"^[A-Za-z]+$\")\n"
   ]
  },
  {
   "cell_type": "code",
   "execution_count": 10,
   "metadata": {},
   "outputs": [
    {
     "data": {
      "application/vnd.jupyter.widget-view+json": {
       "model_id": "4c6d216bcceb41979809e6496e5541c1",
       "version_major": 2,
       "version_minor": 0
      },
      "text/plain": [
       "Calculating Metrics:   0%|          | 0/8 [00:00<?, ?it/s]"
      ]
     },
     "metadata": {},
     "output_type": "display_data"
    },
    {
     "data": {
      "text/plain": [
       "{\n",
       "  \"success\": true,\n",
       "  \"result\": {\n",
       "    \"element_count\": 1500,\n",
       "    \"unexpected_count\": 0,\n",
       "    \"unexpected_percent\": 0.0,\n",
       "    \"partial_unexpected_list\": [],\n",
       "    \"missing_count\": 0,\n",
       "    \"missing_percent\": 0.0,\n",
       "    \"unexpected_percent_total\": 0.0,\n",
       "    \"unexpected_percent_nonmissing\": 0.0\n",
       "  },\n",
       "  \"meta\": {},\n",
       "  \"exception_info\": {\n",
       "    \"raised_exception\": false,\n",
       "    \"exception_traceback\": null,\n",
       "    \"exception_message\": null\n",
       "  }\n",
       "}"
      ]
     },
     "execution_count": 10,
     "metadata": {},
     "output_type": "execute_result"
    }
   ],
   "source": [
    "# memvalidasi apakah tipe data untuk value yang ada pada kolom visitfrequency berisi sebuah tulisan atau string ataupun angka bulat.\n",
    "validator.expect_column_values_to_be_in_type_list(\"loyaltyprogrammember\", [\"str\",\"int\"])"
   ]
  },
  {
   "cell_type": "code",
   "execution_count": 11,
   "metadata": {},
   "outputs": [
    {
     "data": {
      "application/vnd.jupyter.widget-view+json": {
       "model_id": "4411676d9cfa48d28c95cc2bfd3f51dc",
       "version_major": 2,
       "version_minor": 0
      },
      "text/plain": [
       "Calculating Metrics:   0%|          | 0/2 [00:00<?, ?it/s]"
      ]
     },
     "metadata": {},
     "output_type": "display_data"
    },
    {
     "data": {
      "text/plain": [
       "{\n",
       "  \"success\": true,\n",
       "  \"result\": {},\n",
       "  \"meta\": {},\n",
       "  \"exception_info\": {\n",
       "    \"raised_exception\": false,\n",
       "    \"exception_traceback\": null,\n",
       "    \"exception_message\": null\n",
       "  }\n",
       "}"
      ]
     },
     "execution_count": 11,
     "metadata": {},
     "output_type": "execute_result"
    }
   ],
   "source": [
    "# memvalidasi apakah terdapat kolom gender pada data ini.\n",
    "validator.expect_column_to_exist(\"gender\")"
   ]
  },
  {
   "cell_type": "code",
   "execution_count": 12,
   "metadata": {},
   "outputs": [
    {
     "data": {
      "application/vnd.jupyter.widget-view+json": {
       "model_id": "108d4b0a86a54b6b8c2e66041a74e83a",
       "version_major": 2,
       "version_minor": 0
      },
      "text/plain": [
       "Calculating Metrics:   0%|          | 0/6 [00:00<?, ?it/s]"
      ]
     },
     "metadata": {},
     "output_type": "display_data"
    },
    {
     "data": {
      "text/plain": [
       "{\n",
       "  \"success\": true,\n",
       "  \"result\": {\n",
       "    \"element_count\": 1500,\n",
       "    \"unexpected_count\": 0,\n",
       "    \"unexpected_percent\": 0.0,\n",
       "    \"partial_unexpected_list\": []\n",
       "  },\n",
       "  \"meta\": {},\n",
       "  \"exception_info\": {\n",
       "    \"raised_exception\": false,\n",
       "    \"exception_traceback\": null,\n",
       "    \"exception_message\": null\n",
       "  }\n",
       "}"
      ]
     },
     "execution_count": 12,
     "metadata": {},
     "output_type": "execute_result"
    }
   ],
   "source": [
    "# memvalidasi apakah value pada kolom averagespend tidak kosong, karena jika kosong semestinya baris tersebut tidak ada.\n",
    "validator.expect_column_values_to_not_be_null(\"averagespend\")"
   ]
  },
  {
   "cell_type": "code",
   "execution_count": 13,
   "metadata": {},
   "outputs": [
    {
     "data": {
      "application/vnd.jupyter.widget-view+json": {
       "model_id": "d2011ca48c99485b807b881c7bb3591e",
       "version_major": 2,
       "version_minor": 0
      },
      "text/plain": [
       "Calculating Metrics:   0%|          | 0/8 [00:00<?, ?it/s]"
      ]
     },
     "metadata": {},
     "output_type": "display_data"
    },
    {
     "data": {
      "text/plain": [
       "{\n",
       "  \"success\": true,\n",
       "  \"result\": {\n",
       "    \"element_count\": 1500,\n",
       "    \"unexpected_count\": 0,\n",
       "    \"unexpected_percent\": 0.0,\n",
       "    \"partial_unexpected_list\": [],\n",
       "    \"missing_count\": 0,\n",
       "    \"missing_percent\": 0.0,\n",
       "    \"unexpected_percent_total\": 0.0,\n",
       "    \"unexpected_percent_nonmissing\": 0.0\n",
       "  },\n",
       "  \"meta\": {},\n",
       "  \"exception_info\": {\n",
       "    \"raised_exception\": false,\n",
       "    \"exception_traceback\": null,\n",
       "    \"exception_message\": null\n",
       "  }\n",
       "}"
      ]
     },
     "execution_count": 13,
     "metadata": {},
     "output_type": "execute_result"
    }
   ],
   "source": [
    "# memvalidasi apakah value pada kolom ambiencerating merupakan salah satu dari kelas tertentu.\n",
    "validator.expect_column_values_to_be_in_set(\"ambiancerating\", value_set=[1, 2, 3, 4, 5])"
   ]
  },
  {
   "cell_type": "code",
   "execution_count": 14,
   "metadata": {},
   "outputs": [
    {
     "data": {
      "application/vnd.jupyter.widget-view+json": {
       "model_id": "3019fe4410a64904a32c2107e8123679",
       "version_major": 2,
       "version_minor": 0
      },
      "text/plain": [
       "Calculating Metrics:   0%|          | 0/8 [00:00<?, ?it/s]"
      ]
     },
     "metadata": {},
     "output_type": "display_data"
    },
    {
     "data": {
      "text/plain": [
       "{\n",
       "  \"success\": true,\n",
       "  \"result\": {\n",
       "    \"element_count\": 1500,\n",
       "    \"unexpected_count\": 0,\n",
       "    \"unexpected_percent\": 0.0,\n",
       "    \"partial_unexpected_list\": [],\n",
       "    \"missing_count\": 0,\n",
       "    \"missing_percent\": 0.0,\n",
       "    \"unexpected_percent_total\": 0.0,\n",
       "    \"unexpected_percent_nonmissing\": 0.0\n",
       "  },\n",
       "  \"meta\": {},\n",
       "  \"exception_info\": {\n",
       "    \"raised_exception\": false,\n",
       "    \"exception_traceback\": null,\n",
       "    \"exception_message\": null\n",
       "  }\n",
       "}"
      ]
     },
     "execution_count": 14,
     "metadata": {},
     "output_type": "execute_result"
    }
   ],
   "source": [
    "# memvalidasi apakah value pada kolom age ada dia antara rentan umur tertentu.\n",
    "validator.expect_column_values_to_be_between(\"age\", min_value=7, max_value=100)"
   ]
  },
  {
   "cell_type": "code",
   "execution_count": 15,
   "metadata": {},
   "outputs": [
    {
     "data": {
      "application/vnd.jupyter.widget-view+json": {
       "model_id": "93cb8a44dc2f49e7b6e29a24accebabb",
       "version_major": 2,
       "version_minor": 0
      },
      "text/plain": [
       "Calculating Metrics:   0%|          | 0/8 [00:00<?, ?it/s]"
      ]
     },
     "metadata": {},
     "output_type": "display_data"
    },
    {
     "data": {
      "text/plain": [
       "{\n",
       "  \"success\": true,\n",
       "  \"result\": {\n",
       "    \"element_count\": 1500,\n",
       "    \"unexpected_count\": 0,\n",
       "    \"unexpected_percent\": 0.0,\n",
       "    \"partial_unexpected_list\": [],\n",
       "    \"missing_count\": 0,\n",
       "    \"missing_percent\": 0.0,\n",
       "    \"unexpected_percent_total\": 0.0,\n",
       "    \"unexpected_percent_nonmissing\": 0.0\n",
       "  },\n",
       "  \"meta\": {},\n",
       "  \"exception_info\": {\n",
       "    \"raised_exception\": false,\n",
       "    \"exception_traceback\": null,\n",
       "    \"exception_message\": null\n",
       "  }\n",
       "}"
      ]
     },
     "execution_count": 15,
     "metadata": {},
     "output_type": "execute_result"
    }
   ],
   "source": [
    "# memvalidasi apakah value pada kolom customerid tidak memiliki duplikat karena kolom tersebut sebagai unique identifier bagi keseluruhan data.\n",
    "validator.expect_column_values_to_be_unique(\"customerid\")"
   ]
  }
 ],
 "metadata": {
  "kernelspec": {
   "display_name": "hack8",
   "language": "python",
   "name": "python3"
  },
  "language_info": {
   "codemirror_mode": {
    "name": "ipython",
    "version": 3
   },
   "file_extension": ".py",
   "mimetype": "text/x-python",
   "name": "python",
   "nbconvert_exporter": "python",
   "pygments_lexer": "ipython3",
   "version": "3.9.19"
  }
 },
 "nbformat": 4,
 "nbformat_minor": 2
}
