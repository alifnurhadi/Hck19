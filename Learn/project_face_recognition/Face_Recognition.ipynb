{
 "cells": [
  {
   "cell_type": "markdown",
   "metadata": {},
   "source": [
    "# 1. Perkenalan.\n",
    "\n",
    "Nama    : Alif Nurhadi <br>\n",
    "Batch   : HCK-019 <br>\n",
    "\n",
    "Objektif: Membuat model machine-learning klasifikasi untuk memprediksi apakah nasabah akan keluar atau memutuskan untuk tidak lagi menggunakan dari layanan bank dengan menkomparasi beberapa model dan juga dengan mempertimbangkan menggunakan metrik recall sebagai evaluasinya dengan alasan tidak dinginkannya kejadian dimana model salah memprediksi suatu keputusan dari seorang nasabah yang aktualnya dia keluar namun model memprediksi tetap, karna dengan itu nasabah akan kehilangan nasabahnya selain dari hilangnya jumlah nasabah, hal tersebut tidak termasuk jika nasabah tersebut adalah nasabah yang berjenis nasabah memiliki harta kekayaan yang tinggi.\n",
    "\n",
    "## 1.1 Latar Belakang.\n",
    "\n",
    "Pada era digital yang semakin berkembang, bank menghadapi tantangan besar dalam mempertahankan nasabah, terutama dengan banyaknya pilihan layanan keuangan yang tersedia. Kehilangan nasabah bukan hanya berdampak pada penurunan jumlah pengguna, tetapi juga berpotensi menurunkan reputasi bank, terutama jika nasabah yang keluar adalah mereka dengan aset yang signifikan. Dengan menggunakan model machine-learning, bank dapat memanfaatkan data historis nasabah untuk mengidentifikasi pola yang menunjukkan potensi churn. Oleh karena itu, sangat penting untuk memahami faktor-faktor yang memengaruhi keputusan nasabah untuk tetap atau pergi, sehingga bank dapat mengambil langkah-langkah yang tepat untuk mencegah hal tersebut dan mempertahankan hubungan yang berharga dengan para nasabahnya.\n"
   ]
  },
  {
   "cell_type": "markdown",
   "metadata": {},
   "source": [
    "# 2. Data Libraries"
   ]
  },
  {
   "cell_type": "code",
   "execution_count": 1,
   "metadata": {},
   "outputs": [],
   "source": [
    "# Reducing_unimportant_warnings.\n",
    "import warnings\n",
    "warnings.filterwarnings('ignore')\n",
    "\n",
    "# Data_Manipulating Operations.\n",
    "import numpy as np\n",
    "import pandas as pd\n",
    "import polars as pl\n",
    "\n",
    "# Visualizations\n",
    "import matplotlib.pyplot as plt\n",
    "import seaborn as sns\n",
    "\n",
    "# handling outlier\n",
    "from feature_engine.outliers import Winsorizer\n",
    "\n",
    "# Feature Engineering\n",
    "from sklearn.preprocessing import OneHotEncoder, StandardScaler, RobustScaler, OrdinalEncoder\n",
    "\n",
    "# Model_Pipelining\n",
    "from sklearn.pipeline import Pipeline\n",
    "from sklearn.compose import ColumnTransformer\n",
    "\n",
    "# handling imbalance dataset.\n",
    "from imblearn.over_sampling import SMOTENC\n",
    "\n",
    "# Data_Modeling\n",
    "from sklearn.neighbors import KNeighborsClassifier\n",
    "from sklearn.svm import SVC\n",
    "from sklearn.tree import DecisionTreeClassifier\n",
    "from sklearn.ensemble import RandomForestClassifier\n",
    "from xgboost import XGBClassifier\n",
    "\n",
    "# mengurangi variance pada hasil model.\n",
    "from sklearn.ensemble import BaggingClassifier\n",
    "\n",
    "# Model Evaluation\n",
    "from sklearn.metrics import classification_report, accuracy_score, confusion_matrix\n",
    "from sklearn.model_selection import cross_val_score\n",
    "from sklearn.model_selection import train_test_split, RandomizedSearchCV, GridSearchCV\n",
    "\n",
    "# DIY Function\n",
    "from Function import *\n",
    "\n",
    "# crossvalidation operations.\n",
    "from sklearn.base import BaseEstimator, TransformerMixin\n",
    "from imblearn.pipeline import Pipeline as ImbPipeline\n",
    "\n",
    "# Saving model\n",
    "import pickle"
   ]
  },
  {
   "cell_type": "markdown",
   "metadata": {},
   "source": [
    "# 3. Data Loading"
   ]
  },
  {
   "cell_type": "markdown",
   "metadata": {},
   "source": [
    "| **Column**          | **Description**                                                                                          |\n",
    "|---------------------|----------------------------------------------------------------------------------------------------------|\n",
    "| RowNumber           | Berkorespondensi dengan nomor catatan (baris) dan tidak berpengaruh pada hasil.                         |\n",
    "| CustomerId          | Berisi nilai acak dan tidak berpengaruh pada keputusan pelanggan untuk meninggalkan bank.               |\n",
    "| Surname             | Nama belakang pelanggan tidak berdampak pada keputusan mereka untuk meninggalkan bank.                  |\n",
    "| CreditScore         | Dapat mempengaruhi churn pelanggan; skor kredit yang lebih tinggi terkait dengan kemungkinan yang lebih rendah untuk meninggalkan. |\n",
    "| Geography           | Lokasi pelanggan dapat mempengaruhi keputusan mereka untuk meninggalkan bank.                           |\n",
    "| Gender              | Menarik untuk mengeksplorasi apakah gender memainkan peran dalam keputusan pelanggan untuk meninggalkan bank. |\n",
    "| Age                 | Relevan; pelanggan yang lebih tua cenderung kurang mungkin meninggalkan bank dibandingkan yang lebih muda.|\n",
    "| Tenure              | Mengacu pada jumlah tahun pelanggan telah menjadi klien; klien yang lebih lama biasanya lebih setia.    |\n",
    "| Balance             | Indikator yang baik untuk churn pelanggan; orang dengan saldo yang lebih tinggi cenderung kurang mungkin meninggalkan. |\n",
    "| NumOfProducts       | Mengacu pada jumlah produk yang dibeli pelanggan melalui bank.                                          |\n",
    "| HasCrCard           | Menunjukkan apakah pelanggan memiliki kartu kredit; memiliki satu terkait dengan kemungkinan yang lebih rendah untuk meninggalkan. |\n",
    "| IsActiveMember      | Pelanggan aktif cenderung kurang mungkin meninggalkan bank.                                              |\n",
    "| EstimatedSalary     | Mirip dengan saldo; gaji yang lebih rendah terkait dengan kemungkinan yang lebih tinggi untuk meninggalkan. |\n",
    "| Exited              | Menunjukkan apakah pelanggan meninggalkan bank.                                                          |\n",
    "| Complain            | Menunjukkan apakah pelanggan telah mengajukan keluhan.                                                   |\n",
    "| Satisfaction Score  | Skor yang diberikan oleh pelanggan untuk penyelesaian keluhan mereka.                                   |\n",
    "| Card Type           | Jenis kartu yang dimiliki oleh pelanggan.                                                                |\n",
    "| Points Earned       | Poin yang diperoleh pelanggan untuk menggunakan kartu kredit.                                            |\n"
   ]
  },
  {
   "cell_type": "code",
   "execution_count": 2,
   "metadata": {},
   "outputs": [
    {
     "data": {
      "text/html": [
       "<div><style>\n",
       ".dataframe > thead > tr,\n",
       ".dataframe > tbody > tr {\n",
       "  text-align: right;\n",
       "  white-space: pre-wrap;\n",
       "}\n",
       "</style>\n",
       "<small>shape: (10_000, 17)</small><table border=\"1\" class=\"dataframe\"><thead><tr><th>CustomerId</th><th>Surname</th><th>CreditScore</th><th>Geography</th><th>Gender</th><th>Age</th><th>Tenure</th><th>Balance</th><th>NumOfProducts</th><th>HasCrCard</th><th>IsActiveMember</th><th>EstimatedSalary</th><th>Exited</th><th>Complain</th><th>Satisfaction Score</th><th>Card Type</th><th>Point Earned</th></tr><tr><td>i64</td><td>str</td><td>i32</td><td>str</td><td>str</td><td>i32</td><td>i32</td><td>f64</td><td>i32</td><td>i32</td><td>i32</td><td>f64</td><td>i32</td><td>i32</td><td>i32</td><td>str</td><td>i32</td></tr></thead><tbody><tr><td>15634602</td><td>&quot;Hargrave&quot;</td><td>619</td><td>&quot;France&quot;</td><td>&quot;Female&quot;</td><td>42</td><td>2</td><td>0.0</td><td>1</td><td>1</td><td>1</td><td>101348.88</td><td>1</td><td>1</td><td>2</td><td>&quot;DIAMOND&quot;</td><td>464</td></tr><tr><td>15647311</td><td>&quot;Hill&quot;</td><td>608</td><td>&quot;Spain&quot;</td><td>&quot;Female&quot;</td><td>41</td><td>1</td><td>83807.86</td><td>1</td><td>0</td><td>1</td><td>112542.58</td><td>0</td><td>1</td><td>3</td><td>&quot;DIAMOND&quot;</td><td>456</td></tr><tr><td>15619304</td><td>&quot;Onio&quot;</td><td>502</td><td>&quot;France&quot;</td><td>&quot;Female&quot;</td><td>42</td><td>8</td><td>159660.8</td><td>3</td><td>1</td><td>0</td><td>113931.57</td><td>1</td><td>1</td><td>3</td><td>&quot;DIAMOND&quot;</td><td>377</td></tr><tr><td>15701354</td><td>&quot;Boni&quot;</td><td>699</td><td>&quot;France&quot;</td><td>&quot;Female&quot;</td><td>39</td><td>1</td><td>0.0</td><td>2</td><td>0</td><td>0</td><td>93826.63</td><td>0</td><td>0</td><td>5</td><td>&quot;GOLD&quot;</td><td>350</td></tr><tr><td>15737888</td><td>&quot;Mitchell&quot;</td><td>850</td><td>&quot;Spain&quot;</td><td>&quot;Female&quot;</td><td>43</td><td>2</td><td>125510.82</td><td>1</td><td>1</td><td>1</td><td>79084.1</td><td>0</td><td>0</td><td>5</td><td>&quot;GOLD&quot;</td><td>425</td></tr><tr><td>&hellip;</td><td>&hellip;</td><td>&hellip;</td><td>&hellip;</td><td>&hellip;</td><td>&hellip;</td><td>&hellip;</td><td>&hellip;</td><td>&hellip;</td><td>&hellip;</td><td>&hellip;</td><td>&hellip;</td><td>&hellip;</td><td>&hellip;</td><td>&hellip;</td><td>&hellip;</td><td>&hellip;</td></tr><tr><td>15606229</td><td>&quot;Obijiaku&quot;</td><td>771</td><td>&quot;France&quot;</td><td>&quot;Male&quot;</td><td>39</td><td>5</td><td>0.0</td><td>2</td><td>1</td><td>0</td><td>96270.64</td><td>0</td><td>0</td><td>1</td><td>&quot;DIAMOND&quot;</td><td>300</td></tr><tr><td>15569892</td><td>&quot;Johnstone&quot;</td><td>516</td><td>&quot;France&quot;</td><td>&quot;Male&quot;</td><td>35</td><td>10</td><td>57369.61</td><td>1</td><td>1</td><td>1</td><td>101699.77</td><td>0</td><td>0</td><td>5</td><td>&quot;PLATINUM&quot;</td><td>771</td></tr><tr><td>15584532</td><td>&quot;Liu&quot;</td><td>709</td><td>&quot;France&quot;</td><td>&quot;Female&quot;</td><td>36</td><td>7</td><td>0.0</td><td>1</td><td>0</td><td>1</td><td>42085.58</td><td>1</td><td>1</td><td>3</td><td>&quot;SILVER&quot;</td><td>564</td></tr><tr><td>15682355</td><td>&quot;Sabbatini&quot;</td><td>772</td><td>&quot;Germany&quot;</td><td>&quot;Male&quot;</td><td>42</td><td>3</td><td>75075.31</td><td>2</td><td>1</td><td>0</td><td>92888.52</td><td>1</td><td>1</td><td>2</td><td>&quot;GOLD&quot;</td><td>339</td></tr><tr><td>15628319</td><td>&quot;Walker&quot;</td><td>792</td><td>&quot;France&quot;</td><td>&quot;Female&quot;</td><td>28</td><td>4</td><td>130142.79</td><td>1</td><td>1</td><td>0</td><td>38190.78</td><td>0</td><td>0</td><td>3</td><td>&quot;DIAMOND&quot;</td><td>911</td></tr></tbody></table></div>"
      ],
      "text/plain": [
       "shape: (10_000, 17)\n",
       "┌────────────┬───────────┬────────────┬───────────┬───┬──────────┬────────────┬───────────┬────────┐\n",
       "│ CustomerId ┆ Surname   ┆ CreditScor ┆ Geography ┆ … ┆ Complain ┆ Satisfacti ┆ Card Type ┆ Point  │\n",
       "│ ---        ┆ ---       ┆ e          ┆ ---       ┆   ┆ ---      ┆ on Score   ┆ ---       ┆ Earned │\n",
       "│ i64        ┆ str       ┆ ---        ┆ str       ┆   ┆ i32      ┆ ---        ┆ str       ┆ ---    │\n",
       "│            ┆           ┆ i32        ┆           ┆   ┆          ┆ i32        ┆           ┆ i32    │\n",
       "╞════════════╪═══════════╪════════════╪═══════════╪═══╪══════════╪════════════╪═══════════╪════════╡\n",
       "│ 15634602   ┆ Hargrave  ┆ 619        ┆ France    ┆ … ┆ 1        ┆ 2          ┆ DIAMOND   ┆ 464    │\n",
       "│ 15647311   ┆ Hill      ┆ 608        ┆ Spain     ┆ … ┆ 1        ┆ 3          ┆ DIAMOND   ┆ 456    │\n",
       "│ 15619304   ┆ Onio      ┆ 502        ┆ France    ┆ … ┆ 1        ┆ 3          ┆ DIAMOND   ┆ 377    │\n",
       "│ 15701354   ┆ Boni      ┆ 699        ┆ France    ┆ … ┆ 0        ┆ 5          ┆ GOLD      ┆ 350    │\n",
       "│ 15737888   ┆ Mitchell  ┆ 850        ┆ Spain     ┆ … ┆ 0        ┆ 5          ┆ GOLD      ┆ 425    │\n",
       "│ …          ┆ …         ┆ …          ┆ …         ┆ … ┆ …        ┆ …          ┆ …         ┆ …      │\n",
       "│ 15606229   ┆ Obijiaku  ┆ 771        ┆ France    ┆ … ┆ 0        ┆ 1          ┆ DIAMOND   ┆ 300    │\n",
       "│ 15569892   ┆ Johnstone ┆ 516        ┆ France    ┆ … ┆ 0        ┆ 5          ┆ PLATINUM  ┆ 771    │\n",
       "│ 15584532   ┆ Liu       ┆ 709        ┆ France    ┆ … ┆ 1        ┆ 3          ┆ SILVER    ┆ 564    │\n",
       "│ 15682355   ┆ Sabbatini ┆ 772        ┆ Germany   ┆ … ┆ 1        ┆ 2          ┆ GOLD      ┆ 339    │\n",
       "│ 15628319   ┆ Walker    ┆ 792        ┆ France    ┆ … ┆ 0        ┆ 3          ┆ DIAMOND   ┆ 911    │\n",
       "└────────────┴───────────┴────────────┴───────────┴───┴──────────┴────────────┴───────────┴────────┘"
      ]
     },
     "execution_count": 2,
     "metadata": {},
     "output_type": "execute_result"
    }
   ],
   "source": [
    "origin = pl.scan_csv(\"Dataset_milestone2.csv\")\n",
    "origin = origin.with_columns(\n",
    "    [\n",
    "        pl.exclude(['CustomerId','Surname','Geography','Gender','Balance','EstimatedSalary','Card Type']).cast(pl.Int32)\n",
    "    ]\n",
    ")\n",
    "\n",
    "origin = origin.collect()\n",
    "origin"
   ]
  },
  {
   "cell_type": "code",
   "execution_count": 3,
   "metadata": {},
   "outputs": [
    {
     "data": {
      "text/plain": [
       "0"
      ]
     },
     "execution_count": 3,
     "metadata": {},
     "output_type": "execute_result"
    }
   ],
   "source": [
    "# melakukan pengecekan pada baris terduplikasi\n",
    "origin.is_duplicated().sum()"
   ]
  },
  {
   "cell_type": "code",
   "execution_count": 4,
   "metadata": {},
   "outputs": [
    {
     "data": {
      "text/plain": [
       "False"
      ]
     },
     "execution_count": 4,
     "metadata": {},
     "output_type": "execute_result"
    }
   ],
   "source": [
    "# melakukan pengecekan nilai null/kosong pada keseluruhan kolom.\n",
    "origin.is_empty()"
   ]
  },
  {
   "cell_type": "markdown",
   "metadata": {},
   "source": [
    "## Insight :\n",
    "Pada data tidak terdapat nilai terduplikasi dan nilai kosong, sehingga untuk langkah selanjutnya tidak diperlukan handle pada keseluruhan data"
   ]
  },
  {
   "cell_type": "markdown",
   "metadata": {},
   "source": [
    "# 4. EDA"
   ]
  },
  {
   "cell_type": "code",
   "execution_count": 5,
   "metadata": {},
   "outputs": [],
   "source": [
    "# menginisiasi data untuk dilakukan Exploratory Data Analysis\n",
    "EDA_pl = origin.clone()\n",
    "filter = EDA_pl.filter(pl.col('Age')>=17).drop('Complain').select(pl.exclude(['CustomerId','Surname']))\n",
    "# filter.select(['Age','CreditScore','Point Earned']).to_series().hist(bin_count=3)"
   ]
  },
  {
   "cell_type": "code",
   "execution_count": 6,
   "metadata": {},
   "outputs": [],
   "source": [
    "filter1 = filter.clone()"
   ]
  },
  {
   "cell_type": "code",
   "execution_count": 7,
   "metadata": {},
   "outputs": [
    {
     "data": {
      "text/plain": [
       "Exited\n",
       "0    0.7962\n",
       "1    0.2038\n",
       "Name: proportion, dtype: float64"
      ]
     },
     "execution_count": 7,
     "metadata": {},
     "output_type": "execute_result"
    }
   ],
   "source": [
    "# menginisiasi data untuk dilakukan Exploratory Data Analysis\n",
    "EDA = origin.to_pandas()\n",
    "EDA.Exited.value_counts(normalize=True)"
   ]
  },
  {
   "cell_type": "code",
   "execution_count": 24,
   "metadata": {},
   "outputs": [
    {
     "name": "stdout",
     "output_type": "stream",
     "text": [
      "<class 'pandas.core.frame.DataFrame'>\n",
      "RangeIndex: 10000 entries, 0 to 9999\n",
      "Data columns (total 17 columns):\n",
      " #   Column              Non-Null Count  Dtype  \n",
      "---  ------              --------------  -----  \n",
      " 0   CustomerId          10000 non-null  int64  \n",
      " 1   Surname             10000 non-null  object \n",
      " 2   CreditScore         10000 non-null  int32  \n",
      " 3   Geography           10000 non-null  object \n",
      " 4   Gender              10000 non-null  object \n",
      " 5   Age                 10000 non-null  int32  \n",
      " 6   Tenure              10000 non-null  int32  \n",
      " 7   Balance             10000 non-null  float64\n",
      " 8   NumOfProducts       10000 non-null  int32  \n",
      " 9   HasCrCard           10000 non-null  int32  \n",
      " 10  IsActiveMember      10000 non-null  int32  \n",
      " 11  EstimatedSalary     10000 non-null  float64\n",
      " 12  Exited              10000 non-null  int32  \n",
      " 13  Complain            10000 non-null  int32  \n",
      " 14  Satisfaction Score  10000 non-null  int32  \n",
      " 15  Card Type           10000 non-null  object \n",
      " 16  Point Earned        10000 non-null  int32  \n",
      "dtypes: float64(2), int32(10), int64(1), object(4)\n",
      "memory usage: 937.6+ KB\n"
     ]
    }
   ],
   "source": [
    "EDA.info()"
   ]
  },
  {
   "cell_type": "code",
   "execution_count": 8,
   "metadata": {},
   "outputs": [
    {
     "name": "stdout",
     "output_type": "stream",
     "text": [
      "9996\n"
     ]
    }
   ],
   "source": [
    "\n",
    "### testing how similar 2 columns are\n",
    "testing_howsimilar = EDA[['Exited','Complain']]\n",
    "print(testing_howsimilar.duplicated().sum())\n",
    "\n"
   ]
  },
  {
   "cell_type": "code",
   "execution_count": 9,
   "metadata": {},
   "outputs": [
    {
     "data": {
      "image/png": "[encoded data removed]",
      "text/plain": [
       "<Figure size 1500x800 with 2 Axes>"
      ]
     },
     "metadata": {},
     "output_type": "display_data"
    }
   ],
   "source": [
    "\n",
    "cek = EDA.select_dtypes(include=np.number)\n",
    "corr_matrix = cek.corr()\n",
    "\n",
    "# Plot the heatmap\n",
    "plt.figure(figsize=(15, 8))\n",
    "sns.heatmap(corr_matrix, annot=True, fmt=\".2f\", cmap='coolwarm', linewidths=0.5)\n",
    "plt.title('Correlation Matrix Heatmap')\n",
    "plt.show()"
   ]
  },
  {
   "cell_type": "markdown",
   "metadata": {},
   "source": [
    "## insight:\n",
    "Variabel komplain menunjukkan hubungan yang sangat kuat (hampir 100% linear) dengan variabel yang menandakan keluarnya nasabah dari layanan bank. Namun, variabel ini terlalu menyederhanakan situasi karena hanya memiliki dua nilai: \"komplain\" dan \"tidak komplain\".\n",
    "Akibatnya, dalam konteks pembelajaran model, variabel ini berpotensi mendominasi hasil prediksi. Hal ini bisa menjadi masalah karena bisa mengurangi pengaruh variabel-variabel lain yang mungkin juga penting.\n",
    "Variabel komplain mungkin akan lebih bermanfaat jika memiliki tingkatan atau kategori yang lebih terperinci. Misalnya, jika ada klasifikasi jenis atau tingkat keparahan komplain, variabel ini bisa memberikan informasi yang lebih bernuansa dan berharga untuk model prediksi.<br>\n",
    "\n",
    "sehingga saat proses menuju modeling varibel ini tidak perlu digunakan."
   ]
  },
  {
   "cell_type": "markdown",
   "metadata": {},
   "source": [
    "## EDA 1"
   ]
  },
  {
   "cell_type": "code",
   "execution_count": 10,
   "metadata": {},
   "outputs": [
    {
     "data": {
      "image/png": "[encoded data removed]",
      "text/plain": [
       "<Figure size 1000x600 with 1 Axes>"
      ]
     },
     "metadata": {},
     "output_type": "display_data"
    }
   ],
   "source": [
    "eda4 = filter.group_by('Geography').agg([pl.col('Exited').sum()]).sort('Exited',descending=True)\n",
    "eda4_1 = eda4.to_pandas()\n",
    "\n",
    "# Plotting\n",
    "plt.figure(figsize=(10, 6))\n",
    "plt.bar(eda4_1['Geography'], eda4_1['Exited'], color='skyblue')\n",
    "plt.xlabel('Geography')\n",
    "plt.ylabel('Total Exited')\n",
    "plt.title('Total Exited by Geography')\n",
    "plt.xticks(rotation=45)\n",
    "plt.show()"
   ]
  },
  {
   "cell_type": "code",
   "execution_count": 11,
   "metadata": {},
   "outputs": [],
   "source": [
    "# eda5 = filter1.filter((pl.col('Exited')==1)).select(pl.exclude(['Geography','Exited']))\n",
    "# eda5_1 = filter1.filter((pl.col('Exited')==0)).select(pl.exclude(['Geography','Exited']))"
   ]
  },
  {
   "cell_type": "code",
   "execution_count": 12,
   "metadata": {},
   "outputs": [],
   "source": [
    "eda5 = filter1.filter((pl.col('Exited')==1)).select(pl.exclude('Exited'))\n",
    "eda5_1 = filter1.filter((pl.col('Exited')==0)).select(pl.exclude('Exited'))"
   ]
  },
  {
   "cell_type": "code",
   "execution_count": 13,
   "metadata": {},
   "outputs": [
    {
     "data": {
      "text/html": [
       "<div><style>\n",
       ".dataframe > thead > tr,\n",
       ".dataframe > tbody > tr {\n",
       "  text-align: right;\n",
       "  white-space: pre-wrap;\n",
       "}\n",
       "</style>\n",
       "<small>shape: (9, 5)</small><table border=\"1\" class=\"dataframe\"><thead><tr><th>statistic</th><th>Age</th><th>Balance</th><th>NumOfProducts</th><th>IsActiveMember</th></tr><tr><td>str</td><td>f64</td><td>f64</td><td>f64</td><td>f64</td></tr></thead><tbody><tr><td>&quot;count&quot;</td><td>2038.0</td><td>2038.0</td><td>2038.0</td><td>2038.0</td></tr><tr><td>&quot;null_count&quot;</td><td>0.0</td><td>0.0</td><td>0.0</td><td>0.0</td></tr><tr><td>&quot;mean&quot;</td><td>44.835623</td><td>91109.476006</td><td>1.475466</td><td>0.360648</td></tr><tr><td>&quot;std&quot;</td><td>9.759754</td><td>58346.483197</td><td>0.801408</td><td>0.480306</td></tr><tr><td>&quot;min&quot;</td><td>18.0</td><td>0.0</td><td>1.0</td><td>0.0</td></tr><tr><td>&quot;25%&quot;</td><td>38.0</td><td>38340.02</td><td>1.0</td><td>0.0</td></tr><tr><td>&quot;50%&quot;</td><td>45.0</td><td>109349.29</td><td>1.0</td><td>0.0</td></tr><tr><td>&quot;75%&quot;</td><td>51.0</td><td>131433.33</td><td>2.0</td><td>1.0</td></tr><tr><td>&quot;max&quot;</td><td>84.0</td><td>250898.09</td><td>4.0</td><td>1.0</td></tr></tbody></table></div>"
      ],
      "text/plain": [
       "shape: (9, 5)\n",
       "┌────────────┬───────────┬──────────────┬───────────────┬────────────────┐\n",
       "│ statistic  ┆ Age       ┆ Balance      ┆ NumOfProducts ┆ IsActiveMember │\n",
       "│ ---        ┆ ---       ┆ ---          ┆ ---           ┆ ---            │\n",
       "│ str        ┆ f64       ┆ f64          ┆ f64           ┆ f64            │\n",
       "╞════════════╪═══════════╪══════════════╪═══════════════╪════════════════╡\n",
       "│ count      ┆ 2038.0    ┆ 2038.0       ┆ 2038.0        ┆ 2038.0         │\n",
       "│ null_count ┆ 0.0       ┆ 0.0          ┆ 0.0           ┆ 0.0            │\n",
       "│ mean       ┆ 44.835623 ┆ 91109.476006 ┆ 1.475466      ┆ 0.360648       │\n",
       "│ std        ┆ 9.759754  ┆ 58346.483197 ┆ 0.801408      ┆ 0.480306       │\n",
       "│ min        ┆ 18.0      ┆ 0.0          ┆ 1.0           ┆ 0.0            │\n",
       "│ 25%        ┆ 38.0      ┆ 38340.02     ┆ 1.0           ┆ 0.0            │\n",
       "│ 50%        ┆ 45.0      ┆ 109349.29    ┆ 1.0           ┆ 0.0            │\n",
       "│ 75%        ┆ 51.0      ┆ 131433.33    ┆ 2.0           ┆ 1.0            │\n",
       "│ max        ┆ 84.0      ┆ 250898.09    ┆ 4.0           ┆ 1.0            │\n",
       "└────────────┴───────────┴──────────────┴───────────────┴────────────────┘"
      ]
     },
     "execution_count": 13,
     "metadata": {},
     "output_type": "execute_result"
    }
   ],
   "source": [
    "eda5.select(pl.col(['Age' , 'Balance' , 'NumOfProducts' , 'IsActiveMember' ])).describe()"
   ]
  },
  {
   "cell_type": "markdown",
   "metadata": {},
   "source": [
    "### Insight 1 : \n",
    "TL:DR<br>\n",
    "Umur nasabah yang memutuskan untuk berhenti menggunakan layanan bank berada direntan umur yang senior,dengan rata-rata  umurnya adalah 45 tahun dan tidak aktif sebagai member dari bank"
   ]
  },
  {
   "cell_type": "code",
   "execution_count": 14,
   "metadata": {},
   "outputs": [
    {
     "data": {
      "text/html": [
       "<div><style>\n",
       ".dataframe > thead > tr,\n",
       ".dataframe > tbody > tr {\n",
       "  text-align: right;\n",
       "  white-space: pre-wrap;\n",
       "}\n",
       "</style>\n",
       "<small>shape: (9, 5)</small><table border=\"1\" class=\"dataframe\"><thead><tr><th>statistic</th><th>Age</th><th>Balance</th><th>NumOfProducts</th><th>IsActiveMember</th></tr><tr><td>str</td><td>f64</td><td>f64</td><td>f64</td><td>f64</td></tr></thead><tbody><tr><td>&quot;count&quot;</td><td>7962.0</td><td>7962.0</td><td>7962.0</td><td>7962.0</td></tr><tr><td>&quot;null_count&quot;</td><td>0.0</td><td>0.0</td><td>0.0</td><td>0.0</td></tr><tr><td>&quot;mean&quot;</td><td>37.408063</td><td>72742.750663</td><td>1.54421</td><td>0.554635</td></tr><tr><td>&quot;std&quot;</td><td>10.125957</td><td>62851.577108</td><td>0.509542</td><td>0.497037</td></tr><tr><td>&quot;min&quot;</td><td>18.0</td><td>0.0</td><td>1.0</td><td>0.0</td></tr><tr><td>&quot;25%&quot;</td><td>31.0</td><td>0.0</td><td>1.0</td><td>0.0</td></tr><tr><td>&quot;50%&quot;</td><td>36.0</td><td>92072.68</td><td>2.0</td><td>1.0</td></tr><tr><td>&quot;75%&quot;</td><td>41.0</td><td>126428.38</td><td>2.0</td><td>1.0</td></tr><tr><td>&quot;max&quot;</td><td>92.0</td><td>221532.8</td><td>3.0</td><td>1.0</td></tr></tbody></table></div>"
      ],
      "text/plain": [
       "shape: (9, 5)\n",
       "┌────────────┬───────────┬──────────────┬───────────────┬────────────────┐\n",
       "│ statistic  ┆ Age       ┆ Balance      ┆ NumOfProducts ┆ IsActiveMember │\n",
       "│ ---        ┆ ---       ┆ ---          ┆ ---           ┆ ---            │\n",
       "│ str        ┆ f64       ┆ f64          ┆ f64           ┆ f64            │\n",
       "╞════════════╪═══════════╪══════════════╪═══════════════╪════════════════╡\n",
       "│ count      ┆ 7962.0    ┆ 7962.0       ┆ 7962.0        ┆ 7962.0         │\n",
       "│ null_count ┆ 0.0       ┆ 0.0          ┆ 0.0           ┆ 0.0            │\n",
       "│ mean       ┆ 37.408063 ┆ 72742.750663 ┆ 1.54421       ┆ 0.554635       │\n",
       "│ std        ┆ 10.125957 ┆ 62851.577108 ┆ 0.509542      ┆ 0.497037       │\n",
       "│ min        ┆ 18.0      ┆ 0.0          ┆ 1.0           ┆ 0.0            │\n",
       "│ 25%        ┆ 31.0      ┆ 0.0          ┆ 1.0           ┆ 0.0            │\n",
       "│ 50%        ┆ 36.0      ┆ 92072.68     ┆ 2.0           ┆ 1.0            │\n",
       "│ 75%        ┆ 41.0      ┆ 126428.38    ┆ 2.0           ┆ 1.0            │\n",
       "│ max        ┆ 92.0      ┆ 221532.8     ┆ 3.0           ┆ 1.0            │\n",
       "└────────────┴───────────┴──────────────┴───────────────┴────────────────┘"
      ]
     },
     "execution_count": 14,
     "metadata": {},
     "output_type": "execute_result"
    }
   ],
   "source": [
    "eda5_1.select(pl.col(['Age' , 'Balance' , 'NumOfProducts' , 'IsActiveMember' ])).describe()"
   ]
  },
  {
   "cell_type": "markdown",
   "metadata": {},
   "source": [
    "### Insight 2 :\n",
    "TL:DR <br>\n",
    "Umur nasabah yang memutuskan untuk berhenti menggunakan layanan bank berada direntan umur yang cukup muda,dengan rata-rata  umurnya adalah 37 tahun dan nasabah tersebut aktif sebagai member dari bank'"
   ]
  },
  {
   "cell_type": "markdown",
   "metadata": {},
   "source": [
    "## EDA 2"
   ]
  },
  {
   "cell_type": "code",
   "execution_count": 15,
   "metadata": {},
   "outputs": [
    {
     "data": {
      "image/png": "[encoded data removed]",
      "text/plain": [
       "<Figure size 1200x600 with 1 Axes>"
      ]
     },
     "metadata": {},
     "output_type": "display_data"
    }
   ],
   "source": [
    "plt.figure(figsize=(12, 6))\n",
    "sns.histplot(data=EDA, x='Age', hue='Exited', kde=True, element='step')\n",
    "plt.title('Distribusi Usia Nasabah berdasarkan Status Churn')\n",
    "plt.xlabel('Usia')\n",
    "plt.ylabel('Jumlah Nasabah')\n",
    "plt.show()"
   ]
  },
  {
   "cell_type": "markdown",
   "metadata": {},
   "source": [
    "### Insight :\n",
    "menurut jumlah nasabah yang bertahan dengan layanan bank lebih banyak dari yang memutuskan untuk keluar dari layanan bank dan hal tersebut menunjukkan bahwa pertanda baik untuk bank tersebut, namun jumlah nasabah yang memutuskan untuk keluar jika dilihat proporsi dari keseluruhan yaitu 20% dari keseluruhan data adalah hal yang perlu ditangani yaitu dengan menurunkannya, yang mana pada konteks ini hal yang perlu diperhatikannya adalah direntan umur 40 hingga 50 tahun. Hal yang memungkinkan untuk dilakukan penanganan seperti mencoba memberikan pendekatan-pendekatan yang membuat kelompok umur tersebut seperti (keluarga) merasa bagian dari bank tersebut sehingga mereka menjadi merasa tidak perlu untuk meninggalkan layanan bank tersebut."
   ]
  },
  {
   "cell_type": "markdown",
   "metadata": {},
   "source": [
    "## EDA 3"
   ]
  },
  {
   "cell_type": "code",
   "execution_count": 16,
   "metadata": {},
   "outputs": [],
   "source": [
    "eda3= EDA.query('Exited == 1')\n",
    "eda3_1= EDA.query('Exited == 0')"
   ]
  },
  {
   "cell_type": "code",
   "execution_count": 17,
   "metadata": {},
   "outputs": [
    {
     "data": {
      "image/png": "[encoded data removed]",
      "text/plain": [
       "<Figure size 1500x800 with 2 Axes>"
      ]
     },
     "metadata": {},
     "output_type": "display_data"
    }
   ],
   "source": [
    "product_churn = eda3.groupby('NumOfProducts')['Exited'].count().reset_index()\n",
    "product_churn1 = eda3_1.groupby('NumOfProducts')['Exited'].count().reset_index()\n",
    "\n",
    "fig, ( ax1,ax2) = plt.subplots(1,2, figsize =(15,8))\n",
    "# plt.figure(figsize=(10, 6))\n",
    "ax1.bar(product_churn['NumOfProducts'], product_churn['Exited'])\n",
    "\n",
    "ax1.set_title('Exited members')\n",
    "ax1.set_xlabel('Jumlah Produk')\n",
    "ax1.set_ylabel('Tingkat Churn')\n",
    "\n",
    "# Ensure x-axis shows integer values\n",
    "ax1.set_xticks(product_churn['NumOfProducts'])\n",
    "\n",
    "# Add value labels on top of each bar\n",
    "for i, v in enumerate(product_churn['Exited']):\n",
    "    ax1.text(product_churn['NumOfProducts'][i], v, f'{v:.2f}', ha='center', va='bottom')\n",
    "\n",
    "ax2.bar(product_churn1['NumOfProducts'], product_churn1['Exited'])\n",
    "\n",
    "ax2.set_title('Stay members')\n",
    "ax2.set_xlabel('Jumlah Produk')\n",
    "ax2.set_ylabel('Tingkat Churn')\n",
    "\n",
    "# Ensure x-axis shows integer values\n",
    "ax2.set_xticks(product_churn1['NumOfProducts'])\n",
    "\n",
    "# Add value labels on top of each bar\n",
    "for i, v in enumerate(product_churn1['Exited']):\n",
    "    ax2.text(product_churn1['NumOfProducts'][i], v, f'{v:.2f}', ha='center', va='bottom')\n",
    "\n",
    "plt.tight_layout()\n",
    "plt.show()"
   ]
  },
  {
   "cell_type": "code",
   "execution_count": 18,
   "metadata": {},
   "outputs": [
    {
     "data": {
      "image/png": "[encoded data removed]",
      "text/plain": [
       "<Figure size 1000x600 with 1 Axes>"
      ]
     },
     "metadata": {},
     "output_type": "display_data"
    }
   ],
   "source": [
    "product_churn = EDA.groupby('NumOfProducts')['Exited'].mean().reset_index()\n",
    "\n",
    "plt.figure(figsize=(10, 6))\n",
    "plt.bar(product_churn['NumOfProducts'], product_churn['Exited'])\n",
    "\n",
    "plt.title('Proporsi Churn berdasarkan Jumlah Produk')\n",
    "plt.xlabel('Jumlah Produk')\n",
    "plt.ylabel('Tingkat Churn')\n",
    "\n",
    "# Ensure x-axis shows integer values\n",
    "plt.xticks(product_churn['NumOfProducts'])\n",
    "\n",
    "# Add value labels on top of each bar\n",
    "for i, v in enumerate(product_churn['Exited']):\n",
    "    plt.text(product_churn['NumOfProducts'][i], v, f'{v:.2f}', ha='center', va='bottom')\n",
    "\n",
    "plt.tight_layout()\n",
    "plt.show()"
   ]
  },
  {
   "cell_type": "markdown",
   "metadata": {},
   "source": [
    "### Insight :\n",
    "semakin tinggi jumlah produk bank yang digun akan oleh nasabah kemungkinan nasabah tersebut akan memutuskan tiggal juga meningkat. hal tersebut bisa diindikasikan nasabah tersebut tidak bisa memenuhi kewajiban dari setiap produk yang digunakannya. Sehingga apabila nasabah menginginkan menambah produk dari layanan bank yang ingin mereka gunakan, bank perlu melakukan ricek lebih lanjut pada nasabah tersebut dalam bentuk apapun misalnya seperti peringatan awal bahwa \"nasabah tersebut belum memiliki cukup persiapan untuk melakukan penambahan layanan produk\" sehingga bisa meminimalisasi kehilangan nasabah dikemudian hari.<br>\n",
    "\n",
    "jumlah produk yang oke atau optimal untuk mempertahankan nasabah yang sudah mengguanakn layanan perbankan adalah orang yang memiliki jumlah card sebanyak 2 kartu untuk 1 orang. <br>"
   ]
  },
  {
   "cell_type": "markdown",
   "metadata": {},
   "source": [
    "## EDA 4"
   ]
  },
  {
   "cell_type": "code",
   "execution_count": 19,
   "metadata": {},
   "outputs": [
    {
     "data": {
      "text/html": [
       "<div>\n",
       "<style scoped>\n",
       "    .dataframe tbody tr th:only-of-type {\n",
       "        vertical-align: middle;\n",
       "    }\n",
       "\n",
       "    .dataframe tbody tr th {\n",
       "        vertical-align: top;\n",
       "    }\n",
       "\n",
       "    .dataframe thead th {\n",
       "        text-align: right;\n",
       "    }\n",
       "</style>\n",
       "<table border=\"1\" class=\"dataframe\">\n",
       "  <thead>\n",
       "    <tr style=\"text-align: right;\">\n",
       "      <th>Tenure</th>\n",
       "      <th>0</th>\n",
       "      <th>1</th>\n",
       "      <th>2</th>\n",
       "      <th>3</th>\n",
       "      <th>4</th>\n",
       "      <th>5</th>\n",
       "      <th>6</th>\n",
       "      <th>7</th>\n",
       "      <th>8</th>\n",
       "      <th>9</th>\n",
       "      <th>10</th>\n",
       "    </tr>\n",
       "    <tr>\n",
       "      <th>Exited</th>\n",
       "      <th></th>\n",
       "      <th></th>\n",
       "      <th></th>\n",
       "      <th></th>\n",
       "      <th></th>\n",
       "      <th></th>\n",
       "      <th></th>\n",
       "      <th></th>\n",
       "      <th></th>\n",
       "      <th></th>\n",
       "      <th></th>\n",
       "    </tr>\n",
       "  </thead>\n",
       "  <tbody>\n",
       "    <tr>\n",
       "      <th>0</th>\n",
       "      <td>318</td>\n",
       "      <td>803</td>\n",
       "      <td>847</td>\n",
       "      <td>796</td>\n",
       "      <td>786</td>\n",
       "      <td>803</td>\n",
       "      <td>771</td>\n",
       "      <td>851</td>\n",
       "      <td>828</td>\n",
       "      <td>770</td>\n",
       "      <td>389</td>\n",
       "    </tr>\n",
       "    <tr>\n",
       "      <th>1</th>\n",
       "      <td>95</td>\n",
       "      <td>232</td>\n",
       "      <td>201</td>\n",
       "      <td>213</td>\n",
       "      <td>203</td>\n",
       "      <td>209</td>\n",
       "      <td>196</td>\n",
       "      <td>177</td>\n",
       "      <td>197</td>\n",
       "      <td>214</td>\n",
       "      <td>101</td>\n",
       "    </tr>\n",
       "  </tbody>\n",
       "</table>\n",
       "</div>"
      ],
      "text/plain": [
       "Tenure   0    1    2    3    4    5    6    7    8    9    10\n",
       "Exited                                                       \n",
       "0       318  803  847  796  786  803  771  851  828  770  389\n",
       "1        95  232  201  213  203  209  196  177  197  214  101"
      ]
     },
     "execution_count": 19,
     "metadata": {},
     "output_type": "execute_result"
    }
   ],
   "source": [
    "tenure = EDA.groupby('Exited')['Tenure'].value_counts().unstack().fillna(0)\n",
    "tenure"
   ]
  },
  {
   "cell_type": "code",
   "execution_count": 20,
   "metadata": {},
   "outputs": [
    {
     "data": {
      "image/png": "[encoded data removed]",
      "text/plain": [
       "<Figure size 1000x600 with 1 Axes>"
      ]
     },
     "metadata": {},
     "output_type": "display_data"
    }
   ],
   "source": [
    "# Plotting the line chart with markers\n",
    "plt.figure(figsize=(10, 6))\n",
    "plt.plot(tenure.columns, tenure.loc[0], marker='o', linestyle='-', color='skyblue', label='Stayed')\n",
    "plt.plot(tenure.columns, tenure.loc[1], marker='o', linestyle='-', color='lightcoral', label='Exited')\n",
    "\n",
    "# Adding labels, title, and legend\n",
    "plt.xlabel('Tenure (Years)')\n",
    "plt.ylabel('Number of Members')\n",
    "plt.title('Comparison of Bank Members who stays and not')\n",
    "plt.legend(title='Exited')\n",
    "\n",
    "# Displaying the chart\n",
    "plt.show()"
   ]
  },
  {
   "cell_type": "code",
   "execution_count": 23,
   "metadata": {},
   "outputs": [
    {
     "data": {
      "image/png": "[encoded data removed]",
      "text/plain": [
       "<Figure size 1000x600 with 1 Axes>"
      ]
     },
     "metadata": {},
     "output_type": "display_data"
    }
   ],
   "source": [
    "plt.figure(figsize=(10, 6))\n",
    "plt.plot(tenure.columns, tenure.loc[1], marker='o', linestyle='-', color='red', label='Exited')\n",
    "\n",
    "# Adding labels, title, and legend\n",
    "plt.xlabel('Tenure (Years)')\n",
    "plt.ylabel('Number of Members')\n",
    "plt.title('Comparison of Bank Members who Exited')\n",
    "plt.legend()\n",
    "\n",
    "# Displaying the chart\n",
    "plt.show()"
   ]
  },
  {
   "cell_type": "markdown",
   "metadata": {},
   "source": [
    "### Insight :\n",
    "Untuk pelanggan baru (tenure 0), tingkat churn tinggi mungkin menunjukkan masalah dalam onboarding atau pengalaman awal. Retensi meningkat hingga 3-4 tahun tenure, namun churn tertinggi terjadi pada 1-2 tahun, menunjukkan periode kritis. Pelanggan jangka panjang (tenure 8-10) menunjukkan loyalitas tinggi, meski jumlahnya lebih sedikit. Fokus perlu diberikan pada pengurangan churn awal dan mengubah pelanggan jangka menengah menjadi loyal.<br>\n",
    "\n",
    "Tanda positif: retensi baik setelah tahun-tahun awal dan loyalitas kuat di pelanggan jangka panjang.<br>"
   ]
  },
  {
   "cell_type": "markdown",
   "metadata": {},
   "source": [
    "## EDA 5"
   ]
  },
  {
   "cell_type": "code",
   "execution_count": 21,
   "metadata": {},
   "outputs": [
    {
     "data": {
      "image/png": "[encoded data removed]",
      "text/plain": [
       "<Figure size 1000x800 with 2 Axes>"
      ]
     },
     "metadata": {},
     "output_type": "display_data"
    }
   ],
   "source": [
    "EDA['AgeGroup'] = pd.cut(EDA['Age'], bins=[0, 30, 40, 50, 60, 100], labels=['0-30', '31-40', '41-50', '51-60', '60+'])\n",
    "\n",
    "# Create BalanceGroup with dynamic labels based on actual bins created\n",
    "balance_bins = pd.qcut(EDA['Balance'], q=5, duplicates='drop')\n",
    "\n",
    "# Create labels dynamically based on the number of unique bins\n",
    "balance_labels = ['Very Low', 'Low', 'Medium', 'High', 'Very High'][:balance_bins.cat.categories.size]\n",
    "\n",
    "EDA['BalanceGroup'] = pd.qcut(EDA['Balance'], q=5, labels=balance_labels, duplicates='drop')\n",
    "\n",
    "# Now create the heatmap\n",
    "age_balance_churn = EDA.groupby(['AgeGroup', 'BalanceGroup'])['Exited'].mean().unstack()\n",
    "\n",
    "plt.figure(figsize=(10, 8))\n",
    "sns.heatmap(age_balance_churn, annot=True, cmap='YlOrRd', fmt='.2f')\n",
    "plt.title('Churn Rate by Age Group and Balance Group')\n",
    "plt.show()"
   ]
  },
  {
   "cell_type": "markdown",
   "metadata": {},
   "source": [
    "### Insight :\n",
    "Berdasarkan visualisasinya yang mengambarkan tingkat churn atau tingkat pelanggan yang berhenti berlangganan berdasarkan kelompok usia dan kelompok saldo rekening. Warna pada peta panas ini bervariasi dari kuning muda hingga merah tua, di mana warna yang lebih gelap menandakan tingkat churn yang lebih tinggi. Angka di dalam setiap sel menunjukkan persentase churn yang tepat untuk kombinasi kelompok usia dan saldo tertentu. Kelompok usia dibagi menjadi lima kategori: 0-30, 31-40, 41-50, 51-60, dan 60+ tahun. Sementara itu, saldo rekening dikelompokkan menjadi empat kategori dari \"Very Low\" (Sangat Rendah) hingga \"High\" (Tinggi). Terlihat bahwa tingkat churn tertinggi (0,63 atau 63%) terjadi pada kelompok usia 51-60 tahun dengan saldo rekening \"Medium\" (Menengah), sedangkan tingkat churn terendah (0,04 atau 4%) terdapat pada kelompok usia 0-30 tahun dengan saldo rekening \"Very Low\" (Sangat Rendah).\n"
   ]
  },
  {
   "cell_type": "markdown",
   "metadata": {},
   "source": [
    "## EDA 6"
   ]
  },
  {
   "cell_type": "code",
   "execution_count": 22,
   "metadata": {},
   "outputs": [
    {
     "name": "stdout",
     "output_type": "stream",
     "text": [
      "\n",
      "Churn rate for active members: 14.27%\n",
      "Churn rate for inactive members: 26.87%\n"
     ]
    }
   ],
   "source": [
    "active_churn = EDA[EDA['IsActiveMember'] == 1]['Exited'].mean()\n",
    "inactive_churn = EDA[EDA['IsActiveMember'] == 0]['Exited'].mean()\n",
    "print(f\"\\nChurn rate for active members: {active_churn:.2%}\")\n",
    "print(f\"Churn rate for inactive members: {inactive_churn:.2%}\")"
   ]
  },
  {
   "cell_type": "code",
   "execution_count": 23,
   "metadata": {},
   "outputs": [
    {
     "data": {
      "image/png": "[encoded data removed]",
      "text/plain": [
       "<Figure size 800x600 with 1 Axes>"
      ]
     },
     "metadata": {},
     "output_type": "display_data"
    }
   ],
   "source": [
    "categories = ['Active Members', 'Inactive Members']\n",
    "churn_rates = [active_churn, inactive_churn]\n",
    "\n",
    "# Plotting\n",
    "plt.figure(figsize=(8, 6))\n",
    "sns.barplot(x=categories, y=churn_rates, palette='Blues_d')\n",
    "\n",
    "# Adding title and labels\n",
    "plt.title('Churn Rate by Membership Status', fontsize=16)\n",
    "plt.ylabel('Churn Rate', fontsize=14)\n",
    "plt.xlabel('Membership Status', fontsize=14)\n",
    "plt.ylim(0, 1)\n",
    "\n",
    "# Annotate the bars with the churn rates\n",
    "for i in range(len(categories)):\n",
    "    plt.text(i, churn_rates[i] + 0.02, f\"{churn_rates[i]:.2%}\", ha='center', fontsize=12)\n",
    "\n",
    "plt.show()"
   ]
  },
  {
   "cell_type": "markdown",
   "metadata": {},
   "source": [
    "### Insight :\n",
    "Tingkat churn untuk anggota yang tidak aktif (26,87%) hampir dua kali lipat dibandingkan dengan anggota yang aktif (14,27%). Perbedaan signifikan ini menyoroti pentingnya keterlibatan pelanggan dalam retensi. Hal tersebut bisa diselesaikan seharusnya dengan meningkatkan aktivitas dan keterlibatan anggota bisa menjadi strategi yang kuat untuk mengurangi churn. <br>\n",
    "\n",
    "Bank harus fokus pada:<br>\n",
    "- Mengembangkan program untuk mengaktifkan kembali anggota yang tidak aktif.\n",
    "- Menyelidiki alasan mengapa anggota menjadi tidak aktif.\n",
    "- Menciptakan insentif untuk aktivitas akun yang teratur.\n",
    "- Meningkatkan pengalaman pelanggan secara keseluruhan untuk mendorong partisipasi aktif."
   ]
  },
  {
   "cell_type": "markdown",
   "metadata": {},
   "source": [
    "## EDA 7"
   ]
  },
  {
   "cell_type": "code",
   "execution_count": 24,
   "metadata": {},
   "outputs": [
    {
     "data": {
      "image/png": "[encoded data removed]",
      "text/plain": [
       "<Figure size 1200x500 with 2 Axes>"
      ]
     },
     "metadata": {},
     "output_type": "display_data"
    }
   ],
   "source": [
    "churned_gender_dist = EDA[EDA['Exited'] == 1]['Gender'].value_counts(normalize=True)\n",
    "retained_gender_dist = EDA[EDA['Exited'] == 0]['Gender'].value_counts(normalize=True)\n",
    "\n",
    "# Create a bar plot to visualize the distributions\n",
    "fig, (ax1, ax2) = plt.subplots(1, 2, figsize=(12, 5))\n",
    "churned_gender_dist.plot(kind='bar', ax=ax1, title='Nasabah yang memutuskan tidak menggunakan layanan bank')\n",
    "ax1.set_ylabel('Proportion')\n",
    "ax1.set_ylim(0, 1)\n",
    "\n",
    "retained_gender_dist.plot(kind='bar', ax=ax2, title='Nasabah yang tetap menggunakan layanan bank')\n",
    "ax2.set_ylabel('Proportion')\n",
    "ax2.set_ylim(0, 1)\n",
    "\n",
    "plt.tight_layout()\n",
    "plt.show()"
   ]
  },
  {
   "cell_type": "markdown",
   "metadata": {},
   "source": [
    "### Insight :\n",
    "Ada perbedaan yang mencolok dalam tingkat churn berdasarkan gender. Sekitar 60% pelanggan yang memutuskan untuk melepas layanan dengan bank adalah perempuan, sedangkan 60% pelanggan yang tetap adalah laki-laki. Ketidakseimbangan gender dalam tingkat churn ini perlu diperhatikan:<br>\n",
    "\n",
    "- Melakukan riset untuk memahami mengapa pelanggan perempuan lebih mungkin untuk pergi\n",
    "- Mengembangkan strategi retensi yang ditargetkan untuk pelanggan perempuan\n",
    "- Menganalisis penggunaan produk dan tingkat kepuasan berdasarkan gender\n",
    "- Mempertimbangkan untuk menciptakan atau memodifikasi produk/jasa untuk lebih memenuhi kebutuhan pelanggan perempuan\n",
    "- Memeriksa apakah ada bias tidak disengaja dalam pemasaran, layanan pelanggan, atau penawaran produk yang mungkin berdampak negatif pada pelanggan perempuan"
   ]
  },
  {
   "cell_type": "markdown",
   "metadata": {},
   "source": [
    "# 5. Feature Engineering"
   ]
  },
  {
   "cell_type": "code",
   "execution_count": 25,
   "metadata": {},
   "outputs": [],
   "source": [
    "origin_pd = origin.to_pandas()"
   ]
  },
  {
   "cell_type": "markdown",
   "metadata": {},
   "source": [
    "Cek data terduplikasi"
   ]
  },
  {
   "cell_type": "code",
   "execution_count": 26,
   "metadata": {},
   "outputs": [
    {
     "data": {
      "text/html": [
       "<div>\n",
       "<style scoped>\n",
       "    .dataframe tbody tr th:only-of-type {\n",
       "        vertical-align: middle;\n",
       "    }\n",
       "\n",
       "    .dataframe tbody tr th {\n",
       "        vertical-align: top;\n",
       "    }\n",
       "\n",
       "    .dataframe thead th {\n",
       "        text-align: right;\n",
       "    }\n",
       "</style>\n",
       "<table border=\"1\" class=\"dataframe\">\n",
       "  <thead>\n",
       "    <tr style=\"text-align: right;\">\n",
       "      <th></th>\n",
       "      <th>CustomerId</th>\n",
       "      <th>Surname</th>\n",
       "      <th>CreditScore</th>\n",
       "      <th>Geography</th>\n",
       "      <th>Gender</th>\n",
       "      <th>Age</th>\n",
       "      <th>Tenure</th>\n",
       "      <th>Balance</th>\n",
       "      <th>NumOfProducts</th>\n",
       "      <th>HasCrCard</th>\n",
       "      <th>IsActiveMember</th>\n",
       "      <th>EstimatedSalary</th>\n",
       "      <th>Exited</th>\n",
       "      <th>Complain</th>\n",
       "      <th>Satisfaction Score</th>\n",
       "      <th>Card Type</th>\n",
       "      <th>Point Earned</th>\n",
       "    </tr>\n",
       "  </thead>\n",
       "  <tbody>\n",
       "  </tbody>\n",
       "</table>\n",
       "</div>"
      ],
      "text/plain": [
       "Empty DataFrame\n",
       "Columns: [CustomerId, Surname, CreditScore, Geography, Gender, Age, Tenure, Balance, NumOfProducts, HasCrCard, IsActiveMember, EstimatedSalary, Exited, Complain, Satisfaction Score, Card Type, Point Earned]\n",
       "Index: []"
      ]
     },
     "execution_count": 26,
     "metadata": {},
     "output_type": "execute_result"
    }
   ],
   "source": [
    "origin_pd[origin_pd.duplicated(keep=False)]"
   ]
  },
  {
   "cell_type": "markdown",
   "metadata": {},
   "source": [
    "## 5.1 Data Spliting"
   ]
  },
  {
   "cell_type": "code",
   "execution_count": 27,
   "metadata": {},
   "outputs": [
    {
     "name": "stdout",
     "output_type": "stream",
     "text": [
      "<class 'pandas.core.frame.DataFrame'>\n",
      "RangeIndex: 10000 entries, 0 to 9999\n",
      "Data columns (total 17 columns):\n",
      " #   Column              Non-Null Count  Dtype  \n",
      "---  ------              --------------  -----  \n",
      " 0   CustomerId          10000 non-null  int64  \n",
      " 1   Surname             10000 non-null  object \n",
      " 2   CreditScore         10000 non-null  int32  \n",
      " 3   Geography           10000 non-null  object \n",
      " 4   Gender              10000 non-null  object \n",
      " 5   Age                 10000 non-null  int32  \n",
      " 6   Tenure              10000 non-null  int32  \n",
      " 7   Balance             10000 non-null  float64\n",
      " 8   NumOfProducts       10000 non-null  int32  \n",
      " 9   HasCrCard           10000 non-null  int32  \n",
      " 10  IsActiveMember      10000 non-null  int32  \n",
      " 11  EstimatedSalary     10000 non-null  float64\n",
      " 12  Exited              10000 non-null  int32  \n",
      " 13  Complain            10000 non-null  int32  \n",
      " 14  Satisfaction Score  10000 non-null  int32  \n",
      " 15  Card Type           10000 non-null  object \n",
      " 16  Point Earned        10000 non-null  int32  \n",
      "dtypes: float64(2), int32(10), int64(1), object(4)\n",
      "memory usage: 937.6+ KB\n"
     ]
    }
   ],
   "source": [
    "origin_pd.info()"
   ]
  },
  {
   "cell_type": "markdown",
   "metadata": {},
   "source": [
    "### 5.1.1 Memisahkan Fitur-Target & Train-Test data"
   ]
  },
  {
   "cell_type": "code",
   "execution_count": 28,
   "metadata": {},
   "outputs": [],
   "source": [
    "# Fitur - Target\n",
    "fitur_alt = origin_pd.drop((['Complain','Exited','CustomerId','Surname']),axis=1)\n",
    "target_alt = origin_pd['Exited']"
   ]
  },
  {
   "cell_type": "markdown",
   "metadata": {},
   "source": [
    "#### Insight :\n",
    "Pada proses EDA variabel complain mendominasi korelasi dengan target dibandingkan dengan korelasi variabel lainnya dengan target, lalu nilai yang terdapat pada variabel complain bentuknya terlalu luas untuk dijadikan sebuah parameter yang akan dihubungkan pada korelasi apakah nasabah suatu bank akan tidak lagi menggunakan produk dari bank tersebut atau tidak. Berdasarkan hal tersebut untuk variabel complain tidak akan digunakan pada proses latihan model machine learning."
   ]
  },
  {
   "cell_type": "code",
   "execution_count": 29,
   "metadata": {},
   "outputs": [],
   "source": [
    "# melakukan splitting data untuk proses training dan pengujian hasil dengan test set.\n",
    "x_train,x_test,y_train,y_test= train_test_split(fitur_alt,target_alt,random_state=42,test_size=0.21,stratify=target_alt)"
   ]
  },
  {
   "cell_type": "code",
   "execution_count": 30,
   "metadata": {},
   "outputs": [
    {
     "data": {
      "text/plain": [
       "Exited\n",
       "0    6290\n",
       "1    1610\n",
       "Name: count, dtype: int64"
      ]
     },
     "execution_count": 30,
     "metadata": {},
     "output_type": "execute_result"
    }
   ],
   "source": [
    "# melakukan pengecekan pada proporsi kelas pada target.\n",
    "y_train.value_counts()"
   ]
  },
  {
   "cell_type": "code",
   "execution_count": 31,
   "metadata": {},
   "outputs": [
    {
     "name": "stdout",
     "output_type": "stream",
     "text": [
      "<class 'pandas.core.frame.DataFrame'>\n",
      "Index: 7900 entries, 2379 to 4624\n",
      "Data columns (total 13 columns):\n",
      " #   Column              Non-Null Count  Dtype  \n",
      "---  ------              --------------  -----  \n",
      " 0   CreditScore         7900 non-null   int32  \n",
      " 1   Geography           7900 non-null   object \n",
      " 2   Gender              7900 non-null   object \n",
      " 3   Age                 7900 non-null   int32  \n",
      " 4   Tenure              7900 non-null   int32  \n",
      " 5   Balance             7900 non-null   float64\n",
      " 6   NumOfProducts       7900 non-null   int32  \n",
      " 7   HasCrCard           7900 non-null   int32  \n",
      " 8   IsActiveMember      7900 non-null   int32  \n",
      " 9   EstimatedSalary     7900 non-null   float64\n",
      " 10  Satisfaction Score  7900 non-null   int32  \n",
      " 11  Card Type           7900 non-null   object \n",
      " 12  Point Earned        7900 non-null   int32  \n",
      "dtypes: float64(2), int32(8), object(3)\n",
      "memory usage: 617.2+ KB\n"
     ]
    }
   ],
   "source": [
    "x_train.info()"
   ]
  },
  {
   "cell_type": "markdown",
   "metadata": {},
   "source": [
    "#### Insight :\n",
    "kondisi data imbalance pada kolom target prediksi yang ingin dilakukan modeling, perlu dihandle dengan SMOTE/SMOTENC"
   ]
  },
  {
   "cell_type": "code",
   "execution_count": 32,
   "metadata": {},
   "outputs": [],
   "source": [
    "# mereset ulang index setelah proses spliting agar kembali seperti normal.\n",
    "x_train.reset_index(drop=True,inplace=True)\n",
    "x_test.reset_index(drop=True,inplace=True)\n",
    "y_train.reset_index(drop=True,inplace=True)\n",
    "y_test.reset_index(drop=True,inplace=True)"
   ]
  },
  {
   "cell_type": "code",
   "execution_count": 33,
   "metadata": {},
   "outputs": [
    {
     "data": {
      "text/html": [
       "<div>\n",
       "<style scoped>\n",
       "    .dataframe tbody tr th:only-of-type {\n",
       "        vertical-align: middle;\n",
       "    }\n",
       "\n",
       "    .dataframe tbody tr th {\n",
       "        vertical-align: top;\n",
       "    }\n",
       "\n",
       "    .dataframe thead th {\n",
       "        text-align: right;\n",
       "    }\n",
       "</style>\n",
       "<table border=\"1\" class=\"dataframe\">\n",
       "  <thead>\n",
       "    <tr style=\"text-align: right;\">\n",
       "      <th></th>\n",
       "      <th>CreditScore</th>\n",
       "      <th>Geography</th>\n",
       "      <th>Gender</th>\n",
       "      <th>Age</th>\n",
       "      <th>Tenure</th>\n",
       "      <th>Balance</th>\n",
       "      <th>NumOfProducts</th>\n",
       "      <th>HasCrCard</th>\n",
       "      <th>IsActiveMember</th>\n",
       "      <th>EstimatedSalary</th>\n",
       "      <th>Satisfaction Score</th>\n",
       "      <th>Card Type</th>\n",
       "      <th>Point Earned</th>\n",
       "    </tr>\n",
       "  </thead>\n",
       "  <tbody>\n",
       "    <tr>\n",
       "      <th>3</th>\n",
       "      <td>675</td>\n",
       "      <td>France</td>\n",
       "      <td>Female</td>\n",
       "      <td>57</td>\n",
       "      <td>8</td>\n",
       "      <td>0.00</td>\n",
       "      <td>2</td>\n",
       "      <td>0</td>\n",
       "      <td>1</td>\n",
       "      <td>95463.29</td>\n",
       "      <td>3</td>\n",
       "      <td>SILVER</td>\n",
       "      <td>632</td>\n",
       "    </tr>\n",
       "    <tr>\n",
       "      <th>1998</th>\n",
       "      <td>746</td>\n",
       "      <td>Spain</td>\n",
       "      <td>Female</td>\n",
       "      <td>25</td>\n",
       "      <td>3</td>\n",
       "      <td>104833.79</td>\n",
       "      <td>1</td>\n",
       "      <td>0</td>\n",
       "      <td>0</td>\n",
       "      <td>71911.30</td>\n",
       "      <td>2</td>\n",
       "      <td>PLATINUM</td>\n",
       "      <td>367</td>\n",
       "    </tr>\n",
       "    <tr>\n",
       "      <th>259</th>\n",
       "      <td>644</td>\n",
       "      <td>France</td>\n",
       "      <td>Male</td>\n",
       "      <td>33</td>\n",
       "      <td>8</td>\n",
       "      <td>0.00</td>\n",
       "      <td>2</td>\n",
       "      <td>1</td>\n",
       "      <td>1</td>\n",
       "      <td>155294.17</td>\n",
       "      <td>5</td>\n",
       "      <td>SILVER</td>\n",
       "      <td>813</td>\n",
       "    </tr>\n",
       "    <tr>\n",
       "      <th>24</th>\n",
       "      <td>580</td>\n",
       "      <td>Germany</td>\n",
       "      <td>Male</td>\n",
       "      <td>24</td>\n",
       "      <td>1</td>\n",
       "      <td>133811.78</td>\n",
       "      <td>1</td>\n",
       "      <td>1</td>\n",
       "      <td>0</td>\n",
       "      <td>17185.95</td>\n",
       "      <td>2</td>\n",
       "      <td>DIAMOND</td>\n",
       "      <td>500</td>\n",
       "    </tr>\n",
       "    <tr>\n",
       "      <th>70</th>\n",
       "      <td>593</td>\n",
       "      <td>France</td>\n",
       "      <td>Male</td>\n",
       "      <td>36</td>\n",
       "      <td>2</td>\n",
       "      <td>70181.48</td>\n",
       "      <td>2</td>\n",
       "      <td>1</td>\n",
       "      <td>0</td>\n",
       "      <td>80608.12</td>\n",
       "      <td>3</td>\n",
       "      <td>PLATINUM</td>\n",
       "      <td>273</td>\n",
       "    </tr>\n",
       "  </tbody>\n",
       "</table>\n",
       "</div>"
      ],
      "text/plain": [
       "      CreditScore Geography  Gender  Age  Tenure    Balance  NumOfProducts  \\\n",
       "3             675    France  Female   57       8       0.00              2   \n",
       "1998          746     Spain  Female   25       3  104833.79              1   \n",
       "259           644    France    Male   33       8       0.00              2   \n",
       "24            580   Germany    Male   24       1  133811.78              1   \n",
       "70            593    France    Male   36       2   70181.48              2   \n",
       "\n",
       "      HasCrCard  IsActiveMember  EstimatedSalary  Satisfaction Score  \\\n",
       "3             0               1         95463.29                   3   \n",
       "1998          0               0         71911.30                   2   \n",
       "259           1               1        155294.17                   5   \n",
       "24            1               0         17185.95                   2   \n",
       "70            1               0         80608.12                   3   \n",
       "\n",
       "     Card Type  Point Earned  \n",
       "3       SILVER           632  \n",
       "1998  PLATINUM           367  \n",
       "259     SILVER           813  \n",
       "24     DIAMOND           500  \n",
       "70    PLATINUM           273  "
      ]
     },
     "execution_count": 33,
     "metadata": {},
     "output_type": "execute_result"
    }
   ],
   "source": [
    "# menentukan random index yang akan dipakai untuk sebagai data inference\n",
    "indexfordrop = [3,1998,259,24,70]\n",
    "\n",
    "# melakukan pengambilan data inference berdasarkan nomer indexnya dan menyimpannya kedalam bentuk csv baru.\n",
    "data_inf = x_train.iloc[indexfordrop]\n",
    "# data_inf.to_csv('data_inf.csv')\n",
    "data_inf\n",
    "\n"
   ]
  },
  {
   "cell_type": "code",
   "execution_count": 34,
   "metadata": {},
   "outputs": [],
   "source": [
    "# karena beberapa barisnya digunakan sebagai data inference maka barus pada yang akan gunakan pada proses selajutnya akan berkurang sebanyak data yang akan data inference yang diambil\n",
    "x_train.drop(index=indexfordrop,inplace=True)\n",
    "x_test.drop(index=indexfordrop,inplace=True)\n",
    "y_train.drop(index=indexfordrop,inplace=True)\n",
    "y_test.drop(index=indexfordrop,inplace=True)\n",
    "\n",
    "# mereset ulang index setelah drop agar kembali seperti normal.\n",
    "x_train.reset_index(drop=True,inplace=True)\n",
    "x_test.reset_index(drop=True,inplace=True)\n",
    "y_train.reset_index(drop=True,inplace=True)\n",
    "y_test.reset_index(drop=True,inplace=True)\n"
   ]
  },
  {
   "cell_type": "code",
   "execution_count": 35,
   "metadata": {},
   "outputs": [
    {
     "data": {
      "text/plain": [
       "Exited\n",
       "0    6286\n",
       "1    6286\n",
       "Name: count, dtype: int64"
      ]
     },
     "execution_count": 35,
     "metadata": {},
     "output_type": "execute_result"
    }
   ],
   "source": [
    "smotenc = SMOTENC([1,2,11],random_state=42)\n",
    "x_train,y_train = smotenc.fit_resample(x_train,y_train)\n",
    "y_train.value_counts()"
   ]
  },
  {
   "cell_type": "markdown",
   "metadata": {},
   "source": [
    "### 5.1.2 Memisahkan kolom berdasarkan jenisnya."
   ]
  },
  {
   "cell_type": "code",
   "execution_count": 36,
   "metadata": {},
   "outputs": [],
   "source": [
    "# make list of columns base on type.\n",
    "numeric_col = origin_pd[['CreditScore', 'Age', 'Tenure', 'Balance', 'EstimatedSalary', 'Point Earned']].columns.tolist()\n",
    "nominal_col = [\"IsActiveMember\",\"HasCrCard\",\"NumOfProducts\"]\n",
    "needhandle_nominal = [\"Gender\",\"Geography\"]\n",
    "ordinal_col = ['Satisfaction Score']\n",
    "needhandle_ordinal = ['Card Type']\n",
    "\n",
    "testingfunction = [\"Gender\",\"Geography\",'Card Type']"
   ]
  },
  {
   "cell_type": "markdown",
   "metadata": {},
   "source": [
    "## 5.2 Handling NaN"
   ]
  },
  {
   "cell_type": "code",
   "execution_count": 37,
   "metadata": {},
   "outputs": [
    {
     "data": {
      "text/html": [
       "<div>\n",
       "<style scoped>\n",
       "    .dataframe tbody tr th:only-of-type {\n",
       "        vertical-align: middle;\n",
       "    }\n",
       "\n",
       "    .dataframe tbody tr th {\n",
       "        vertical-align: top;\n",
       "    }\n",
       "\n",
       "    .dataframe thead th {\n",
       "        text-align: right;\n",
       "    }\n",
       "</style>\n",
       "<table border=\"1\" class=\"dataframe\">\n",
       "  <thead>\n",
       "    <tr style=\"text-align: right;\">\n",
       "      <th></th>\n",
       "      <th>CreditScore</th>\n",
       "      <th>Geography</th>\n",
       "      <th>Gender</th>\n",
       "      <th>Age</th>\n",
       "      <th>Tenure</th>\n",
       "      <th>Balance</th>\n",
       "      <th>NumOfProducts</th>\n",
       "      <th>HasCrCard</th>\n",
       "      <th>IsActiveMember</th>\n",
       "      <th>EstimatedSalary</th>\n",
       "      <th>Satisfaction Score</th>\n",
       "      <th>Card Type</th>\n",
       "      <th>Point Earned</th>\n",
       "    </tr>\n",
       "  </thead>\n",
       "  <tbody>\n",
       "  </tbody>\n",
       "</table>\n",
       "</div>"
      ],
      "text/plain": [
       "Empty DataFrame\n",
       "Columns: [CreditScore, Geography, Gender, Age, Tenure, Balance, NumOfProducts, HasCrCard, IsActiveMember, EstimatedSalary, Satisfaction Score, Card Type, Point Earned]\n",
       "Index: []"
      ]
     },
     "execution_count": 37,
     "metadata": {},
     "output_type": "execute_result"
    }
   ],
   "source": [
    "fitur_alt[fitur_alt.isnull().any(axis=1)]"
   ]
  },
  {
   "cell_type": "markdown",
   "metadata": {},
   "source": [
    "### 5.2.1 Insight :\n",
    "tidak ada data kosong yang perlu untuk dilakukan handling."
   ]
  },
  {
   "cell_type": "markdown",
   "metadata": {},
   "source": [
    "## 5.3 Handling Outlier"
   ]
  },
  {
   "cell_type": "code",
   "execution_count": 38,
   "metadata": {},
   "outputs": [
    {
     "name": "stdout",
     "output_type": "stream",
     "text": [
      " ================|| do from feature_engine.outliers import Winsorizer at the very top ||================||\n",
      "    winsoriser = Winsorizer(capping_method='iqr', # for normal dist, type 'gaussian': if still outlier out there put quantiles.\n",
      "                            tail='both',\n",
      "                            fold=       #3 for normal dist; 1.5 for moderate skew and 3 for extreme; 0.1 for quantiles.\n",
      "                            variables= #[list of outlier columns that need to be handle],\n",
      "                            missing_values='ignore')\n",
      "    \n",
      "    X_train_capped = winsoriser.fit_transform(X_train) # when using unsupervised only this line is needed.\n",
      "    X_test_capped = winsoriser.transform(X_test)\n",
      "\n",
      "    return X_train_capped, X_test_capped  when doing unsupervised, the return variable value is only one( which is the whole data )\n"
     ]
    }
   ],
   "source": [
    "help_handling_outlier()"
   ]
  },
  {
   "cell_type": "markdown",
   "metadata": {},
   "source": [
    "### insight :\n",
    "akan lakukan handling outlier pada kolom credit score dan age dengan menggunakan metode winsorizer yang akan melakukan pembatasan nilai teratas dan terbawah dengan alasan agar model machine learning yang akan digunakan dapat mempelajari data kita dengan lebih baik."
   ]
  },
  {
   "cell_type": "code",
   "execution_count": 39,
   "metadata": {},
   "outputs": [
    {
     "data": {
      "text/html": [
       "<div>\n",
       "<style scoped>\n",
       "    .dataframe tbody tr th:only-of-type {\n",
       "        vertical-align: middle;\n",
       "    }\n",
       "\n",
       "    .dataframe tbody tr th {\n",
       "        vertical-align: top;\n",
       "    }\n",
       "\n",
       "    .dataframe thead th {\n",
       "        text-align: right;\n",
       "    }\n",
       "</style>\n",
       "<table border=\"1\" class=\"dataframe\">\n",
       "  <thead>\n",
       "    <tr style=\"text-align: right;\">\n",
       "      <th></th>\n",
       "      <th>Nama-kolom</th>\n",
       "      <th>Nilai-Skewness</th>\n",
       "      <th>Status</th>\n",
       "      <th>Nilai-outlier</th>\n",
       "    </tr>\n",
       "  </thead>\n",
       "  <tbody>\n",
       "    <tr>\n",
       "      <th>0</th>\n",
       "      <td>CreditScore</td>\n",
       "      <td>-0.085697</td>\n",
       "      <td>Normal</td>\n",
       "      <td>[367, 350, 363, 365, 358, 373, 359, 357, 368, ...</td>\n",
       "    </tr>\n",
       "    <tr>\n",
       "      <th>1</th>\n",
       "      <td>Age</td>\n",
       "      <td>0.593847</td>\n",
       "      <td>Moderate</td>\n",
       "      <td>[71, 73, 72, 67, 69, 74, 78, 68, 70, 76, 84, 9...</td>\n",
       "    </tr>\n",
       "    <tr>\n",
       "      <th>2</th>\n",
       "      <td>Tenure</td>\n",
       "      <td>0.070904</td>\n",
       "      <td>Normal</td>\n",
       "      <td>[]</td>\n",
       "    </tr>\n",
       "    <tr>\n",
       "      <th>3</th>\n",
       "      <td>Balance</td>\n",
       "      <td>-0.293003</td>\n",
       "      <td>Normal</td>\n",
       "      <td>[]</td>\n",
       "    </tr>\n",
       "    <tr>\n",
       "      <th>4</th>\n",
       "      <td>EstimatedSalary</td>\n",
       "      <td>-0.008207</td>\n",
       "      <td>Normal</td>\n",
       "      <td>[]</td>\n",
       "    </tr>\n",
       "    <tr>\n",
       "      <th>5</th>\n",
       "      <td>Point Earned</td>\n",
       "      <td>0.032958</td>\n",
       "      <td>Normal</td>\n",
       "      <td>[]</td>\n",
       "    </tr>\n",
       "  </tbody>\n",
       "</table>\n",
       "</div>"
      ],
      "text/plain": [
       "        Nama-kolom  Nilai-Skewness    Status  \\\n",
       "0      CreditScore       -0.085697    Normal   \n",
       "1              Age        0.593847  Moderate   \n",
       "2           Tenure        0.070904    Normal   \n",
       "3          Balance       -0.293003    Normal   \n",
       "4  EstimatedSalary       -0.008207    Normal   \n",
       "5     Point Earned        0.032958    Normal   \n",
       "\n",
       "                                       Nilai-outlier  \n",
       "0  [367, 350, 363, 365, 358, 373, 359, 357, 368, ...  \n",
       "1  [71, 73, 72, 67, 69, 74, 78, 68, 70, 76, 84, 9...  \n",
       "2                                                 []  \n",
       "3                                                 []  \n",
       "4                                                 []  \n",
       "5                                                 []  "
      ]
     },
     "execution_count": 39,
     "metadata": {},
     "output_type": "execute_result"
    }
   ],
   "source": [
    "DistributionCheck(x_train,*numeric_col)"
   ]
  },
  {
   "cell_type": "code",
   "execution_count": 40,
   "metadata": {},
   "outputs": [],
   "source": [
    "winsoriser = Winsorizer(capping_method='gaussian', \n",
    "                            tail='both',\n",
    "                            fold= 2.0 ,      \n",
    "                            variables='CreditScore', \n",
    "                            missing_values='ignore')\n",
    "    \n",
    "capp_x_train = winsoriser.fit_transform(x_train)\n",
    "capp_x_test = winsoriser.transform(x_test)"
   ]
  },
  {
   "cell_type": "code",
   "execution_count": 41,
   "metadata": {},
   "outputs": [
    {
     "data": {
      "text/html": [
       "<div>\n",
       "<style scoped>\n",
       "    .dataframe tbody tr th:only-of-type {\n",
       "        vertical-align: middle;\n",
       "    }\n",
       "\n",
       "    .dataframe tbody tr th {\n",
       "        vertical-align: top;\n",
       "    }\n",
       "\n",
       "    .dataframe thead th {\n",
       "        text-align: right;\n",
       "    }\n",
       "</style>\n",
       "<table border=\"1\" class=\"dataframe\">\n",
       "  <thead>\n",
       "    <tr style=\"text-align: right;\">\n",
       "      <th></th>\n",
       "      <th>Nama-kolom</th>\n",
       "      <th>Nilai-Skewness</th>\n",
       "      <th>Status</th>\n",
       "      <th>Nilai-outlier</th>\n",
       "    </tr>\n",
       "  </thead>\n",
       "  <tbody>\n",
       "    <tr>\n",
       "      <th>0</th>\n",
       "      <td>CreditScore</td>\n",
       "      <td>-0.018504</td>\n",
       "      <td>Normal</td>\n",
       "      <td>[]</td>\n",
       "    </tr>\n",
       "    <tr>\n",
       "      <th>1</th>\n",
       "      <td>Age</td>\n",
       "      <td>0.593847</td>\n",
       "      <td>Moderate</td>\n",
       "      <td>[71, 73, 72, 67, 69, 74, 78, 68, 70, 76, 84, 9...</td>\n",
       "    </tr>\n",
       "    <tr>\n",
       "      <th>2</th>\n",
       "      <td>Tenure</td>\n",
       "      <td>0.070904</td>\n",
       "      <td>Normal</td>\n",
       "      <td>[]</td>\n",
       "    </tr>\n",
       "    <tr>\n",
       "      <th>3</th>\n",
       "      <td>Balance</td>\n",
       "      <td>-0.293003</td>\n",
       "      <td>Normal</td>\n",
       "      <td>[]</td>\n",
       "    </tr>\n",
       "    <tr>\n",
       "      <th>4</th>\n",
       "      <td>EstimatedSalary</td>\n",
       "      <td>-0.008207</td>\n",
       "      <td>Normal</td>\n",
       "      <td>[]</td>\n",
       "    </tr>\n",
       "    <tr>\n",
       "      <th>5</th>\n",
       "      <td>Point Earned</td>\n",
       "      <td>0.032958</td>\n",
       "      <td>Normal</td>\n",
       "      <td>[]</td>\n",
       "    </tr>\n",
       "  </tbody>\n",
       "</table>\n",
       "</div>"
      ],
      "text/plain": [
       "        Nama-kolom  Nilai-Skewness    Status  \\\n",
       "0      CreditScore       -0.018504    Normal   \n",
       "1              Age        0.593847  Moderate   \n",
       "2           Tenure        0.070904    Normal   \n",
       "3          Balance       -0.293003    Normal   \n",
       "4  EstimatedSalary       -0.008207    Normal   \n",
       "5     Point Earned        0.032958    Normal   \n",
       "\n",
       "                                       Nilai-outlier  \n",
       "0                                                 []  \n",
       "1  [71, 73, 72, 67, 69, 74, 78, 68, 70, 76, 84, 9...  \n",
       "2                                                 []  \n",
       "3                                                 []  \n",
       "4                                                 []  \n",
       "5                                                 []  "
      ]
     },
     "execution_count": 41,
     "metadata": {},
     "output_type": "execute_result"
    }
   ],
   "source": [
    "DistributionCheck(capp_x_train,*numeric_col)"
   ]
  },
  {
   "cell_type": "code",
   "execution_count": 42,
   "metadata": {},
   "outputs": [],
   "source": [
    "winsoriser = Winsorizer(capping_method='iqr', \n",
    "                            tail='both',\n",
    "                            fold= 1.5 ,      \n",
    "                            variables='Age', \n",
    "                            missing_values='ignore')\n",
    "    \n",
    "capp_x_train = winsoriser.fit_transform(capp_x_train)\n",
    "capp_x_test = winsoriser.transform(capp_x_test)"
   ]
  },
  {
   "cell_type": "code",
   "execution_count": 43,
   "metadata": {},
   "outputs": [
    {
     "data": {
      "text/html": [
       "<div>\n",
       "<style scoped>\n",
       "    .dataframe tbody tr th:only-of-type {\n",
       "        vertical-align: middle;\n",
       "    }\n",
       "\n",
       "    .dataframe tbody tr th {\n",
       "        vertical-align: top;\n",
       "    }\n",
       "\n",
       "    .dataframe thead th {\n",
       "        text-align: right;\n",
       "    }\n",
       "</style>\n",
       "<table border=\"1\" class=\"dataframe\">\n",
       "  <thead>\n",
       "    <tr style=\"text-align: right;\">\n",
       "      <th></th>\n",
       "      <th>Nama-kolom</th>\n",
       "      <th>Nilai-Skewness</th>\n",
       "      <th>Status</th>\n",
       "      <th>Nilai-outlier</th>\n",
       "    </tr>\n",
       "  </thead>\n",
       "  <tbody>\n",
       "    <tr>\n",
       "      <th>0</th>\n",
       "      <td>CreditScore</td>\n",
       "      <td>-0.018504</td>\n",
       "      <td>Normal</td>\n",
       "      <td>[]</td>\n",
       "    </tr>\n",
       "    <tr>\n",
       "      <th>1</th>\n",
       "      <td>Age</td>\n",
       "      <td>0.412890</td>\n",
       "      <td>Normal</td>\n",
       "      <td>[]</td>\n",
       "    </tr>\n",
       "    <tr>\n",
       "      <th>2</th>\n",
       "      <td>Tenure</td>\n",
       "      <td>0.070904</td>\n",
       "      <td>Normal</td>\n",
       "      <td>[]</td>\n",
       "    </tr>\n",
       "    <tr>\n",
       "      <th>3</th>\n",
       "      <td>Balance</td>\n",
       "      <td>-0.293003</td>\n",
       "      <td>Normal</td>\n",
       "      <td>[]</td>\n",
       "    </tr>\n",
       "    <tr>\n",
       "      <th>4</th>\n",
       "      <td>EstimatedSalary</td>\n",
       "      <td>-0.008207</td>\n",
       "      <td>Normal</td>\n",
       "      <td>[]</td>\n",
       "    </tr>\n",
       "    <tr>\n",
       "      <th>5</th>\n",
       "      <td>Point Earned</td>\n",
       "      <td>0.032958</td>\n",
       "      <td>Normal</td>\n",
       "      <td>[]</td>\n",
       "    </tr>\n",
       "  </tbody>\n",
       "</table>\n",
       "</div>"
      ],
      "text/plain": [
       "        Nama-kolom  Nilai-Skewness  Status Nilai-outlier\n",
       "0      CreditScore       -0.018504  Normal            []\n",
       "1              Age        0.412890  Normal            []\n",
       "2           Tenure        0.070904  Normal            []\n",
       "3          Balance       -0.293003  Normal            []\n",
       "4  EstimatedSalary       -0.008207  Normal            []\n",
       "5     Point Earned        0.032958  Normal            []"
      ]
     },
     "execution_count": 43,
     "metadata": {},
     "output_type": "execute_result"
    }
   ],
   "source": [
    "DistributionCheck(capp_x_train,*numeric_col)"
   ]
  },
  {
   "cell_type": "markdown",
   "metadata": {},
   "source": [
    "### insight :\n",
    "setelah dilakukan sensoring atau pembatasan pada rentan nilainya, keseluruhan data numerik distribusinya menjadi normal, walau proses capping ini tetap membutuhkan persetujuan dari pemilik data,  karena sebagai data scientist mau bagaimana pun data outlier  tetap penting bagi perusahaan maka jika tidak diperbolehkan biasanya akan dilakukan pemisahan nilai outlier pada tabel baru dan menghapusnya pada data yang ingin dilakukan modeling."
   ]
  },
  {
   "cell_type": "markdown",
   "metadata": {},
   "source": [
    "# 5.4. Feature selection (Feature Importance)"
   ]
  },
  {
   "cell_type": "markdown",
   "metadata": {},
   "source": [
    "Terlalu banyak varibel pada fitur sebuah model tidak memastikan hasilnya akan bagus, maka dengan itu dilakukan perhitungan kolom fitur mana yang memiliki korelasi dengan target sehingga model dapat mengenali dan mempelajari data yang dimiliki dengan lebih baik."
   ]
  },
  {
   "cell_type": "code",
   "execution_count": 44,
   "metadata": {},
   "outputs": [
    {
     "data": {
      "text/html": [
       "<div>\n",
       "<style scoped>\n",
       "    .dataframe tbody tr th:only-of-type {\n",
       "        vertical-align: middle;\n",
       "    }\n",
       "\n",
       "    .dataframe tbody tr th {\n",
       "        vertical-align: top;\n",
       "    }\n",
       "\n",
       "    .dataframe thead th {\n",
       "        text-align: right;\n",
       "    }\n",
       "</style>\n",
       "<table border=\"1\" class=\"dataframe\">\n",
       "  <thead>\n",
       "    <tr style=\"text-align: right;\">\n",
       "      <th></th>\n",
       "      <th>CreditScore</th>\n",
       "      <th>Geography</th>\n",
       "      <th>Gender</th>\n",
       "      <th>Age</th>\n",
       "      <th>Tenure</th>\n",
       "      <th>Balance</th>\n",
       "      <th>NumOfProducts</th>\n",
       "      <th>HasCrCard</th>\n",
       "      <th>IsActiveMember</th>\n",
       "      <th>EstimatedSalary</th>\n",
       "      <th>Satisfaction Score</th>\n",
       "      <th>Card Type</th>\n",
       "      <th>Point Earned</th>\n",
       "    </tr>\n",
       "  </thead>\n",
       "  <tbody>\n",
       "    <tr>\n",
       "      <th>2726</th>\n",
       "      <td>757.0</td>\n",
       "      <td>France</td>\n",
       "      <td>Female</td>\n",
       "      <td>44.0</td>\n",
       "      <td>4</td>\n",
       "      <td>123322.150000</td>\n",
       "      <td>1</td>\n",
       "      <td>1</td>\n",
       "      <td>0</td>\n",
       "      <td>137136.290000</td>\n",
       "      <td>2</td>\n",
       "      <td>GOLD</td>\n",
       "      <td>521</td>\n",
       "    </tr>\n",
       "    <tr>\n",
       "      <th>9867</th>\n",
       "      <td>657.0</td>\n",
       "      <td>France</td>\n",
       "      <td>Female</td>\n",
       "      <td>44.0</td>\n",
       "      <td>8</td>\n",
       "      <td>23511.178303</td>\n",
       "      <td>1</td>\n",
       "      <td>0</td>\n",
       "      <td>1</td>\n",
       "      <td>169860.836470</td>\n",
       "      <td>4</td>\n",
       "      <td>DIAMOND</td>\n",
       "      <td>283</td>\n",
       "    </tr>\n",
       "    <tr>\n",
       "      <th>11459</th>\n",
       "      <td>489.0</td>\n",
       "      <td>Germany</td>\n",
       "      <td>Female</td>\n",
       "      <td>35.0</td>\n",
       "      <td>7</td>\n",
       "      <td>112110.309445</td>\n",
       "      <td>1</td>\n",
       "      <td>0</td>\n",
       "      <td>0</td>\n",
       "      <td>197075.889489</td>\n",
       "      <td>2</td>\n",
       "      <td>SILVER</td>\n",
       "      <td>791</td>\n",
       "    </tr>\n",
       "  </tbody>\n",
       "</table>\n",
       "</div>"
      ],
      "text/plain": [
       "       CreditScore Geography  Gender   Age  Tenure        Balance  \\\n",
       "2726         757.0    France  Female  44.0       4  123322.150000   \n",
       "9867         657.0    France  Female  44.0       8   23511.178303   \n",
       "11459        489.0   Germany  Female  35.0       7  112110.309445   \n",
       "\n",
       "       NumOfProducts  HasCrCard  IsActiveMember  EstimatedSalary  \\\n",
       "2726               1          1               0    137136.290000   \n",
       "9867               1          0               1    169860.836470   \n",
       "11459              1          0               0    197075.889489   \n",
       "\n",
       "       Satisfaction Score Card Type  Point Earned  \n",
       "2726                    2      GOLD           521  \n",
       "9867                    4   DIAMOND           283  \n",
       "11459                   2    SILVER           791  "
      ]
     },
     "execution_count": 44,
     "metadata": {},
     "output_type": "execute_result"
    }
   ],
   "source": [
    "capp_x_train.sample(3)"
   ]
  },
  {
   "cell_type": "markdown",
   "metadata": {},
   "source": [
    "## 5.4.1 Mengkomparasi feature importance dengan model yang berbeda"
   ]
  },
  {
   "cell_type": "code",
   "execution_count": 45,
   "metadata": {},
   "outputs": [],
   "source": [
    "# memasitkan bahwa seluruh kolom selain user name dan id sudah ter=encode dengan baik\n",
    "\n",
    "testing = capp_x_train.copy()\n",
    "the_order = ['SILVER', 'GOLD', 'PLATINUM', 'DIAMOND']\n",
    "enc_fitur_alt = encode_categorical(testing,'Card Type',the_order)"
   ]
  },
  {
   "cell_type": "code",
   "execution_count": 46,
   "metadata": {},
   "outputs": [],
   "source": [
    "# mendefiniskan model\n",
    "model_1 = XGBClassifier()\n",
    "model_2 = RandomForestClassifier(random_state=42)"
   ]
  },
  {
   "cell_type": "markdown",
   "metadata": {},
   "source": [
    "### feature importance 1"
   ]
  },
  {
   "cell_type": "code",
   "execution_count": 47,
   "metadata": {},
   "outputs": [
    {
     "data": {
      "image/png": "[encoded data removed]",
      "text/plain": [
       "<Figure size 640x480 with 1 Axes>"
      ]
     },
     "metadata": {},
     "output_type": "display_data"
    }
   ],
   "source": [
    "vis_FeatureImportance(model_1,enc_fitur_alt,y_train,needhandle_nominal)"
   ]
  },
  {
   "cell_type": "markdown",
   "metadata": {},
   "source": [
    "TLDR :\n",
    "\n",
    "hanya ada 9 kolom yang akan terpilih jika ingin prediksi powernya model mencapai 90%"
   ]
  },
  {
   "cell_type": "markdown",
   "metadata": {},
   "source": [
    "### feature importance 2"
   ]
  },
  {
   "cell_type": "code",
   "execution_count": 48,
   "metadata": {},
   "outputs": [
    {
     "data": {
      "image/png": "[encoded data removed]",
      "text/plain": [
       "<Figure size 640x480 with 1 Axes>"
      ]
     },
     "metadata": {},
     "output_type": "display_data"
    }
   ],
   "source": [
    "vis_FeatureImportance(model_2,enc_fitur_alt,y_train,needhandle_nominal)"
   ]
  },
  {
   "cell_type": "markdown",
   "metadata": {},
   "source": [
    "TLDR :\n",
    "\n",
    "hanya ada 9 kolom yang akan terpilih jika ingin prediksi powernya model mencapai 90%"
   ]
  },
  {
   "cell_type": "code",
   "execution_count": 49,
   "metadata": {},
   "outputs": [],
   "source": [
    "def FeatureImportance_rank (model, df1:pd.DataFrame, df2:pd.DataFrame, args:list=None, treshold:float = 0.90):\n",
    "    ''' USED THIS TO A SUPERVISED LEARNING ONLY\n",
    "\n",
    "        model = tree-base function that will be used\n",
    "        \\n df1 = xtrain data\n",
    "        \\n df2 = ytrain data that already encoded\n",
    "        \\n * args = list of xtrain columns that need to be one hot encoded if already encoded just put None inside the argument \n",
    "        \\n IF THERES A CATEGORICAL COLUMNS, IT NEED TO BE ENCODED OUTSIDE THIS AND BEFORE USING THIS!!!\n",
    "        '''\n",
    "    \n",
    "    if args is not None:\n",
    "        X_train_ohe = pd.get_dummies(df1, prefix='', prefix_sep='', columns=args,) # its a column that need to be encoded\n",
    "    else :\n",
    "        X_train_ohe = df1.copy()\n",
    "\n",
    "    y_train_ohe = df2.copy()\n",
    "    model.fit(X_train_ohe, y_train_ohe)\n",
    "\n",
    "    feat_importances = pd.Series(model.feature_importances_, index=X_train_ohe.columns)\n",
    "    feat_importances = feat_importances.sort_values(ascending=False)\n",
    "    cumulative_importance = feat_importances.cumsum()\n",
    "    return cumulative_importance[cumulative_importance <= treshold]\n",
    "\n",
    "    "
   ]
  },
  {
   "cell_type": "code",
   "execution_count": 50,
   "metadata": {},
   "outputs": [],
   "source": [
    "def FeatureImportance_rank_based (model, df1:pd.DataFrame, df2:pd.DataFrame, args:list=None, treshold:float = 0.90):\n",
    "    ''' USED THIS TO A SUPERVISED LEARNING ONLY\n",
    "\n",
    "        model = tree-base function that will be used\n",
    "        \\n df1 = xtrain data\n",
    "        \\n df2 = ytrain data that already encoded\n",
    "        \\n * args = list of xtrain columns that need to be one hot encoded if already encoded just put None inside the argument \n",
    "        \\n IF THERES A CATEGORICAL COLUMNS, IT NEED TO BE ENCODED OUTSIDE THIS AND BEFORE USING THIS!!!\n",
    "        '''\n",
    "    \n",
    "    X_train_processed = df1.copy()\n",
    "    \n",
    "    if args is not None:\n",
    "        encoder = OrdinalEncoder()\n",
    "        X_train_processed[args] = encoder.fit_transform(df1[args])\n",
    "        \n",
    "    y_train_ohe = df2.copy()\n",
    "    model.fit(X_train_processed, y_train_ohe)\n",
    "\n",
    "    feat_importances = pd.Series(model.feature_importances_, index=X_train_processed.columns)\n",
    "    feat_importances = feat_importances.sort_values(ascending=False)\n",
    "    cumulative_importance = feat_importances.cumsum()\n",
    "\n",
    "    return cumulative_importance[cumulative_importance <= treshold]\n",
    "\n",
    "    "
   ]
  },
  {
   "cell_type": "markdown",
   "metadata": {},
   "source": [
    "### menghitung feature importance yang mencakup 90% confidence hasil prediksi"
   ]
  },
  {
   "cell_type": "code",
   "execution_count": 51,
   "metadata": {},
   "outputs": [],
   "source": [
    "best_feature = FeatureImportance_rank(model_2,enc_fitur_alt,y_train,needhandle_nominal).keys().tolist()"
   ]
  },
  {
   "cell_type": "code",
   "execution_count": 52,
   "metadata": {},
   "outputs": [
    {
     "name": "stdout",
     "output_type": "stream",
     "text": [
      "9\n",
      "['Age', 'Balance', 'IsActiveMember', 'NumOfProducts', 'EstimatedSalary', 'Point Earned', 'CreditScore', 'Tenure', 'Satisfaction Score']\n"
     ]
    }
   ],
   "source": [
    "print(len(best_feature))\n",
    "print(best_feature)"
   ]
  },
  {
   "cell_type": "code",
   "execution_count": 53,
   "metadata": {},
   "outputs": [
    {
     "name": "stdout",
     "output_type": "stream",
     "text": [
      "9\n",
      "['Age', 'NumOfProducts', 'Balance', 'IsActiveMember', 'EstimatedSalary', 'Point Earned', 'CreditScore', 'Tenure', 'Satisfaction Score']\n"
     ]
    }
   ],
   "source": [
    "testfunc = FeatureImportance_rank_based(model_2,capp_x_train,y_train,testingfunction).keys().tolist()\n",
    "print(len(testfunc))\n",
    "print(testfunc)"
   ]
  },
  {
   "cell_type": "markdown",
   "metadata": {},
   "source": [
    "### Insight :\n",
    "menurut perhitungan feature importance menggunakan randomforestclassifier kolom atau variabel yang menyumbang secara kumulatif berkontribusi dalam memastikan model dapat mempengaruhi model untuk memprediksi suatu data dan memprediksi data baru."
   ]
  },
  {
   "cell_type": "code",
   "execution_count": 54,
   "metadata": {},
   "outputs": [
    {
     "data": {
      "text/html": [
       "<div>\n",
       "<style scoped>\n",
       "    .dataframe tbody tr th:only-of-type {\n",
       "        vertical-align: middle;\n",
       "    }\n",
       "\n",
       "    .dataframe tbody tr th {\n",
       "        vertical-align: top;\n",
       "    }\n",
       "\n",
       "    .dataframe thead th {\n",
       "        text-align: right;\n",
       "    }\n",
       "</style>\n",
       "<table border=\"1\" class=\"dataframe\">\n",
       "  <thead>\n",
       "    <tr style=\"text-align: right;\">\n",
       "      <th></th>\n",
       "      <th>CustomerId</th>\n",
       "      <th>Surname</th>\n",
       "      <th>CreditScore</th>\n",
       "      <th>Geography</th>\n",
       "      <th>Gender</th>\n",
       "      <th>Age</th>\n",
       "      <th>Tenure</th>\n",
       "      <th>Balance</th>\n",
       "      <th>NumOfProducts</th>\n",
       "      <th>HasCrCard</th>\n",
       "      <th>IsActiveMember</th>\n",
       "      <th>EstimatedSalary</th>\n",
       "      <th>Exited</th>\n",
       "      <th>Complain</th>\n",
       "      <th>Satisfaction Score</th>\n",
       "      <th>Card Type</th>\n",
       "      <th>Point Earned</th>\n",
       "    </tr>\n",
       "  </thead>\n",
       "  <tbody>\n",
       "    <tr>\n",
       "      <th>0</th>\n",
       "      <td>15634602</td>\n",
       "      <td>Hargrave</td>\n",
       "      <td>619</td>\n",
       "      <td>France</td>\n",
       "      <td>Female</td>\n",
       "      <td>42</td>\n",
       "      <td>2</td>\n",
       "      <td>0.00</td>\n",
       "      <td>1</td>\n",
       "      <td>1</td>\n",
       "      <td>1</td>\n",
       "      <td>101348.88</td>\n",
       "      <td>1</td>\n",
       "      <td>1</td>\n",
       "      <td>2</td>\n",
       "      <td>DIAMOND</td>\n",
       "      <td>464</td>\n",
       "    </tr>\n",
       "    <tr>\n",
       "      <th>1</th>\n",
       "      <td>15647311</td>\n",
       "      <td>Hill</td>\n",
       "      <td>608</td>\n",
       "      <td>Spain</td>\n",
       "      <td>Female</td>\n",
       "      <td>41</td>\n",
       "      <td>1</td>\n",
       "      <td>83807.86</td>\n",
       "      <td>1</td>\n",
       "      <td>0</td>\n",
       "      <td>1</td>\n",
       "      <td>112542.58</td>\n",
       "      <td>0</td>\n",
       "      <td>1</td>\n",
       "      <td>3</td>\n",
       "      <td>DIAMOND</td>\n",
       "      <td>456</td>\n",
       "    </tr>\n",
       "    <tr>\n",
       "      <th>2</th>\n",
       "      <td>15619304</td>\n",
       "      <td>Onio</td>\n",
       "      <td>502</td>\n",
       "      <td>France</td>\n",
       "      <td>Female</td>\n",
       "      <td>42</td>\n",
       "      <td>8</td>\n",
       "      <td>159660.80</td>\n",
       "      <td>3</td>\n",
       "      <td>1</td>\n",
       "      <td>0</td>\n",
       "      <td>113931.57</td>\n",
       "      <td>1</td>\n",
       "      <td>1</td>\n",
       "      <td>3</td>\n",
       "      <td>DIAMOND</td>\n",
       "      <td>377</td>\n",
       "    </tr>\n",
       "    <tr>\n",
       "      <th>3</th>\n",
       "      <td>15701354</td>\n",
       "      <td>Boni</td>\n",
       "      <td>699</td>\n",
       "      <td>France</td>\n",
       "      <td>Female</td>\n",
       "      <td>39</td>\n",
       "      <td>1</td>\n",
       "      <td>0.00</td>\n",
       "      <td>2</td>\n",
       "      <td>0</td>\n",
       "      <td>0</td>\n",
       "      <td>93826.63</td>\n",
       "      <td>0</td>\n",
       "      <td>0</td>\n",
       "      <td>5</td>\n",
       "      <td>GOLD</td>\n",
       "      <td>350</td>\n",
       "    </tr>\n",
       "    <tr>\n",
       "      <th>4</th>\n",
       "      <td>15737888</td>\n",
       "      <td>Mitchell</td>\n",
       "      <td>850</td>\n",
       "      <td>Spain</td>\n",
       "      <td>Female</td>\n",
       "      <td>43</td>\n",
       "      <td>2</td>\n",
       "      <td>125510.82</td>\n",
       "      <td>1</td>\n",
       "      <td>1</td>\n",
       "      <td>1</td>\n",
       "      <td>79084.10</td>\n",
       "      <td>0</td>\n",
       "      <td>0</td>\n",
       "      <td>5</td>\n",
       "      <td>GOLD</td>\n",
       "      <td>425</td>\n",
       "    </tr>\n",
       "    <tr>\n",
       "      <th>...</th>\n",
       "      <td>...</td>\n",
       "      <td>...</td>\n",
       "      <td>...</td>\n",
       "      <td>...</td>\n",
       "      <td>...</td>\n",
       "      <td>...</td>\n",
       "      <td>...</td>\n",
       "      <td>...</td>\n",
       "      <td>...</td>\n",
       "      <td>...</td>\n",
       "      <td>...</td>\n",
       "      <td>...</td>\n",
       "      <td>...</td>\n",
       "      <td>...</td>\n",
       "      <td>...</td>\n",
       "      <td>...</td>\n",
       "      <td>...</td>\n",
       "    </tr>\n",
       "    <tr>\n",
       "      <th>9995</th>\n",
       "      <td>15606229</td>\n",
       "      <td>Obijiaku</td>\n",
       "      <td>771</td>\n",
       "      <td>France</td>\n",
       "      <td>Male</td>\n",
       "      <td>39</td>\n",
       "      <td>5</td>\n",
       "      <td>0.00</td>\n",
       "      <td>2</td>\n",
       "      <td>1</td>\n",
       "      <td>0</td>\n",
       "      <td>96270.64</td>\n",
       "      <td>0</td>\n",
       "      <td>0</td>\n",
       "      <td>1</td>\n",
       "      <td>DIAMOND</td>\n",
       "      <td>300</td>\n",
       "    </tr>\n",
       "    <tr>\n",
       "      <th>9996</th>\n",
       "      <td>15569892</td>\n",
       "      <td>Johnstone</td>\n",
       "      <td>516</td>\n",
       "      <td>France</td>\n",
       "      <td>Male</td>\n",
       "      <td>35</td>\n",
       "      <td>10</td>\n",
       "      <td>57369.61</td>\n",
       "      <td>1</td>\n",
       "      <td>1</td>\n",
       "      <td>1</td>\n",
       "      <td>101699.77</td>\n",
       "      <td>0</td>\n",
       "      <td>0</td>\n",
       "      <td>5</td>\n",
       "      <td>PLATINUM</td>\n",
       "      <td>771</td>\n",
       "    </tr>\n",
       "    <tr>\n",
       "      <th>9997</th>\n",
       "      <td>15584532</td>\n",
       "      <td>Liu</td>\n",
       "      <td>709</td>\n",
       "      <td>France</td>\n",
       "      <td>Female</td>\n",
       "      <td>36</td>\n",
       "      <td>7</td>\n",
       "      <td>0.00</td>\n",
       "      <td>1</td>\n",
       "      <td>0</td>\n",
       "      <td>1</td>\n",
       "      <td>42085.58</td>\n",
       "      <td>1</td>\n",
       "      <td>1</td>\n",
       "      <td>3</td>\n",
       "      <td>SILVER</td>\n",
       "      <td>564</td>\n",
       "    </tr>\n",
       "    <tr>\n",
       "      <th>9998</th>\n",
       "      <td>15682355</td>\n",
       "      <td>Sabbatini</td>\n",
       "      <td>772</td>\n",
       "      <td>Germany</td>\n",
       "      <td>Male</td>\n",
       "      <td>42</td>\n",
       "      <td>3</td>\n",
       "      <td>75075.31</td>\n",
       "      <td>2</td>\n",
       "      <td>1</td>\n",
       "      <td>0</td>\n",
       "      <td>92888.52</td>\n",
       "      <td>1</td>\n",
       "      <td>1</td>\n",
       "      <td>2</td>\n",
       "      <td>GOLD</td>\n",
       "      <td>339</td>\n",
       "    </tr>\n",
       "    <tr>\n",
       "      <th>9999</th>\n",
       "      <td>15628319</td>\n",
       "      <td>Walker</td>\n",
       "      <td>792</td>\n",
       "      <td>France</td>\n",
       "      <td>Female</td>\n",
       "      <td>28</td>\n",
       "      <td>4</td>\n",
       "      <td>130142.79</td>\n",
       "      <td>1</td>\n",
       "      <td>1</td>\n",
       "      <td>0</td>\n",
       "      <td>38190.78</td>\n",
       "      <td>0</td>\n",
       "      <td>0</td>\n",
       "      <td>3</td>\n",
       "      <td>DIAMOND</td>\n",
       "      <td>911</td>\n",
       "    </tr>\n",
       "  </tbody>\n",
       "</table>\n",
       "<p>10000 rows × 17 columns</p>\n",
       "</div>"
      ],
      "text/plain": [
       "      CustomerId    Surname  CreditScore Geography  Gender  Age  Tenure  \\\n",
       "0       15634602   Hargrave          619    France  Female   42       2   \n",
       "1       15647311       Hill          608     Spain  Female   41       1   \n",
       "2       15619304       Onio          502    France  Female   42       8   \n",
       "3       15701354       Boni          699    France  Female   39       1   \n",
       "4       15737888   Mitchell          850     Spain  Female   43       2   \n",
       "...          ...        ...          ...       ...     ...  ...     ...   \n",
       "9995    15606229   Obijiaku          771    France    Male   39       5   \n",
       "9996    15569892  Johnstone          516    France    Male   35      10   \n",
       "9997    15584532        Liu          709    France  Female   36       7   \n",
       "9998    15682355  Sabbatini          772   Germany    Male   42       3   \n",
       "9999    15628319     Walker          792    France  Female   28       4   \n",
       "\n",
       "        Balance  NumOfProducts  HasCrCard  IsActiveMember  EstimatedSalary  \\\n",
       "0          0.00              1          1               1        101348.88   \n",
       "1      83807.86              1          0               1        112542.58   \n",
       "2     159660.80              3          1               0        113931.57   \n",
       "3          0.00              2          0               0         93826.63   \n",
       "4     125510.82              1          1               1         79084.10   \n",
       "...         ...            ...        ...             ...              ...   \n",
       "9995       0.00              2          1               0         96270.64   \n",
       "9996   57369.61              1          1               1        101699.77   \n",
       "9997       0.00              1          0               1         42085.58   \n",
       "9998   75075.31              2          1               0         92888.52   \n",
       "9999  130142.79              1          1               0         38190.78   \n",
       "\n",
       "      Exited  Complain  Satisfaction Score Card Type  Point Earned  \n",
       "0          1         1                   2   DIAMOND           464  \n",
       "1          0         1                   3   DIAMOND           456  \n",
       "2          1         1                   3   DIAMOND           377  \n",
       "3          0         0                   5      GOLD           350  \n",
       "4          0         0                   5      GOLD           425  \n",
       "...      ...       ...                 ...       ...           ...  \n",
       "9995       0         0                   1   DIAMOND           300  \n",
       "9996       0         0                   5  PLATINUM           771  \n",
       "9997       1         1                   3    SILVER           564  \n",
       "9998       1         1                   2      GOLD           339  \n",
       "9999       0         0                   3   DIAMOND           911  \n",
       "\n",
       "[10000 rows x 17 columns]"
      ]
     },
     "execution_count": 54,
     "metadata": {},
     "output_type": "execute_result"
    }
   ],
   "source": [
    "origin_pd"
   ]
  },
  {
   "cell_type": "markdown",
   "metadata": {},
   "source": [
    "Berdasarkan hasil perhitungan featureimportancenya feature yang jika nilai kumulatifnya digabung dan mencakup 90% kuatnya prediksi adalah 9 kolom berikut dari 17 kolom yang ada ; \n",
    "> ['Age','Balance','IsActiveMember','NumOfProducts','EstimatedSalary','Point Earned','CreditScore','Tenure','Satisfaction Score']"
   ]
  },
  {
   "cell_type": "code",
   "execution_count": 55,
   "metadata": {},
   "outputs": [],
   "source": [
    "# Men-apply hasil fitur-seleksi\n",
    "new_train = capp_x_train[best_feature]\n",
    "new_test = capp_x_test[best_feature]"
   ]
  },
  {
   "cell_type": "code",
   "execution_count": 56,
   "metadata": {},
   "outputs": [
    {
     "data": {
      "text/html": [
       "<div>\n",
       "<style scoped>\n",
       "    .dataframe tbody tr th:only-of-type {\n",
       "        vertical-align: middle;\n",
       "    }\n",
       "\n",
       "    .dataframe tbody tr th {\n",
       "        vertical-align: top;\n",
       "    }\n",
       "\n",
       "    .dataframe thead th {\n",
       "        text-align: right;\n",
       "    }\n",
       "</style>\n",
       "<table border=\"1\" class=\"dataframe\">\n",
       "  <thead>\n",
       "    <tr style=\"text-align: right;\">\n",
       "      <th></th>\n",
       "      <th>Age</th>\n",
       "      <th>Balance</th>\n",
       "      <th>IsActiveMember</th>\n",
       "      <th>NumOfProducts</th>\n",
       "      <th>EstimatedSalary</th>\n",
       "      <th>Point Earned</th>\n",
       "      <th>CreditScore</th>\n",
       "      <th>Tenure</th>\n",
       "      <th>Satisfaction Score</th>\n",
       "    </tr>\n",
       "  </thead>\n",
       "  <tbody>\n",
       "    <tr>\n",
       "      <th>0</th>\n",
       "      <td>26.0</td>\n",
       "      <td>74681.900000</td>\n",
       "      <td>0</td>\n",
       "      <td>2</td>\n",
       "      <td>31231.350000</td>\n",
       "      <td>316</td>\n",
       "      <td>624.000000</td>\n",
       "      <td>9</td>\n",
       "      <td>4</td>\n",
       "    </tr>\n",
       "    <tr>\n",
       "      <th>1</th>\n",
       "      <td>33.0</td>\n",
       "      <td>160777.900000</td>\n",
       "      <td>1</td>\n",
       "      <td>1</td>\n",
       "      <td>149536.150000</td>\n",
       "      <td>409</td>\n",
       "      <td>573.000000</td>\n",
       "      <td>1</td>\n",
       "      <td>5</td>\n",
       "    </tr>\n",
       "    <tr>\n",
       "      <th>2</th>\n",
       "      <td>23.0</td>\n",
       "      <td>151097.280000</td>\n",
       "      <td>1</td>\n",
       "      <td>1</td>\n",
       "      <td>17163.750000</td>\n",
       "      <td>841</td>\n",
       "      <td>571.000000</td>\n",
       "      <td>10</td>\n",
       "      <td>2</td>\n",
       "    </tr>\n",
       "    <tr>\n",
       "      <th>3</th>\n",
       "      <td>36.0</td>\n",
       "      <td>0.000000</td>\n",
       "      <td>1</td>\n",
       "      <td>1</td>\n",
       "      <td>40812.900000</td>\n",
       "      <td>944</td>\n",
       "      <td>831.598057</td>\n",
       "      <td>7</td>\n",
       "      <td>3</td>\n",
       "    </tr>\n",
       "    <tr>\n",
       "      <th>4</th>\n",
       "      <td>33.0</td>\n",
       "      <td>0.000000</td>\n",
       "      <td>1</td>\n",
       "      <td>2</td>\n",
       "      <td>112928.740000</td>\n",
       "      <td>813</td>\n",
       "      <td>602.000000</td>\n",
       "      <td>8</td>\n",
       "      <td>4</td>\n",
       "    </tr>\n",
       "    <tr>\n",
       "      <th>...</th>\n",
       "      <td>...</td>\n",
       "      <td>...</td>\n",
       "      <td>...</td>\n",
       "      <td>...</td>\n",
       "      <td>...</td>\n",
       "      <td>...</td>\n",
       "      <td>...</td>\n",
       "      <td>...</td>\n",
       "      <td>...</td>\n",
       "    </tr>\n",
       "    <tr>\n",
       "      <th>12567</th>\n",
       "      <td>40.0</td>\n",
       "      <td>92977.205129</td>\n",
       "      <td>0</td>\n",
       "      <td>1</td>\n",
       "      <td>72433.935272</td>\n",
       "      <td>458</td>\n",
       "      <td>731.000000</td>\n",
       "      <td>1</td>\n",
       "      <td>1</td>\n",
       "    </tr>\n",
       "    <tr>\n",
       "      <th>12568</th>\n",
       "      <td>46.0</td>\n",
       "      <td>0.000000</td>\n",
       "      <td>0</td>\n",
       "      <td>1</td>\n",
       "      <td>161127.848716</td>\n",
       "      <td>652</td>\n",
       "      <td>465.288516</td>\n",
       "      <td>4</td>\n",
       "      <td>2</td>\n",
       "    </tr>\n",
       "    <tr>\n",
       "      <th>12569</th>\n",
       "      <td>52.0</td>\n",
       "      <td>0.000000</td>\n",
       "      <td>0</td>\n",
       "      <td>2</td>\n",
       "      <td>169886.659950</td>\n",
       "      <td>393</td>\n",
       "      <td>480.000000</td>\n",
       "      <td>8</td>\n",
       "      <td>2</td>\n",
       "    </tr>\n",
       "    <tr>\n",
       "      <th>12570</th>\n",
       "      <td>41.0</td>\n",
       "      <td>117270.239198</td>\n",
       "      <td>0</td>\n",
       "      <td>2</td>\n",
       "      <td>122214.285191</td>\n",
       "      <td>455</td>\n",
       "      <td>748.000000</td>\n",
       "      <td>5</td>\n",
       "      <td>3</td>\n",
       "    </tr>\n",
       "    <tr>\n",
       "      <th>12571</th>\n",
       "      <td>50.0</td>\n",
       "      <td>82669.192090</td>\n",
       "      <td>1</td>\n",
       "      <td>1</td>\n",
       "      <td>63668.023548</td>\n",
       "      <td>893</td>\n",
       "      <td>626.000000</td>\n",
       "      <td>1</td>\n",
       "      <td>1</td>\n",
       "    </tr>\n",
       "  </tbody>\n",
       "</table>\n",
       "<p>12572 rows × 9 columns</p>\n",
       "</div>"
      ],
      "text/plain": [
       "        Age        Balance  IsActiveMember  NumOfProducts  EstimatedSalary  \\\n",
       "0      26.0   74681.900000               0              2     31231.350000   \n",
       "1      33.0  160777.900000               1              1    149536.150000   \n",
       "2      23.0  151097.280000               1              1     17163.750000   \n",
       "3      36.0       0.000000               1              1     40812.900000   \n",
       "4      33.0       0.000000               1              2    112928.740000   \n",
       "...     ...            ...             ...            ...              ...   \n",
       "12567  40.0   92977.205129               0              1     72433.935272   \n",
       "12568  46.0       0.000000               0              1    161127.848716   \n",
       "12569  52.0       0.000000               0              2    169886.659950   \n",
       "12570  41.0  117270.239198               0              2    122214.285191   \n",
       "12571  50.0   82669.192090               1              1     63668.023548   \n",
       "\n",
       "       Point Earned  CreditScore  Tenure  Satisfaction Score  \n",
       "0               316   624.000000       9                   4  \n",
       "1               409   573.000000       1                   5  \n",
       "2               841   571.000000      10                   2  \n",
       "3               944   831.598057       7                   3  \n",
       "4               813   602.000000       8                   4  \n",
       "...             ...          ...     ...                 ...  \n",
       "12567           458   731.000000       1                   1  \n",
       "12568           652   465.288516       4                   2  \n",
       "12569           393   480.000000       8                   2  \n",
       "12570           455   748.000000       5                   3  \n",
       "12571           893   626.000000       1                   1  \n",
       "\n",
       "[12572 rows x 9 columns]"
      ]
     },
     "execution_count": 56,
     "metadata": {},
     "output_type": "execute_result"
    }
   ],
   "source": [
    "new_train"
   ]
  },
  {
   "cell_type": "markdown",
   "metadata": {},
   "source": [
    "### options."
   ]
  },
  {
   "cell_type": "markdown",
   "metadata": {},
   "source": [
    "melakukan pengambilan beberapa data dari keseluruhan data sebagai data inference"
   ]
  },
  {
   "cell_type": "markdown",
   "metadata": {},
   "source": [
    "# 7. Scaling dan Encoding"
   ]
  },
  {
   "cell_type": "markdown",
   "metadata": {},
   "source": [
    "Sebelum masuk pada proses training model, diperlukan encoding pada nilai-nilai yang bentuknya non-numerik dan juga akan dilakukan penyamarataan skala pada nilai yang bentuknya sudah numerik dan bersifat kontinus.<br>\n",
    "\n",
    "karena terdapat nilai yang skalanyanya terlalu jauh dibanding dengan nilai lainnya maka diperlukan penyamaan skala pada kolom-kolom tersebut, lalu ada kolom kategorikal yang perlu diencoding sebelum proses training sehingga komputer dapat memahami apa yang ada pada dataini, pada beberapa kolom sudah terencoding dengan baik maka kolom tersebut dapat diabaikan pada proses ini namun tetap akan digunakan pada saat proses training."
   ]
  },
  {
   "cell_type": "markdown",
   "metadata": {},
   "source": [
    "berhubung nilai dari hasil seleksi bentuknya numerik dan distribusinya normal maka cukup menggunakan standardscaler untuk menyamakan skalanya."
   ]
  },
  {
   "cell_type": "code",
   "execution_count": 57,
   "metadata": {},
   "outputs": [],
   "source": [
    "# mendefinisikan proses scaling dan encoding dengan kolom-transformer.\n",
    "transformer = ColumnTransformer([\n",
    "    ('scale',StandardScaler(),numeric_col),\n",
    "])\n"
   ]
  },
  {
   "cell_type": "markdown",
   "metadata": {},
   "source": [
    "# 8. Model Definition, Training"
   ]
  },
  {
   "cell_type": "markdown",
   "metadata": {},
   "source": [
    "Pada proses ini akan membandingkan 5 jenis model machine learning untuk jenis klasifikasi, yaitu ; KNN, SVM, DesicionTree, dan RandomForest ,dan XGboost untuk metode boosting. Semua model tersebut akan melakukan pembelajaran pada dataset train dengan pengaturan standar pada tiap modelnya."
   ]
  },
  {
   "cell_type": "markdown",
   "metadata": {},
   "source": [
    "## Conceptual problem"
   ]
  },
  {
   "cell_type": "markdown",
   "metadata": {},
   "source": [
    "metode bagging akan dilakukan saat ingin mengurangi variance dari berdasarkan besaran nilai Std hasil dari crossvalidation, bekerja dengan tiap model akan dilakukan training secara paralel dibagi menjadi sejumlah n yang diset,lalu hasilnya dari n model yang ditraining secara paralel untuk digunakan memprediksi nilai test-setnya."
   ]
  },
  {
   "cell_type": "markdown",
   "metadata": {},
   "source": [
    "perbedaan antara randomforest dengan xgboost ialah random forest modelnya akan melakukan pembelajaran independen jadi setiap pohon dalam Random Forest dilatih secara independen satu sama lain. Masing-masing pohon dilatih menggunakan sampel acak dari data (bootstrapping) dan subset acak dari fitur hingga nilainya murni lalu hasilnya dikombinasikan untuk memprediksi data baru.Sedangkan pada XGboost proses lebih sedikit lama karena proses pembelajarannya xgboost Tidak seperti Random Forest, XGBoost membangun pohon secara berurutan. Setiap pohon baru dilatih untuk mengoreksi kesalahan dari pohon sebelumnya, membuat model ini lebih terfokus dalam mengurangi error."
   ]
  },
  {
   "cell_type": "markdown",
   "metadata": {},
   "source": [
    "Crossvalidation score ialah ia melakukan pembelajaran terus menerus sejumlah n yang diset dengan membagi dataset menjadi train dan test set secara random sebanyak n dan dilakukan training pada tiap konfigurasinya untuk mengetahui performa dan stabilitas dari sebuah model."
   ]
  },
  {
   "cell_type": "code",
   "execution_count": 58,
   "metadata": {},
   "outputs": [
    {
     "data": {
      "text/html": [
       "<style>#sk-container-id-1 {\n",
       "  /* Definition of color scheme common for light and dark mode */\n",
       "  --sklearn-color-text: black;\n",
       "  --sklearn-color-line: gray;\n",
       "  /* Definition of color scheme for unfitted estimators */\n",
       "  --sklearn-color-unfitted-level-0: #fff5e6;\n",
       "  --sklearn-color-unfitted-level-1: #f6e4d2;\n",
       "  --sklearn-color-unfitted-level-2: #ffe0b3;\n",
       "  --sklearn-color-unfitted-level-3: chocolate;\n",
       "  /* Definition of color scheme for fitted estimators */\n",
       "  --sklearn-color-fitted-level-0: #f0f8ff;\n",
       "  --sklearn-color-fitted-level-1: #d4ebff;\n",
       "  --sklearn-color-fitted-level-2: #b3dbfd;\n",
       "  --sklearn-color-fitted-level-3: cornflowerblue;\n",
       "\n",
       "  /* Specific color for light theme */\n",
       "  --sklearn-color-text-on-default-background: var(--sg-text-color, var(--theme-code-foreground, var(--jp-content-font-color1, black)));\n",
       "  --sklearn-color-background: var(--sg-background-color, var(--theme-background, var(--jp-layout-color0, white)));\n",
       "  --sklearn-color-border-box: var(--sg-text-color, var(--theme-code-foreground, var(--jp-content-font-color1, black)));\n",
       "  --sklearn-color-icon: #696969;\n",
       "\n",
       "  @media (prefers-color-scheme: dark) {\n",
       "    /* Redefinition of color scheme for dark theme */\n",
       "    --sklearn-color-text-on-default-background: var(--sg-text-color, var(--theme-code-foreground, var(--jp-content-font-color1, white)));\n",
       "    --sklearn-color-background: var(--sg-background-color, var(--theme-background, var(--jp-layout-color0, #111)));\n",
       "    --sklearn-color-border-box: var(--sg-text-color, var(--theme-code-foreground, var(--jp-content-font-color1, white)));\n",
       "    --sklearn-color-icon: #878787;\n",
       "  }\n",
       "}\n",
       "\n",
       "#sk-container-id-1 {\n",
       "  color: var(--sklearn-color-text);\n",
       "}\n",
       "\n",
       "#sk-container-id-1 pre {\n",
       "  padding: 0;\n",
       "}\n",
       "\n",
       "#sk-container-id-1 input.sk-hidden--visually {\n",
       "  border: 0;\n",
       "  clip: rect(1px 1px 1px 1px);\n",
       "  clip: rect(1px, 1px, 1px, 1px);\n",
       "  height: 1px;\n",
       "  margin: -1px;\n",
       "  overflow: hidden;\n",
       "  padding: 0;\n",
       "  position: absolute;\n",
       "  width: 1px;\n",
       "}\n",
       "\n",
       "#sk-container-id-1 div.sk-dashed-wrapped {\n",
       "  border: 1px dashed var(--sklearn-color-line);\n",
       "  margin: 0 0.4em 0.5em 0.4em;\n",
       "  box-sizing: border-box;\n",
       "  padding-bottom: 0.4em;\n",
       "  background-color: var(--sklearn-color-background);\n",
       "}\n",
       "\n",
       "#sk-container-id-1 div.sk-container {\n",
       "  /* jupyter's `normalize.less` sets `[hidden] { display: none; }`\n",
       "     but bootstrap.min.css set `[hidden] { display: none !important; }`\n",
       "     so we also need the `!important` here to be able to override the\n",
       "     default hidden behavior on the sphinx rendered scikit-learn.org.\n",
       "     See: https://github.com/scikit-learn/scikit-learn/issues/21755 */\n",
       "  display: inline-block !important;\n",
       "  position: relative;\n",
       "}\n",
       "\n",
       "#sk-container-id-1 div.sk-text-repr-fallback {\n",
       "  display: none;\n",
       "}\n",
       "\n",
       "div.sk-parallel-item,\n",
       "div.sk-serial,\n",
       "div.sk-item {\n",
       "  /* draw centered vertical line to link estimators */\n",
       "  background-image: linear-gradient(var(--sklearn-color-text-on-default-background), var(--sklearn-color-text-on-default-background));\n",
       "  background-size: 2px 100%;\n",
       "  background-repeat: no-repeat;\n",
       "  background-position: center center;\n",
       "}\n",
       "\n",
       "/* Parallel-specific style estimator block */\n",
       "\n",
       "#sk-container-id-1 div.sk-parallel-item::after {\n",
       "  content: \"\";\n",
       "  width: 100%;\n",
       "  border-bottom: 2px solid var(--sklearn-color-text-on-default-background);\n",
       "  flex-grow: 1;\n",
       "}\n",
       "\n",
       "#sk-container-id-1 div.sk-parallel {\n",
       "  display: flex;\n",
       "  align-items: stretch;\n",
       "  justify-content: center;\n",
       "  background-color: var(--sklearn-color-background);\n",
       "  position: relative;\n",
       "}\n",
       "\n",
       "#sk-container-id-1 div.sk-parallel-item {\n",
       "  display: flex;\n",
       "  flex-direction: column;\n",
       "}\n",
       "\n",
       "#sk-container-id-1 div.sk-parallel-item:first-child::after {\n",
       "  align-self: flex-end;\n",
       "  width: 50%;\n",
       "}\n",
       "\n",
       "#sk-container-id-1 div.sk-parallel-item:last-child::after {\n",
       "  align-self: flex-start;\n",
       "  width: 50%;\n",
       "}\n",
       "\n",
       "#sk-container-id-1 div.sk-parallel-item:only-child::after {\n",
       "  width: 0;\n",
       "}\n",
       "\n",
       "/* Serial-specific style estimator block */\n",
       "\n",
       "#sk-container-id-1 div.sk-serial {\n",
       "  display: flex;\n",
       "  flex-direction: column;\n",
       "  align-items: center;\n",
       "  background-color: var(--sklearn-color-background);\n",
       "  padding-right: 1em;\n",
       "  padding-left: 1em;\n",
       "}\n",
       "\n",
       "\n",
       "/* Toggleable style: style used for estimator/Pipeline/ColumnTransformer box that is\n",
       "clickable and can be expanded/collapsed.\n",
       "- Pipeline and ColumnTransformer use this feature and define the default style\n",
       "- Estimators will overwrite some part of the style using the `sk-estimator` class\n",
       "*/\n",
       "\n",
       "/* Pipeline and ColumnTransformer style (default) */\n",
       "\n",
       "#sk-container-id-1 div.sk-toggleable {\n",
       "  /* Default theme specific background. It is overwritten whether we have a\n",
       "  specific estimator or a Pipeline/ColumnTransformer */\n",
       "  background-color: var(--sklearn-color-background);\n",
       "}\n",
       "\n",
       "/* Toggleable label */\n",
       "#sk-container-id-1 label.sk-toggleable__label {\n",
       "  cursor: pointer;\n",
       "  display: block;\n",
       "  width: 100%;\n",
       "  margin-bottom: 0;\n",
       "  padding: 0.5em;\n",
       "  box-sizing: border-box;\n",
       "  text-align: center;\n",
       "}\n",
       "\n",
       "#sk-container-id-1 label.sk-toggleable__label-arrow:before {\n",
       "  /* Arrow on the left of the label */\n",
       "  content: \"▸\";\n",
       "  float: left;\n",
       "  margin-right: 0.25em;\n",
       "  color: var(--sklearn-color-icon);\n",
       "}\n",
       "\n",
       "#sk-container-id-1 label.sk-toggleable__label-arrow:hover:before {\n",
       "  color: var(--sklearn-color-text);\n",
       "}\n",
       "\n",
       "/* Toggleable content - dropdown */\n",
       "\n",
       "#sk-container-id-1 div.sk-toggleable__content {\n",
       "  max-height: 0;\n",
       "  max-width: 0;\n",
       "  overflow: hidden;\n",
       "  text-align: left;\n",
       "  /* unfitted */\n",
       "  background-color: var(--sklearn-color-unfitted-level-0);\n",
       "}\n",
       "\n",
       "#sk-container-id-1 div.sk-toggleable__content.fitted {\n",
       "  /* fitted */\n",
       "  background-color: var(--sklearn-color-fitted-level-0);\n",
       "}\n",
       "\n",
       "#sk-container-id-1 div.sk-toggleable__content pre {\n",
       "  margin: 0.2em;\n",
       "  border-radius: 0.25em;\n",
       "  color: var(--sklearn-color-text);\n",
       "  /* unfitted */\n",
       "  background-color: var(--sklearn-color-unfitted-level-0);\n",
       "}\n",
       "\n",
       "#sk-container-id-1 div.sk-toggleable__content.fitted pre {\n",
       "  /* unfitted */\n",
       "  background-color: var(--sklearn-color-fitted-level-0);\n",
       "}\n",
       "\n",
       "#sk-container-id-1 input.sk-toggleable__control:checked~div.sk-toggleable__content {\n",
       "  /* Expand drop-down */\n",
       "  max-height: 200px;\n",
       "  max-width: 100%;\n",
       "  overflow: auto;\n",
       "}\n",
       "\n",
       "#sk-container-id-1 input.sk-toggleable__control:checked~label.sk-toggleable__label-arrow:before {\n",
       "  content: \"▾\";\n",
       "}\n",
       "\n",
       "/* Pipeline/ColumnTransformer-specific style */\n",
       "\n",
       "#sk-container-id-1 div.sk-label input.sk-toggleable__control:checked~label.sk-toggleable__label {\n",
       "  color: var(--sklearn-color-text);\n",
       "  background-color: var(--sklearn-color-unfitted-level-2);\n",
       "}\n",
       "\n",
       "#sk-container-id-1 div.sk-label.fitted input.sk-toggleable__control:checked~label.sk-toggleable__label {\n",
       "  background-color: var(--sklearn-color-fitted-level-2);\n",
       "}\n",
       "\n",
       "/* Estimator-specific style */\n",
       "\n",
       "/* Colorize estimator box */\n",
       "#sk-container-id-1 div.sk-estimator input.sk-toggleable__control:checked~label.sk-toggleable__label {\n",
       "  /* unfitted */\n",
       "  background-color: var(--sklearn-color-unfitted-level-2);\n",
       "}\n",
       "\n",
       "#sk-container-id-1 div.sk-estimator.fitted input.sk-toggleable__control:checked~label.sk-toggleable__label {\n",
       "  /* fitted */\n",
       "  background-color: var(--sklearn-color-fitted-level-2);\n",
       "}\n",
       "\n",
       "#sk-container-id-1 div.sk-label label.sk-toggleable__label,\n",
       "#sk-container-id-1 div.sk-label label {\n",
       "  /* The background is the default theme color */\n",
       "  color: var(--sklearn-color-text-on-default-background);\n",
       "}\n",
       "\n",
       "/* On hover, darken the color of the background */\n",
       "#sk-container-id-1 div.sk-label:hover label.sk-toggleable__label {\n",
       "  color: var(--sklearn-color-text);\n",
       "  background-color: var(--sklearn-color-unfitted-level-2);\n",
       "}\n",
       "\n",
       "/* Label box, darken color on hover, fitted */\n",
       "#sk-container-id-1 div.sk-label.fitted:hover label.sk-toggleable__label.fitted {\n",
       "  color: var(--sklearn-color-text);\n",
       "  background-color: var(--sklearn-color-fitted-level-2);\n",
       "}\n",
       "\n",
       "/* Estimator label */\n",
       "\n",
       "#sk-container-id-1 div.sk-label label {\n",
       "  font-family: monospace;\n",
       "  font-weight: bold;\n",
       "  display: inline-block;\n",
       "  line-height: 1.2em;\n",
       "}\n",
       "\n",
       "#sk-container-id-1 div.sk-label-container {\n",
       "  text-align: center;\n",
       "}\n",
       "\n",
       "/* Estimator-specific */\n",
       "#sk-container-id-1 div.sk-estimator {\n",
       "  font-family: monospace;\n",
       "  border: 1px dotted var(--sklearn-color-border-box);\n",
       "  border-radius: 0.25em;\n",
       "  box-sizing: border-box;\n",
       "  margin-bottom: 0.5em;\n",
       "  /* unfitted */\n",
       "  background-color: var(--sklearn-color-unfitted-level-0);\n",
       "}\n",
       "\n",
       "#sk-container-id-1 div.sk-estimator.fitted {\n",
       "  /* fitted */\n",
       "  background-color: var(--sklearn-color-fitted-level-0);\n",
       "}\n",
       "\n",
       "/* on hover */\n",
       "#sk-container-id-1 div.sk-estimator:hover {\n",
       "  /* unfitted */\n",
       "  background-color: var(--sklearn-color-unfitted-level-2);\n",
       "}\n",
       "\n",
       "#sk-container-id-1 div.sk-estimator.fitted:hover {\n",
       "  /* fitted */\n",
       "  background-color: var(--sklearn-color-fitted-level-2);\n",
       "}\n",
       "\n",
       "/* Specification for estimator info (e.g. \"i\" and \"?\") */\n",
       "\n",
       "/* Common style for \"i\" and \"?\" */\n",
       "\n",
       ".sk-estimator-doc-link,\n",
       "a:link.sk-estimator-doc-link,\n",
       "a:visited.sk-estimator-doc-link {\n",
       "  float: right;\n",
       "  font-size: smaller;\n",
       "  line-height: 1em;\n",
       "  font-family: monospace;\n",
       "  background-color: var(--sklearn-color-background);\n",
       "  border-radius: 1em;\n",
       "  height: 1em;\n",
       "  width: 1em;\n",
       "  text-decoration: none !important;\n",
       "  margin-left: 1ex;\n",
       "  /* unfitted */\n",
       "  border: var(--sklearn-color-unfitted-level-1) 1pt solid;\n",
       "  color: var(--sklearn-color-unfitted-level-1);\n",
       "}\n",
       "\n",
       ".sk-estimator-doc-link.fitted,\n",
       "a:link.sk-estimator-doc-link.fitted,\n",
       "a:visited.sk-estimator-doc-link.fitted {\n",
       "  /* fitted */\n",
       "  border: var(--sklearn-color-fitted-level-1) 1pt solid;\n",
       "  color: var(--sklearn-color-fitted-level-1);\n",
       "}\n",
       "\n",
       "/* On hover */\n",
       "div.sk-estimator:hover .sk-estimator-doc-link:hover,\n",
       ".sk-estimator-doc-link:hover,\n",
       "div.sk-label-container:hover .sk-estimator-doc-link:hover,\n",
       ".sk-estimator-doc-link:hover {\n",
       "  /* unfitted */\n",
       "  background-color: var(--sklearn-color-unfitted-level-3);\n",
       "  color: var(--sklearn-color-background);\n",
       "  text-decoration: none;\n",
       "}\n",
       "\n",
       "div.sk-estimator.fitted:hover .sk-estimator-doc-link.fitted:hover,\n",
       ".sk-estimator-doc-link.fitted:hover,\n",
       "div.sk-label-container:hover .sk-estimator-doc-link.fitted:hover,\n",
       ".sk-estimator-doc-link.fitted:hover {\n",
       "  /* fitted */\n",
       "  background-color: var(--sklearn-color-fitted-level-3);\n",
       "  color: var(--sklearn-color-background);\n",
       "  text-decoration: none;\n",
       "}\n",
       "\n",
       "/* Span, style for the box shown on hovering the info icon */\n",
       ".sk-estimator-doc-link span {\n",
       "  display: none;\n",
       "  z-index: 9999;\n",
       "  position: relative;\n",
       "  font-weight: normal;\n",
       "  right: .2ex;\n",
       "  padding: .5ex;\n",
       "  margin: .5ex;\n",
       "  width: min-content;\n",
       "  min-width: 20ex;\n",
       "  max-width: 50ex;\n",
       "  color: var(--sklearn-color-text);\n",
       "  box-shadow: 2pt 2pt 4pt #999;\n",
       "  /* unfitted */\n",
       "  background: var(--sklearn-color-unfitted-level-0);\n",
       "  border: .5pt solid var(--sklearn-color-unfitted-level-3);\n",
       "}\n",
       "\n",
       ".sk-estimator-doc-link.fitted span {\n",
       "  /* fitted */\n",
       "  background: var(--sklearn-color-fitted-level-0);\n",
       "  border: var(--sklearn-color-fitted-level-3);\n",
       "}\n",
       "\n",
       ".sk-estimator-doc-link:hover span {\n",
       "  display: block;\n",
       "}\n",
       "\n",
       "/* \"?\"-specific style due to the `<a>` HTML tag */\n",
       "\n",
       "#sk-container-id-1 a.estimator_doc_link {\n",
       "  float: right;\n",
       "  font-size: 1rem;\n",
       "  line-height: 1em;\n",
       "  font-family: monospace;\n",
       "  background-color: var(--sklearn-color-background);\n",
       "  border-radius: 1rem;\n",
       "  height: 1rem;\n",
       "  width: 1rem;\n",
       "  text-decoration: none;\n",
       "  /* unfitted */\n",
       "  color: var(--sklearn-color-unfitted-level-1);\n",
       "  border: var(--sklearn-color-unfitted-level-1) 1pt solid;\n",
       "}\n",
       "\n",
       "#sk-container-id-1 a.estimator_doc_link.fitted {\n",
       "  /* fitted */\n",
       "  border: var(--sklearn-color-fitted-level-1) 1pt solid;\n",
       "  color: var(--sklearn-color-fitted-level-1);\n",
       "}\n",
       "\n",
       "/* On hover */\n",
       "#sk-container-id-1 a.estimator_doc_link:hover {\n",
       "  /* unfitted */\n",
       "  background-color: var(--sklearn-color-unfitted-level-3);\n",
       "  color: var(--sklearn-color-background);\n",
       "  text-decoration: none;\n",
       "}\n",
       "\n",
       "#sk-container-id-1 a.estimator_doc_link.fitted:hover {\n",
       "  /* fitted */\n",
       "  background-color: var(--sklearn-color-fitted-level-3);\n",
       "}\n",
       "</style><div id=\"sk-container-id-1\" class=\"sk-top-container\"><div class=\"sk-text-repr-fallback\"><pre>Pipeline(steps=[(&#x27;encoding&#x27;,\n",
       "                 ColumnTransformer(transformers=[(&#x27;scale&#x27;, StandardScaler(),\n",
       "                                                  [&#x27;CreditScore&#x27;, &#x27;Age&#x27;,\n",
       "                                                   &#x27;Tenure&#x27;, &#x27;Balance&#x27;,\n",
       "                                                   &#x27;EstimatedSalary&#x27;,\n",
       "                                                   &#x27;Point Earned&#x27;])])),\n",
       "                (&#x27;xgb&#x27;,\n",
       "                 XGBClassifier(base_score=None, booster=None, callbacks=None,\n",
       "                               colsample_bylevel=None, colsample_bynode=None,\n",
       "                               colsample_bytree=None,\n",
       "                               early_stopping_rounds=None,\n",
       "                               enable_categorical=False, eva...\n",
       "                               feature_types=None, gamma=None, gpu_id=None,\n",
       "                               grow_policy=None, importance_type=None,\n",
       "                               interaction_constraints=None, learning_rate=0.1,\n",
       "                               max_bin=None, max_cat_threshold=None,\n",
       "                               max_cat_to_onehot=None, max_delta_step=None,\n",
       "                               max_depth=None, max_leaves=None,\n",
       "                               min_child_weight=None, missing=nan,\n",
       "                               monotone_constraints=None, n_estimators=100,\n",
       "                               n_jobs=None, num_parallel_tree=None,\n",
       "                               predictor=None, random_state=None, ...))])</pre><b>In a Jupyter environment, please rerun this cell to show the HTML representation or trust the notebook. <br />On GitHub, the HTML representation is unable to render, please try loading this page with nbviewer.org.</b></div><div class=\"sk-container\" hidden><div class=\"sk-item sk-dashed-wrapped\"><div class=\"sk-label-container\"><div class=\"sk-label fitted sk-toggleable\"><input class=\"sk-toggleable__control sk-hidden--visually\" id=\"sk-estimator-id-1\" type=\"checkbox\" ><label for=\"sk-estimator-id-1\" class=\"sk-toggleable__label fitted sk-toggleable__label-arrow fitted\">&nbsp;&nbsp;Pipeline<a class=\"sk-estimator-doc-link fitted\" rel=\"noreferrer\" target=\"_blank\" href=\"https://scikit-learn.org/1.5/modules/generated/sklearn.pipeline.Pipeline.html\">?<span>Documentation for Pipeline</span></a><span class=\"sk-estimator-doc-link fitted\">i<span>Fitted</span></span></label><div class=\"sk-toggleable__content fitted\"><pre>Pipeline(steps=[(&#x27;encoding&#x27;,\n",
       "                 ColumnTransformer(transformers=[(&#x27;scale&#x27;, StandardScaler(),\n",
       "                                                  [&#x27;CreditScore&#x27;, &#x27;Age&#x27;,\n",
       "                                                   &#x27;Tenure&#x27;, &#x27;Balance&#x27;,\n",
       "                                                   &#x27;EstimatedSalary&#x27;,\n",
       "                                                   &#x27;Point Earned&#x27;])])),\n",
       "                (&#x27;xgb&#x27;,\n",
       "                 XGBClassifier(base_score=None, booster=None, callbacks=None,\n",
       "                               colsample_bylevel=None, colsample_bynode=None,\n",
       "                               colsample_bytree=None,\n",
       "                               early_stopping_rounds=None,\n",
       "                               enable_categorical=False, eva...\n",
       "                               feature_types=None, gamma=None, gpu_id=None,\n",
       "                               grow_policy=None, importance_type=None,\n",
       "                               interaction_constraints=None, learning_rate=0.1,\n",
       "                               max_bin=None, max_cat_threshold=None,\n",
       "                               max_cat_to_onehot=None, max_delta_step=None,\n",
       "                               max_depth=None, max_leaves=None,\n",
       "                               min_child_weight=None, missing=nan,\n",
       "                               monotone_constraints=None, n_estimators=100,\n",
       "                               n_jobs=None, num_parallel_tree=None,\n",
       "                               predictor=None, random_state=None, ...))])</pre></div> </div></div><div class=\"sk-serial\"><div class=\"sk-item sk-dashed-wrapped\"><div class=\"sk-label-container\"><div class=\"sk-label fitted sk-toggleable\"><input class=\"sk-toggleable__control sk-hidden--visually\" id=\"sk-estimator-id-2\" type=\"checkbox\" ><label for=\"sk-estimator-id-2\" class=\"sk-toggleable__label fitted sk-toggleable__label-arrow fitted\">&nbsp;encoding: ColumnTransformer<a class=\"sk-estimator-doc-link fitted\" rel=\"noreferrer\" target=\"_blank\" href=\"https://scikit-learn.org/1.5/modules/generated/sklearn.compose.ColumnTransformer.html\">?<span>Documentation for encoding: ColumnTransformer</span></a></label><div class=\"sk-toggleable__content fitted\"><pre>ColumnTransformer(transformers=[(&#x27;scale&#x27;, StandardScaler(),\n",
       "                                 [&#x27;CreditScore&#x27;, &#x27;Age&#x27;, &#x27;Tenure&#x27;, &#x27;Balance&#x27;,\n",
       "                                  &#x27;EstimatedSalary&#x27;, &#x27;Point Earned&#x27;])])</pre></div> </div></div><div class=\"sk-parallel\"><div class=\"sk-parallel-item\"><div class=\"sk-item\"><div class=\"sk-label-container\"><div class=\"sk-label fitted sk-toggleable\"><input class=\"sk-toggleable__control sk-hidden--visually\" id=\"sk-estimator-id-3\" type=\"checkbox\" ><label for=\"sk-estimator-id-3\" class=\"sk-toggleable__label fitted sk-toggleable__label-arrow fitted\">scale</label><div class=\"sk-toggleable__content fitted\"><pre>[&#x27;CreditScore&#x27;, &#x27;Age&#x27;, &#x27;Tenure&#x27;, &#x27;Balance&#x27;, &#x27;EstimatedSalary&#x27;, &#x27;Point Earned&#x27;]</pre></div> </div></div><div class=\"sk-serial\"><div class=\"sk-item\"><div class=\"sk-estimator fitted sk-toggleable\"><input class=\"sk-toggleable__control sk-hidden--visually\" id=\"sk-estimator-id-4\" type=\"checkbox\" ><label for=\"sk-estimator-id-4\" class=\"sk-toggleable__label fitted sk-toggleable__label-arrow fitted\">&nbsp;StandardScaler<a class=\"sk-estimator-doc-link fitted\" rel=\"noreferrer\" target=\"_blank\" href=\"https://scikit-learn.org/1.5/modules/generated/sklearn.preprocessing.StandardScaler.html\">?<span>Documentation for StandardScaler</span></a></label><div class=\"sk-toggleable__content fitted\"><pre>StandardScaler()</pre></div> </div></div></div></div></div></div></div><div class=\"sk-item\"><div class=\"sk-estimator fitted sk-toggleable\"><input class=\"sk-toggleable__control sk-hidden--visually\" id=\"sk-estimator-id-5\" type=\"checkbox\" ><label for=\"sk-estimator-id-5\" class=\"sk-toggleable__label fitted sk-toggleable__label-arrow fitted\">XGBClassifier</label><div class=\"sk-toggleable__content fitted\"><pre>XGBClassifier(base_score=None, booster=None, callbacks=None,\n",
       "              colsample_bylevel=None, colsample_bynode=None,\n",
       "              colsample_bytree=None, early_stopping_rounds=None,\n",
       "              enable_categorical=False, eval_metric=None, feature_types=None,\n",
       "              gamma=None, gpu_id=None, grow_policy=None, importance_type=None,\n",
       "              interaction_constraints=None, learning_rate=0.1, max_bin=None,\n",
       "              max_cat_threshold=None, max_cat_to_onehot=None,\n",
       "              max_delta_step=None, max_depth=None, max_leaves=None,\n",
       "              min_child_weight=None, missing=nan, monotone_constraints=None,\n",
       "              n_estimators=100, n_jobs=None, num_parallel_tree=None,\n",
       "              predictor=None, random_state=None, ...)</pre></div> </div></div></div></div></div></div>"
      ],
      "text/plain": [
       "Pipeline(steps=[('encoding',\n",
       "                 ColumnTransformer(transformers=[('scale', StandardScaler(),\n",
       "                                                  ['CreditScore', 'Age',\n",
       "                                                   'Tenure', 'Balance',\n",
       "                                                   'EstimatedSalary',\n",
       "                                                   'Point Earned'])])),\n",
       "                ('xgb',\n",
       "                 XGBClassifier(base_score=None, booster=None, callbacks=None,\n",
       "                               colsample_bylevel=None, colsample_bynode=None,\n",
       "                               colsample_bytree=None,\n",
       "                               early_stopping_rounds=None,\n",
       "                               enable_categorical=False, eva...\n",
       "                               feature_types=None, gamma=None, gpu_id=None,\n",
       "                               grow_policy=None, importance_type=None,\n",
       "                               interaction_constraints=None, learning_rate=0.1,\n",
       "                               max_bin=None, max_cat_threshold=None,\n",
       "                               max_cat_to_onehot=None, max_delta_step=None,\n",
       "                               max_depth=None, max_leaves=None,\n",
       "                               min_child_weight=None, missing=nan,\n",
       "                               monotone_constraints=None, n_estimators=100,\n",
       "                               n_jobs=None, num_parallel_tree=None,\n",
       "                               predictor=None, random_state=None, ...))])"
      ]
     },
     "execution_count": 58,
     "metadata": {},
     "output_type": "execute_result"
    }
   ],
   "source": [
    "# pembelajaran dengan model KNN\n",
    "pipe_knn_alt = Pipeline([\n",
    "    ('encoding', transformer),\n",
    "    ('knn',KNeighborsClassifier())\n",
    "])\n",
    "pipe_knn_alt.fit(new_train, y_train)\n",
    "\n",
    "# pembelajaran dengan model SVM\n",
    "pipe_svm_alt = Pipeline([\n",
    "    ('encoding', transformer),\n",
    "    ('svm',SVC(random_state=42,class_weight='balanced'))\n",
    "])\n",
    "pipe_svm_alt.fit(new_train, y_train)\n",
    "\n",
    "# pembelajaran dengan model DesicionTree\n",
    "pipe_des3_alt =Pipeline([\n",
    "    ('encoding', transformer),\n",
    "    ('dectree', DecisionTreeClassifier(random_state=42,class_weight='balanced'))\n",
    "])\n",
    "pipe_des3_alt.fit(new_train, y_train)\n",
    "\n",
    "# pembelajaran dengan model randomforest\n",
    "pipe_randfor_alt = Pipeline([\n",
    "    ('encoding', transformer),\n",
    "    ('randfor',RandomForestClassifier(random_state=42,class_weight='balanced'))\n",
    "])\n",
    "pipe_randfor_alt.fit(new_train, y_train)\n",
    "\n",
    "# pembelajaran dengan model XGboost\n",
    "pipe_boost_alt = Pipeline([\n",
    "    ('encoding', transformer),\n",
    "    ('xgb',XGBClassifier(n_estimators=100, learning_rate=0.1))\n",
    "])\n",
    "pipe_boost_alt.fit(new_train, y_train)"
   ]
  },
  {
   "cell_type": "markdown",
   "metadata": {},
   "source": [
    "# 9. Model Evaluasi"
   ]
  },
  {
   "cell_type": "markdown",
   "metadata": {},
   "source": [
    "## Model evaluasi base model"
   ]
  },
  {
   "cell_type": "markdown",
   "metadata": {},
   "source": [
    "### KNN"
   ]
  },
  {
   "cell_type": "code",
   "execution_count": 59,
   "metadata": {},
   "outputs": [
    {
     "name": "stdout",
     "output_type": "stream",
     "text": [
      "              precision    recall  f1-score   support\n",
      "\n",
      "           0       0.76      0.89      0.82      5387\n",
      "           1       0.90      0.79      0.84      7185\n",
      "\n",
      "    accuracy                           0.83     12572\n",
      "   macro avg       0.83      0.84      0.83     12572\n",
      "weighted avg       0.84      0.83      0.83     12572\n",
      "\n"
     ]
    }
   ],
   "source": [
    "knn_pred1 = pipe_knn_alt.predict(new_train)\n",
    "print(classification_report(knn_pred1,y_train))"
   ]
  },
  {
   "cell_type": "code",
   "execution_count": 60,
   "metadata": {},
   "outputs": [
    {
     "name": "stdout",
     "output_type": "stream",
     "text": [
      "Training Score knn :  0.8311\n",
      "Testing Score knn :  0.6625\n",
      "              precision    recall  f1-score   support\n",
      "\n",
      "           0       0.67      0.88      0.76      1280\n",
      "           1       0.63      0.33      0.43       815\n",
      "\n",
      "    accuracy                           0.66      2095\n",
      "   macro avg       0.65      0.60      0.60      2095\n",
      "weighted avg       0.65      0.66      0.63      2095\n",
      "\n"
     ]
    }
   ],
   "source": [
    "print('Training Score knn : ',round(pipe_knn_alt.score(new_train, y_train),4))\n",
    "print('Testing Score knn : ', round(pipe_knn_alt.score(new_test, y_test),4))\n",
    "knn_pred = pipe_knn_alt.predict(new_test)\n",
    "print(classification_report(knn_pred,y_test))"
   ]
  },
  {
   "cell_type": "markdown",
   "metadata": {},
   "source": [
    "#### Insight :\n",
    "nilai overall pada evaluasi model KNN sedikit overfit karena nilai hasil train terpaut jauh dari hasil testnya. "
   ]
  },
  {
   "cell_type": "markdown",
   "metadata": {},
   "source": [
    "### SVM"
   ]
  },
  {
   "cell_type": "code",
   "execution_count": 61,
   "metadata": {},
   "outputs": [
    {
     "name": "stdout",
     "output_type": "stream",
     "text": [
      "              precision    recall  f1-score   support\n",
      "\n",
      "           0       0.77      0.74      0.75      6532\n",
      "           1       0.73      0.76      0.74      6040\n",
      "\n",
      "    accuracy                           0.75     12572\n",
      "   macro avg       0.75      0.75      0.75     12572\n",
      "weighted avg       0.75      0.75      0.75     12572\n",
      "\n"
     ]
    }
   ],
   "source": [
    "svm_pred1 = pipe_svm_alt.predict(new_train)\n",
    "print(classification_report(svm_pred1,y_train))"
   ]
  },
  {
   "cell_type": "code",
   "execution_count": 62,
   "metadata": {},
   "outputs": [
    {
     "name": "stdout",
     "output_type": "stream",
     "text": [
      "Training Score svm:  0.7463\n",
      "Testing Score svm:  0.7284\n",
      "              precision    recall  f1-score   support\n",
      "\n",
      "           0       0.75      0.89      0.81      1406\n",
      "           1       0.64      0.40      0.49       689\n",
      "\n",
      "    accuracy                           0.73      2095\n",
      "   macro avg       0.70      0.64      0.65      2095\n",
      "weighted avg       0.71      0.73      0.71      2095\n",
      "\n"
     ]
    }
   ],
   "source": [
    "print('Training Score svm: ',round(pipe_svm_alt.score(new_train, y_train),4))\n",
    "print('Testing Score svm: ', round(pipe_svm_alt.score(new_test, y_test),4))\n",
    "svm_pred = pipe_svm_alt.predict(new_test)\n",
    "print(classification_report(svm_pred,y_test))\n"
   ]
  },
  {
   "cell_type": "markdown",
   "metadata": {},
   "source": [
    "TL:DR \n",
    "\n",
    "hasil overfitting dari test dengan trainnya tepatnya pada recall"
   ]
  },
  {
   "cell_type": "markdown",
   "metadata": {},
   "source": [
    "#### Insight :\n",
    "hasil classification report kesimpulannya hasil train pada svm mengalami overfit"
   ]
  },
  {
   "cell_type": "markdown",
   "metadata": {},
   "source": [
    "### Desicion Tree"
   ]
  },
  {
   "cell_type": "code",
   "execution_count": 63,
   "metadata": {},
   "outputs": [
    {
     "name": "stdout",
     "output_type": "stream",
     "text": [
      "              precision    recall  f1-score   support\n",
      "\n",
      "           0       1.00      1.00      1.00      6286\n",
      "           1       1.00      1.00      1.00      6286\n",
      "\n",
      "    accuracy                           1.00     12572\n",
      "   macro avg       1.00      1.00      1.00     12572\n",
      "weighted avg       1.00      1.00      1.00     12572\n",
      "\n"
     ]
    }
   ],
   "source": [
    "print(classification_report(pipe_des3_alt.predict(new_train),y_train))"
   ]
  },
  {
   "cell_type": "code",
   "execution_count": 64,
   "metadata": {},
   "outputs": [
    {
     "name": "stdout",
     "output_type": "stream",
     "text": [
      "Training Score decisiontree:  1.0\n",
      "Testing Score decisiontree:  0.6587\n",
      "              precision    recall  f1-score   support\n",
      "\n",
      "           0       0.70      0.85      0.76      1374\n",
      "           1       0.51      0.30      0.38       721\n",
      "\n",
      "    accuracy                           0.66      2095\n",
      "   macro avg       0.60      0.57      0.57      2095\n",
      "weighted avg       0.63      0.66      0.63      2095\n",
      "\n"
     ]
    }
   ],
   "source": [
    "\n",
    "print('Training Score decisiontree: ',round(pipe_des3_alt.score(new_train, y_train),4))\n",
    "print('Testing Score decisiontree: ', round(pipe_des3_alt.score(new_test, y_test),4))\n",
    "destree = pipe_des3_alt.predict(new_test)\n",
    "print(classification_report(destree,y_test))"
   ]
  },
  {
   "cell_type": "markdown",
   "metadata": {},
   "source": [
    "TL:DR \n",
    "\n",
    "hasil overfitting dari test dengan trainnya."
   ]
  },
  {
   "cell_type": "markdown",
   "metadata": {},
   "source": [
    "### Random Forest"
   ]
  },
  {
   "cell_type": "code",
   "execution_count": 65,
   "metadata": {},
   "outputs": [
    {
     "name": "stdout",
     "output_type": "stream",
     "text": [
      "              precision    recall  f1-score   support\n",
      "\n",
      "           0       1.00      1.00      1.00      6286\n",
      "           1       1.00      1.00      1.00      6286\n",
      "\n",
      "    accuracy                           1.00     12572\n",
      "   macro avg       1.00      1.00      1.00     12572\n",
      "weighted avg       1.00      1.00      1.00     12572\n",
      "\n"
     ]
    }
   ],
   "source": [
    "print(classification_report(pipe_randfor_alt.predict(new_train),y_train))"
   ]
  },
  {
   "cell_type": "code",
   "execution_count": 66,
   "metadata": {},
   "outputs": [
    {
     "name": "stdout",
     "output_type": "stream",
     "text": [
      "Training Score randforest :  1.0\n",
      "Testing Score randforest :  0.737\n",
      "              precision    recall  f1-score   support\n",
      "\n",
      "           0       0.78      0.88      0.82      1468\n",
      "           1       0.59      0.40      0.48       627\n",
      "\n",
      "    accuracy                           0.74      2095\n",
      "   macro avg       0.68      0.64      0.65      2095\n",
      "weighted avg       0.72      0.74      0.72      2095\n",
      "\n"
     ]
    }
   ],
   "source": [
    "\n",
    "print('Training Score randforest : ',round(pipe_randfor_alt.score(new_train, y_train),4))\n",
    "print('Testing Score randforest : ', round(pipe_randfor_alt.score(new_test, y_test),4))\n",
    "randfor_ = pipe_randfor_alt.predict(new_test)\n",
    "print(classification_report(randfor_,y_test))"
   ]
  },
  {
   "cell_type": "markdown",
   "metadata": {},
   "source": [
    "TL:DR \n",
    "\n",
    "hasil overfitting dari test dengan trainnya."
   ]
  },
  {
   "cell_type": "markdown",
   "metadata": {},
   "source": [
    "### XGboost"
   ]
  },
  {
   "cell_type": "code",
   "execution_count": 67,
   "metadata": {},
   "outputs": [
    {
     "name": "stdout",
     "output_type": "stream",
     "text": [
      "              precision    recall  f1-score   support\n",
      "\n",
      "           0       0.82      0.84      0.83      6140\n",
      "           1       0.84      0.82      0.83      6432\n",
      "\n",
      "    accuracy                           0.83     12572\n",
      "   macro avg       0.83      0.83      0.83     12572\n",
      "weighted avg       0.83      0.83      0.83     12572\n",
      "\n"
     ]
    }
   ],
   "source": [
    "print(classification_report(pipe_boost_alt.predict(new_train),y_train))"
   ]
  },
  {
   "cell_type": "code",
   "execution_count": 68,
   "metadata": {},
   "outputs": [
    {
     "name": "stdout",
     "output_type": "stream",
     "text": [
      "Training Score xgbo:  0.8306\n",
      "Testing Score xgbo:  0.7212\n",
      "              precision    recall  f1-score   support\n",
      "\n",
      "           0       0.67      0.88      0.76      1280\n",
      "           1       0.63      0.33      0.43       815\n",
      "\n",
      "    accuracy                           0.66      2095\n",
      "   macro avg       0.65      0.60      0.60      2095\n",
      "weighted avg       0.65      0.66      0.63      2095\n",
      "\n"
     ]
    }
   ],
   "source": [
    "\n",
    "print('Training Score xgbo: ',round(pipe_boost_alt.score(new_train, y_train),4))\n",
    "print('Testing Score xgbo: ', round(pipe_boost_alt.score(new_test, y_test),4))\n",
    "\n",
    "boost = pipe_knn_alt.predict(new_test)\n",
    "print(classification_report(boost,y_test))"
   ]
  },
  {
   "cell_type": "markdown",
   "metadata": {},
   "source": [
    "TL:DR \n",
    "\n",
    "hasil overfitting dari test dengan trainnya."
   ]
  },
  {
   "cell_type": "code",
   "execution_count": 69,
   "metadata": {},
   "outputs": [],
   "source": [
    "unused_col = ['Complain','Exited','CustomerId','Surname']\n",
    "categ_col = ['Card Type','Gender','Geography']"
   ]
  },
  {
   "cell_type": "markdown",
   "metadata": {},
   "source": [
    "#### Insight :\n",
    "Berdasarkan hasil laporan klasifikasi model menghasil prediksi yang buruk pada kelas 1 yaitu pada kelas yang terkategori sebagai nasabah yang keluar dari layanan bank. Berdasarkan hasil perhitungan klasifikasi report, ke-lima model mengalami overfit,  dilihat dari metrik recall."
   ]
  },
  {
   "cell_type": "markdown",
   "metadata": {},
   "source": [
    "## Cross-val Evaluation"
   ]
  },
  {
   "cell_type": "markdown",
   "metadata": {},
   "source": [
    "True-Positive       : Prediksi Exit , aktual Exit ( Accuracy) <br>\n",
    "False Positives     : Prediksi Exit , aktual tetap ( Precision ) <br>\n",
    "False Negatives     : Prediksi Tetap , aktual Exit ( Recall ) <br>\n",
    "True Negatives      : Prediksi tetap , aktual Tetap (F1 score) <br>"
   ]
  },
  {
   "cell_type": "markdown",
   "metadata": {},
   "source": [
    "Pada proses evaluasi menggunakan cross-val metrik yang akan digunakan ialah \" recall \" . Pada proses ini saya ingin memastikan bahwa model dapat memprediksi nasabah yang terprediksi keluar dari layanan bank tersebut benar keluar atau tidak."
   ]
  },
  {
   "cell_type": "code",
   "execution_count": 70,
   "metadata": {},
   "outputs": [
    {
     "name": "stdout",
     "output_type": "stream",
     "text": [
      "KNN Cross-Validation Scores: [0.75815434 0.79968203 0.82895784 0.83452665 0.85441527]\n",
      "SVM Cross-Validation Scores: [0.61575179 0.71224165 0.72792363 0.74781225 0.73747017]\n",
      "Decision Tree Cross-Validation Scores: [0.67859984 0.74085851 0.7557677  0.77724741 0.79077168]\n",
      "Random Forest Cross-Validation Scores: [0.69371519 0.79411765 0.84168656 0.84884646 0.85361973]\n",
      "XGBoost Cross-Validation Scores: [0.64996022 0.75993641 0.80031822 0.80509149 0.81145585]\n",
      "\n",
      "Mean CV Score - KNN: 0.8151472264065273\n",
      "Mean CV Score - SVM: 0.7082398979071729\n",
      "Mean CV Score - Decision Tree: 0.7486490280818513\n",
      "Mean CV Score - Random Forest: 0.8063971173194814\n",
      "Mean CV Score - XGBoost: 0.7653524365303109\n",
      "\n",
      "std CV Score - KNN: 0.03345335965686441\n",
      "std CV Score - SVM: 0.04770302541589695\n",
      "std CV Score - Decision Tree: 0.03901395073741325\n",
      "std CV Score - Random Forest: 0.06020841675730449\n",
      "std CV Score - XGBoost: 0.06045166484833944\n"
     ]
    }
   ],
   "source": [
    "knn_scores = cross_val_score(pipe_knn_alt, new_train,y_train, cv=5 , scoring='recall')\n",
    "svm_scores = cross_val_score(pipe_svm_alt, new_train,y_train, cv=5 , scoring='recall')\n",
    "des3_scores = cross_val_score(pipe_des3_alt, new_train,y_train, cv=5 , scoring='recall')\n",
    "randfor_scores = cross_val_score(pipe_randfor_alt, new_train,y_train, cv=5 , scoring='recall')\n",
    "xgbo_scores = cross_val_score(pipe_boost_alt, new_train,y_train, cv=5 , scoring='recall')\n",
    "\n",
    "# Print the cross-validation scores\n",
    "print(\"KNN Cross-Validation Scores:\", knn_scores)\n",
    "print(\"SVM Cross-Validation Scores:\", svm_scores)\n",
    "print(\"Decision Tree Cross-Validation Scores:\", des3_scores)\n",
    "print(\"Random Forest Cross-Validation Scores:\", randfor_scores)\n",
    "print(\"XGBoost Cross-Validation Scores:\", xgbo_scores)\n",
    "\n",
    "# Print mean cross-validation scores\n",
    "print(\"\\nMean CV Score - KNN:\", knn_scores.mean())\n",
    "print(\"Mean CV Score - SVM:\", svm_scores.mean())\n",
    "print(\"Mean CV Score - Decision Tree:\", des3_scores.mean())\n",
    "print(\"Mean CV Score - Random Forest:\", randfor_scores.mean())\n",
    "print(\"Mean CV Score - XGBoost:\", xgbo_scores.mean())\n",
    "\n",
    "# print std cross-validation scores\n",
    "print(\"\\nstd CV Score - KNN:\", knn_scores.std())\n",
    "print(\"std CV Score - SVM:\", svm_scores.std())\n",
    "print(\"std CV Score - Decision Tree:\", des3_scores.std())\n",
    "print(\"std CV Score - Random Forest:\", randfor_scores.std())\n",
    "print(\"std CV Score - XGBoost:\", xgbo_scores.std())"
   ]
  },
  {
   "cell_type": "markdown",
   "metadata": {},
   "source": [
    "### Insight :\n",
    "berdasarkan hasil perhitungan crosvalidation yang menarik untuk dilakukan hyper parameter tuning yaitu KNN, randomforest, dan xgboost model namun dibandingkan ketiganya KNN yang memiliki kestabilan model yang baik dibandingkan sisa keduanya. Maka dari itu yang akan dilakukan paramter tuning ada model KNN"
   ]
  },
  {
   "cell_type": "markdown",
   "metadata": {},
   "source": [
    "## 10. Hyperparameter-tuning"
   ]
  },
  {
   "cell_type": "markdown",
   "metadata": {},
   "source": [
    "melakukan hyperparameter-tuning pada model KNN, dengan mencari nilai jumlah neighboor yang optimalnya."
   ]
  },
  {
   "cell_type": "markdown",
   "metadata": {},
   "source": [
    "### 10.1 Train pada model terbaik."
   ]
  },
  {
   "cell_type": "code",
   "execution_count": 71,
   "metadata": {},
   "outputs": [],
   "source": [
    "# menginsialisasi kombinasi parameter\n",
    "knn_param = { 'knn__n_neighbors' : [3,7,15,50,100,200],\n",
    "               'knn__weights' : ['uniform','distance'],\n",
    "               'knn__metric' : ['euclidean','manhattan']}"
   ]
  },
  {
   "cell_type": "code",
   "execution_count": 72,
   "metadata": {},
   "outputs": [
    {
     "name": "stdout",
     "output_type": "stream",
     "text": [
      "Fitting 5 folds for each of 24 candidates, totalling 120 fits\n"
     ]
    },
    {
     "data": {
      "text/html": [
       "<style>#sk-container-id-2 {\n",
       "  /* Definition of color scheme common for light and dark mode */\n",
       "  --sklearn-color-text: black;\n",
       "  --sklearn-color-line: gray;\n",
       "  /* Definition of color scheme for unfitted estimators */\n",
       "  --sklearn-color-unfitted-level-0: #fff5e6;\n",
       "  --sklearn-color-unfitted-level-1: #f6e4d2;\n",
       "  --sklearn-color-unfitted-level-2: #ffe0b3;\n",
       "  --sklearn-color-unfitted-level-3: chocolate;\n",
       "  /* Definition of color scheme for fitted estimators */\n",
       "  --sklearn-color-fitted-level-0: #f0f8ff;\n",
       "  --sklearn-color-fitted-level-1: #d4ebff;\n",
       "  --sklearn-color-fitted-level-2: #b3dbfd;\n",
       "  --sklearn-color-fitted-level-3: cornflowerblue;\n",
       "\n",
       "  /* Specific color for light theme */\n",
       "  --sklearn-color-text-on-default-background: var(--sg-text-color, var(--theme-code-foreground, var(--jp-content-font-color1, black)));\n",
       "  --sklearn-color-background: var(--sg-background-color, var(--theme-background, var(--jp-layout-color0, white)));\n",
       "  --sklearn-color-border-box: var(--sg-text-color, var(--theme-code-foreground, var(--jp-content-font-color1, black)));\n",
       "  --sklearn-color-icon: #696969;\n",
       "\n",
       "  @media (prefers-color-scheme: dark) {\n",
       "    /* Redefinition of color scheme for dark theme */\n",
       "    --sklearn-color-text-on-default-background: var(--sg-text-color, var(--theme-code-foreground, var(--jp-content-font-color1, white)));\n",
       "    --sklearn-color-background: var(--sg-background-color, var(--theme-background, var(--jp-layout-color0, #111)));\n",
       "    --sklearn-color-border-box: var(--sg-text-color, var(--theme-code-foreground, var(--jp-content-font-color1, white)));\n",
       "    --sklearn-color-icon: #878787;\n",
       "  }\n",
       "}\n",
       "\n",
       "#sk-container-id-2 {\n",
       "  color: var(--sklearn-color-text);\n",
       "}\n",
       "\n",
       "#sk-container-id-2 pre {\n",
       "  padding: 0;\n",
       "}\n",
       "\n",
       "#sk-container-id-2 input.sk-hidden--visually {\n",
       "  border: 0;\n",
       "  clip: rect(1px 1px 1px 1px);\n",
       "  clip: rect(1px, 1px, 1px, 1px);\n",
       "  height: 1px;\n",
       "  margin: -1px;\n",
       "  overflow: hidden;\n",
       "  padding: 0;\n",
       "  position: absolute;\n",
       "  width: 1px;\n",
       "}\n",
       "\n",
       "#sk-container-id-2 div.sk-dashed-wrapped {\n",
       "  border: 1px dashed var(--sklearn-color-line);\n",
       "  margin: 0 0.4em 0.5em 0.4em;\n",
       "  box-sizing: border-box;\n",
       "  padding-bottom: 0.4em;\n",
       "  background-color: var(--sklearn-color-background);\n",
       "}\n",
       "\n",
       "#sk-container-id-2 div.sk-container {\n",
       "  /* jupyter's `normalize.less` sets `[hidden] { display: none; }`\n",
       "     but bootstrap.min.css set `[hidden] { display: none !important; }`\n",
       "     so we also need the `!important` here to be able to override the\n",
       "     default hidden behavior on the sphinx rendered scikit-learn.org.\n",
       "     See: https://github.com/scikit-learn/scikit-learn/issues/21755 */\n",
       "  display: inline-block !important;\n",
       "  position: relative;\n",
       "}\n",
       "\n",
       "#sk-container-id-2 div.sk-text-repr-fallback {\n",
       "  display: none;\n",
       "}\n",
       "\n",
       "div.sk-parallel-item,\n",
       "div.sk-serial,\n",
       "div.sk-item {\n",
       "  /* draw centered vertical line to link estimators */\n",
       "  background-image: linear-gradient(var(--sklearn-color-text-on-default-background), var(--sklearn-color-text-on-default-background));\n",
       "  background-size: 2px 100%;\n",
       "  background-repeat: no-repeat;\n",
       "  background-position: center center;\n",
       "}\n",
       "\n",
       "/* Parallel-specific style estimator block */\n",
       "\n",
       "#sk-container-id-2 div.sk-parallel-item::after {\n",
       "  content: \"\";\n",
       "  width: 100%;\n",
       "  border-bottom: 2px solid var(--sklearn-color-text-on-default-background);\n",
       "  flex-grow: 1;\n",
       "}\n",
       "\n",
       "#sk-container-id-2 div.sk-parallel {\n",
       "  display: flex;\n",
       "  align-items: stretch;\n",
       "  justify-content: center;\n",
       "  background-color: var(--sklearn-color-background);\n",
       "  position: relative;\n",
       "}\n",
       "\n",
       "#sk-container-id-2 div.sk-parallel-item {\n",
       "  display: flex;\n",
       "  flex-direction: column;\n",
       "}\n",
       "\n",
       "#sk-container-id-2 div.sk-parallel-item:first-child::after {\n",
       "  align-self: flex-end;\n",
       "  width: 50%;\n",
       "}\n",
       "\n",
       "#sk-container-id-2 div.sk-parallel-item:last-child::after {\n",
       "  align-self: flex-start;\n",
       "  width: 50%;\n",
       "}\n",
       "\n",
       "#sk-container-id-2 div.sk-parallel-item:only-child::after {\n",
       "  width: 0;\n",
       "}\n",
       "\n",
       "/* Serial-specific style estimator block */\n",
       "\n",
       "#sk-container-id-2 div.sk-serial {\n",
       "  display: flex;\n",
       "  flex-direction: column;\n",
       "  align-items: center;\n",
       "  background-color: var(--sklearn-color-background);\n",
       "  padding-right: 1em;\n",
       "  padding-left: 1em;\n",
       "}\n",
       "\n",
       "\n",
       "/* Toggleable style: style used for estimator/Pipeline/ColumnTransformer box that is\n",
       "clickable and can be expanded/collapsed.\n",
       "- Pipeline and ColumnTransformer use this feature and define the default style\n",
       "- Estimators will overwrite some part of the style using the `sk-estimator` class\n",
       "*/\n",
       "\n",
       "/* Pipeline and ColumnTransformer style (default) */\n",
       "\n",
       "#sk-container-id-2 div.sk-toggleable {\n",
       "  /* Default theme specific background. It is overwritten whether we have a\n",
       "  specific estimator or a Pipeline/ColumnTransformer */\n",
       "  background-color: var(--sklearn-color-background);\n",
       "}\n",
       "\n",
       "/* Toggleable label */\n",
       "#sk-container-id-2 label.sk-toggleable__label {\n",
       "  cursor: pointer;\n",
       "  display: block;\n",
       "  width: 100%;\n",
       "  margin-bottom: 0;\n",
       "  padding: 0.5em;\n",
       "  box-sizing: border-box;\n",
       "  text-align: center;\n",
       "}\n",
       "\n",
       "#sk-container-id-2 label.sk-toggleable__label-arrow:before {\n",
       "  /* Arrow on the left of the label */\n",
       "  content: \"▸\";\n",
       "  float: left;\n",
       "  margin-right: 0.25em;\n",
       "  color: var(--sklearn-color-icon);\n",
       "}\n",
       "\n",
       "#sk-container-id-2 label.sk-toggleable__label-arrow:hover:before {\n",
       "  color: var(--sklearn-color-text);\n",
       "}\n",
       "\n",
       "/* Toggleable content - dropdown */\n",
       "\n",
       "#sk-container-id-2 div.sk-toggleable__content {\n",
       "  max-height: 0;\n",
       "  max-width: 0;\n",
       "  overflow: hidden;\n",
       "  text-align: left;\n",
       "  /* unfitted */\n",
       "  background-color: var(--sklearn-color-unfitted-level-0);\n",
       "}\n",
       "\n",
       "#sk-container-id-2 div.sk-toggleable__content.fitted {\n",
       "  /* fitted */\n",
       "  background-color: var(--sklearn-color-fitted-level-0);\n",
       "}\n",
       "\n",
       "#sk-container-id-2 div.sk-toggleable__content pre {\n",
       "  margin: 0.2em;\n",
       "  border-radius: 0.25em;\n",
       "  color: var(--sklearn-color-text);\n",
       "  /* unfitted */\n",
       "  background-color: var(--sklearn-color-unfitted-level-0);\n",
       "}\n",
       "\n",
       "#sk-container-id-2 div.sk-toggleable__content.fitted pre {\n",
       "  /* unfitted */\n",
       "  background-color: var(--sklearn-color-fitted-level-0);\n",
       "}\n",
       "\n",
       "#sk-container-id-2 input.sk-toggleable__control:checked~div.sk-toggleable__content {\n",
       "  /* Expand drop-down */\n",
       "  max-height: 200px;\n",
       "  max-width: 100%;\n",
       "  overflow: auto;\n",
       "}\n",
       "\n",
       "#sk-container-id-2 input.sk-toggleable__control:checked~label.sk-toggleable__label-arrow:before {\n",
       "  content: \"▾\";\n",
       "}\n",
       "\n",
       "/* Pipeline/ColumnTransformer-specific style */\n",
       "\n",
       "#sk-container-id-2 div.sk-label input.sk-toggleable__control:checked~label.sk-toggleable__label {\n",
       "  color: var(--sklearn-color-text);\n",
       "  background-color: var(--sklearn-color-unfitted-level-2);\n",
       "}\n",
       "\n",
       "#sk-container-id-2 div.sk-label.fitted input.sk-toggleable__control:checked~label.sk-toggleable__label {\n",
       "  background-color: var(--sklearn-color-fitted-level-2);\n",
       "}\n",
       "\n",
       "/* Estimator-specific style */\n",
       "\n",
       "/* Colorize estimator box */\n",
       "#sk-container-id-2 div.sk-estimator input.sk-toggleable__control:checked~label.sk-toggleable__label {\n",
       "  /* unfitted */\n",
       "  background-color: var(--sklearn-color-unfitted-level-2);\n",
       "}\n",
       "\n",
       "#sk-container-id-2 div.sk-estimator.fitted input.sk-toggleable__control:checked~label.sk-toggleable__label {\n",
       "  /* fitted */\n",
       "  background-color: var(--sklearn-color-fitted-level-2);\n",
       "}\n",
       "\n",
       "#sk-container-id-2 div.sk-label label.sk-toggleable__label,\n",
       "#sk-container-id-2 div.sk-label label {\n",
       "  /* The background is the default theme color */\n",
       "  color: var(--sklearn-color-text-on-default-background);\n",
       "}\n",
       "\n",
       "/* On hover, darken the color of the background */\n",
       "#sk-container-id-2 div.sk-label:hover label.sk-toggleable__label {\n",
       "  color: var(--sklearn-color-text);\n",
       "  background-color: var(--sklearn-color-unfitted-level-2);\n",
       "}\n",
       "\n",
       "/* Label box, darken color on hover, fitted */\n",
       "#sk-container-id-2 div.sk-label.fitted:hover label.sk-toggleable__label.fitted {\n",
       "  color: var(--sklearn-color-text);\n",
       "  background-color: var(--sklearn-color-fitted-level-2);\n",
       "}\n",
       "\n",
       "/* Estimator label */\n",
       "\n",
       "#sk-container-id-2 div.sk-label label {\n",
       "  font-family: monospace;\n",
       "  font-weight: bold;\n",
       "  display: inline-block;\n",
       "  line-height: 1.2em;\n",
       "}\n",
       "\n",
       "#sk-container-id-2 div.sk-label-container {\n",
       "  text-align: center;\n",
       "}\n",
       "\n",
       "/* Estimator-specific */\n",
       "#sk-container-id-2 div.sk-estimator {\n",
       "  font-family: monospace;\n",
       "  border: 1px dotted var(--sklearn-color-border-box);\n",
       "  border-radius: 0.25em;\n",
       "  box-sizing: border-box;\n",
       "  margin-bottom: 0.5em;\n",
       "  /* unfitted */\n",
       "  background-color: var(--sklearn-color-unfitted-level-0);\n",
       "}\n",
       "\n",
       "#sk-container-id-2 div.sk-estimator.fitted {\n",
       "  /* fitted */\n",
       "  background-color: var(--sklearn-color-fitted-level-0);\n",
       "}\n",
       "\n",
       "/* on hover */\n",
       "#sk-container-id-2 div.sk-estimator:hover {\n",
       "  /* unfitted */\n",
       "  background-color: var(--sklearn-color-unfitted-level-2);\n",
       "}\n",
       "\n",
       "#sk-container-id-2 div.sk-estimator.fitted:hover {\n",
       "  /* fitted */\n",
       "  background-color: var(--sklearn-color-fitted-level-2);\n",
       "}\n",
       "\n",
       "/* Specification for estimator info (e.g. \"i\" and \"?\") */\n",
       "\n",
       "/* Common style for \"i\" and \"?\" */\n",
       "\n",
       ".sk-estimator-doc-link,\n",
       "a:link.sk-estimator-doc-link,\n",
       "a:visited.sk-estimator-doc-link {\n",
       "  float: right;\n",
       "  font-size: smaller;\n",
       "  line-height: 1em;\n",
       "  font-family: monospace;\n",
       "  background-color: var(--sklearn-color-background);\n",
       "  border-radius: 1em;\n",
       "  height: 1em;\n",
       "  width: 1em;\n",
       "  text-decoration: none !important;\n",
       "  margin-left: 1ex;\n",
       "  /* unfitted */\n",
       "  border: var(--sklearn-color-unfitted-level-1) 1pt solid;\n",
       "  color: var(--sklearn-color-unfitted-level-1);\n",
       "}\n",
       "\n",
       ".sk-estimator-doc-link.fitted,\n",
       "a:link.sk-estimator-doc-link.fitted,\n",
       "a:visited.sk-estimator-doc-link.fitted {\n",
       "  /* fitted */\n",
       "  border: var(--sklearn-color-fitted-level-1) 1pt solid;\n",
       "  color: var(--sklearn-color-fitted-level-1);\n",
       "}\n",
       "\n",
       "/* On hover */\n",
       "div.sk-estimator:hover .sk-estimator-doc-link:hover,\n",
       ".sk-estimator-doc-link:hover,\n",
       "div.sk-label-container:hover .sk-estimator-doc-link:hover,\n",
       ".sk-estimator-doc-link:hover {\n",
       "  /* unfitted */\n",
       "  background-color: var(--sklearn-color-unfitted-level-3);\n",
       "  color: var(--sklearn-color-background);\n",
       "  text-decoration: none;\n",
       "}\n",
       "\n",
       "div.sk-estimator.fitted:hover .sk-estimator-doc-link.fitted:hover,\n",
       ".sk-estimator-doc-link.fitted:hover,\n",
       "div.sk-label-container:hover .sk-estimator-doc-link.fitted:hover,\n",
       ".sk-estimator-doc-link.fitted:hover {\n",
       "  /* fitted */\n",
       "  background-color: var(--sklearn-color-fitted-level-3);\n",
       "  color: var(--sklearn-color-background);\n",
       "  text-decoration: none;\n",
       "}\n",
       "\n",
       "/* Span, style for the box shown on hovering the info icon */\n",
       ".sk-estimator-doc-link span {\n",
       "  display: none;\n",
       "  z-index: 9999;\n",
       "  position: relative;\n",
       "  font-weight: normal;\n",
       "  right: .2ex;\n",
       "  padding: .5ex;\n",
       "  margin: .5ex;\n",
       "  width: min-content;\n",
       "  min-width: 20ex;\n",
       "  max-width: 50ex;\n",
       "  color: var(--sklearn-color-text);\n",
       "  box-shadow: 2pt 2pt 4pt #999;\n",
       "  /* unfitted */\n",
       "  background: var(--sklearn-color-unfitted-level-0);\n",
       "  border: .5pt solid var(--sklearn-color-unfitted-level-3);\n",
       "}\n",
       "\n",
       ".sk-estimator-doc-link.fitted span {\n",
       "  /* fitted */\n",
       "  background: var(--sklearn-color-fitted-level-0);\n",
       "  border: var(--sklearn-color-fitted-level-3);\n",
       "}\n",
       "\n",
       ".sk-estimator-doc-link:hover span {\n",
       "  display: block;\n",
       "}\n",
       "\n",
       "/* \"?\"-specific style due to the `<a>` HTML tag */\n",
       "\n",
       "#sk-container-id-2 a.estimator_doc_link {\n",
       "  float: right;\n",
       "  font-size: 1rem;\n",
       "  line-height: 1em;\n",
       "  font-family: monospace;\n",
       "  background-color: var(--sklearn-color-background);\n",
       "  border-radius: 1rem;\n",
       "  height: 1rem;\n",
       "  width: 1rem;\n",
       "  text-decoration: none;\n",
       "  /* unfitted */\n",
       "  color: var(--sklearn-color-unfitted-level-1);\n",
       "  border: var(--sklearn-color-unfitted-level-1) 1pt solid;\n",
       "}\n",
       "\n",
       "#sk-container-id-2 a.estimator_doc_link.fitted {\n",
       "  /* fitted */\n",
       "  border: var(--sklearn-color-fitted-level-1) 1pt solid;\n",
       "  color: var(--sklearn-color-fitted-level-1);\n",
       "}\n",
       "\n",
       "/* On hover */\n",
       "#sk-container-id-2 a.estimator_doc_link:hover {\n",
       "  /* unfitted */\n",
       "  background-color: var(--sklearn-color-unfitted-level-3);\n",
       "  color: var(--sklearn-color-background);\n",
       "  text-decoration: none;\n",
       "}\n",
       "\n",
       "#sk-container-id-2 a.estimator_doc_link.fitted:hover {\n",
       "  /* fitted */\n",
       "  background-color: var(--sklearn-color-fitted-level-3);\n",
       "}\n",
       "</style><div id=\"sk-container-id-2\" class=\"sk-top-container\"><div class=\"sk-text-repr-fallback\"><pre>GridSearchCV(estimator=Pipeline(steps=[(&#x27;encoding&#x27;,\n",
       "                                        ColumnTransformer(transformers=[(&#x27;scale&#x27;,\n",
       "                                                                         StandardScaler(),\n",
       "                                                                         [&#x27;CreditScore&#x27;,\n",
       "                                                                          &#x27;Age&#x27;,\n",
       "                                                                          &#x27;Tenure&#x27;,\n",
       "                                                                          &#x27;Balance&#x27;,\n",
       "                                                                          &#x27;EstimatedSalary&#x27;,\n",
       "                                                                          &#x27;Point &#x27;\n",
       "                                                                          &#x27;Earned&#x27;])])),\n",
       "                                       (&#x27;knn&#x27;, KNeighborsClassifier())]),\n",
       "             n_jobs=-1,\n",
       "             param_grid={&#x27;knn__metric&#x27;: [&#x27;euclidean&#x27;, &#x27;manhattan&#x27;],\n",
       "                         &#x27;knn__n_neighbors&#x27;: [3, 7, 15, 50, 100, 200],\n",
       "                         &#x27;knn__weights&#x27;: [&#x27;uniform&#x27;, &#x27;distance&#x27;]},\n",
       "             scoring=&#x27;recall&#x27;, verbose=2)</pre><b>In a Jupyter environment, please rerun this cell to show the HTML representation or trust the notebook. <br />On GitHub, the HTML representation is unable to render, please try loading this page with nbviewer.org.</b></div><div class=\"sk-container\" hidden><div class=\"sk-item sk-dashed-wrapped\"><div class=\"sk-label-container\"><div class=\"sk-label fitted sk-toggleable\"><input class=\"sk-toggleable__control sk-hidden--visually\" id=\"sk-estimator-id-6\" type=\"checkbox\" ><label for=\"sk-estimator-id-6\" class=\"sk-toggleable__label fitted sk-toggleable__label-arrow fitted\">&nbsp;&nbsp;GridSearchCV<a class=\"sk-estimator-doc-link fitted\" rel=\"noreferrer\" target=\"_blank\" href=\"https://scikit-learn.org/1.5/modules/generated/sklearn.model_selection.GridSearchCV.html\">?<span>Documentation for GridSearchCV</span></a><span class=\"sk-estimator-doc-link fitted\">i<span>Fitted</span></span></label><div class=\"sk-toggleable__content fitted\"><pre>GridSearchCV(estimator=Pipeline(steps=[(&#x27;encoding&#x27;,\n",
       "                                        ColumnTransformer(transformers=[(&#x27;scale&#x27;,\n",
       "                                                                         StandardScaler(),\n",
       "                                                                         [&#x27;CreditScore&#x27;,\n",
       "                                                                          &#x27;Age&#x27;,\n",
       "                                                                          &#x27;Tenure&#x27;,\n",
       "                                                                          &#x27;Balance&#x27;,\n",
       "                                                                          &#x27;EstimatedSalary&#x27;,\n",
       "                                                                          &#x27;Point &#x27;\n",
       "                                                                          &#x27;Earned&#x27;])])),\n",
       "                                       (&#x27;knn&#x27;, KNeighborsClassifier())]),\n",
       "             n_jobs=-1,\n",
       "             param_grid={&#x27;knn__metric&#x27;: [&#x27;euclidean&#x27;, &#x27;manhattan&#x27;],\n",
       "                         &#x27;knn__n_neighbors&#x27;: [3, 7, 15, 50, 100, 200],\n",
       "                         &#x27;knn__weights&#x27;: [&#x27;uniform&#x27;, &#x27;distance&#x27;]},\n",
       "             scoring=&#x27;recall&#x27;, verbose=2)</pre></div> </div></div><div class=\"sk-parallel\"><div class=\"sk-parallel-item\"><div class=\"sk-item\"><div class=\"sk-label-container\"><div class=\"sk-label fitted sk-toggleable\"><input class=\"sk-toggleable__control sk-hidden--visually\" id=\"sk-estimator-id-7\" type=\"checkbox\" ><label for=\"sk-estimator-id-7\" class=\"sk-toggleable__label fitted sk-toggleable__label-arrow fitted\">best_estimator_: Pipeline</label><div class=\"sk-toggleable__content fitted\"><pre>Pipeline(steps=[(&#x27;encoding&#x27;,\n",
       "                 ColumnTransformer(transformers=[(&#x27;scale&#x27;, StandardScaler(),\n",
       "                                                  [&#x27;CreditScore&#x27;, &#x27;Age&#x27;,\n",
       "                                                   &#x27;Tenure&#x27;, &#x27;Balance&#x27;,\n",
       "                                                   &#x27;EstimatedSalary&#x27;,\n",
       "                                                   &#x27;Point Earned&#x27;])])),\n",
       "                (&#x27;knn&#x27;,\n",
       "                 KNeighborsClassifier(metric=&#x27;manhattan&#x27;, n_neighbors=7,\n",
       "                                      weights=&#x27;distance&#x27;))])</pre></div> </div></div><div class=\"sk-serial\"><div class=\"sk-item\"><div class=\"sk-serial\"><div class=\"sk-item sk-dashed-wrapped\"><div class=\"sk-label-container\"><div class=\"sk-label fitted sk-toggleable\"><input class=\"sk-toggleable__control sk-hidden--visually\" id=\"sk-estimator-id-8\" type=\"checkbox\" ><label for=\"sk-estimator-id-8\" class=\"sk-toggleable__label fitted sk-toggleable__label-arrow fitted\">&nbsp;encoding: ColumnTransformer<a class=\"sk-estimator-doc-link fitted\" rel=\"noreferrer\" target=\"_blank\" href=\"https://scikit-learn.org/1.5/modules/generated/sklearn.compose.ColumnTransformer.html\">?<span>Documentation for encoding: ColumnTransformer</span></a></label><div class=\"sk-toggleable__content fitted\"><pre>ColumnTransformer(transformers=[(&#x27;scale&#x27;, StandardScaler(),\n",
       "                                 [&#x27;CreditScore&#x27;, &#x27;Age&#x27;, &#x27;Tenure&#x27;, &#x27;Balance&#x27;,\n",
       "                                  &#x27;EstimatedSalary&#x27;, &#x27;Point Earned&#x27;])])</pre></div> </div></div><div class=\"sk-parallel\"><div class=\"sk-parallel-item\"><div class=\"sk-item\"><div class=\"sk-label-container\"><div class=\"sk-label fitted sk-toggleable\"><input class=\"sk-toggleable__control sk-hidden--visually\" id=\"sk-estimator-id-9\" type=\"checkbox\" ><label for=\"sk-estimator-id-9\" class=\"sk-toggleable__label fitted sk-toggleable__label-arrow fitted\">scale</label><div class=\"sk-toggleable__content fitted\"><pre>[&#x27;CreditScore&#x27;, &#x27;Age&#x27;, &#x27;Tenure&#x27;, &#x27;Balance&#x27;, &#x27;EstimatedSalary&#x27;, &#x27;Point Earned&#x27;]</pre></div> </div></div><div class=\"sk-serial\"><div class=\"sk-item\"><div class=\"sk-estimator fitted sk-toggleable\"><input class=\"sk-toggleable__control sk-hidden--visually\" id=\"sk-estimator-id-10\" type=\"checkbox\" ><label for=\"sk-estimator-id-10\" class=\"sk-toggleable__label fitted sk-toggleable__label-arrow fitted\">&nbsp;StandardScaler<a class=\"sk-estimator-doc-link fitted\" rel=\"noreferrer\" target=\"_blank\" href=\"https://scikit-learn.org/1.5/modules/generated/sklearn.preprocessing.StandardScaler.html\">?<span>Documentation for StandardScaler</span></a></label><div class=\"sk-toggleable__content fitted\"><pre>StandardScaler()</pre></div> </div></div></div></div></div></div></div><div class=\"sk-item\"><div class=\"sk-estimator fitted sk-toggleable\"><input class=\"sk-toggleable__control sk-hidden--visually\" id=\"sk-estimator-id-11\" type=\"checkbox\" ><label for=\"sk-estimator-id-11\" class=\"sk-toggleable__label fitted sk-toggleable__label-arrow fitted\">&nbsp;KNeighborsClassifier<a class=\"sk-estimator-doc-link fitted\" rel=\"noreferrer\" target=\"_blank\" href=\"https://scikit-learn.org/1.5/modules/generated/sklearn.neighbors.KNeighborsClassifier.html\">?<span>Documentation for KNeighborsClassifier</span></a></label><div class=\"sk-toggleable__content fitted\"><pre>KNeighborsClassifier(metric=&#x27;manhattan&#x27;, n_neighbors=7, weights=&#x27;distance&#x27;)</pre></div> </div></div></div></div></div></div></div></div></div></div></div>"
      ],
      "text/plain": [
       "GridSearchCV(estimator=Pipeline(steps=[('encoding',\n",
       "                                        ColumnTransformer(transformers=[('scale',\n",
       "                                                                         StandardScaler(),\n",
       "                                                                         ['CreditScore',\n",
       "                                                                          'Age',\n",
       "                                                                          'Tenure',\n",
       "                                                                          'Balance',\n",
       "                                                                          'EstimatedSalary',\n",
       "                                                                          'Point '\n",
       "                                                                          'Earned'])])),\n",
       "                                       ('knn', KNeighborsClassifier())]),\n",
       "             n_jobs=-1,\n",
       "             param_grid={'knn__metric': ['euclidean', 'manhattan'],\n",
       "                         'knn__n_neighbors': [3, 7, 15, 50, 100, 200],\n",
       "                         'knn__weights': ['uniform', 'distance']},\n",
       "             scoring='recall', verbose=2)"
      ]
     },
     "execution_count": 72,
     "metadata": {},
     "output_type": "execute_result"
    }
   ],
   "source": [
    "best_knn =GridSearchCV(pipe_knn_alt, param_grid=knn_param,verbose=2,n_jobs=-1,refit=True,scoring='recall')\n",
    "best_knn.fit(new_train,y_train)"
   ]
  },
  {
   "cell_type": "code",
   "execution_count": 73,
   "metadata": {},
   "outputs": [
    {
     "data": {
      "text/plain": [
       "{'knn__metric': 'manhattan', 'knn__n_neighbors': 7, 'knn__weights': 'distance'}"
      ]
     },
     "execution_count": 73,
     "metadata": {},
     "output_type": "execute_result"
    }
   ],
   "source": [
    "# menyiman hasil perhitungan kombinasi dan menampilkannya.\n",
    "best_model = best_knn.best_estimator_\n",
    "best_knn.best_params_"
   ]
  },
  {
   "cell_type": "markdown",
   "metadata": {},
   "source": [
    "### 10.2 Based vs Best model evaluation"
   ]
  },
  {
   "cell_type": "markdown",
   "metadata": {},
   "source": [
    "#### 10.2.1 Best model"
   ]
  },
  {
   "cell_type": "code",
   "execution_count": 74,
   "metadata": {},
   "outputs": [
    {
     "name": "stdout",
     "output_type": "stream",
     "text": [
      "              precision    recall  f1-score   support\n",
      "\n",
      "           0       1.00      1.00      1.00      6286\n",
      "           1       1.00      1.00      1.00      6286\n",
      "\n",
      "    accuracy                           1.00     12572\n",
      "   macro avg       1.00      1.00      1.00     12572\n",
      "weighted avg       1.00      1.00      1.00     12572\n",
      "\n"
     ]
    }
   ],
   "source": [
    "train_best = best_model.predict(new_train)\n",
    "print(classification_report(train_best,y_train))"
   ]
  },
  {
   "cell_type": "code",
   "execution_count": 75,
   "metadata": {},
   "outputs": [
    {
     "name": "stdout",
     "output_type": "stream",
     "text": [
      "              precision    recall  f1-score   support\n",
      "\n",
      "           0       0.67      0.88      0.76      1263\n",
      "           1       0.65      0.33      0.44       832\n",
      "\n",
      "    accuracy                           0.66      2095\n",
      "   macro avg       0.66      0.61      0.60      2095\n",
      "weighted avg       0.66      0.66      0.63      2095\n",
      "\n"
     ]
    }
   ],
   "source": [
    "pred_best = best_model.predict(new_test)\n",
    "print(classification_report(pred_best,y_test))"
   ]
  },
  {
   "cell_type": "markdown",
   "metadata": {},
   "source": [
    "##### insight :\n",
    "hasil kombinasi terbaik tetap mendapati hasil yang overfit pada data tersebut, dilihat dari nilai recall untuk target 1 yang rentan train dengan test terpaut cukup jauh."
   ]
  },
  {
   "cell_type": "code",
   "execution_count": 76,
   "metadata": {},
   "outputs": [
    {
     "name": "stdout",
     "output_type": "stream",
     "text": [
      "mean = 0.8697\n",
      "std = 0.0271\n"
     ]
    }
   ],
   "source": [
    "# hasil kombinasi\n",
    "aaa = cross_val_score(best_model,new_train,y_train,cv=5,scoring='recall')\n",
    "print(f'mean = {aaa.mean():.4f}')\n",
    "print(f'std = {aaa.std():.4f}')"
   ]
  },
  {
   "cell_type": "code",
   "execution_count": 77,
   "metadata": {},
   "outputs": [
    {
     "name": "stdout",
     "output_type": "stream",
     "text": [
      "mean = 0.82\n",
      "std = 0.03\n"
     ]
    }
   ],
   "source": [
    "# default\n",
    "print(f'mean = {knn_scores.mean():.2f}')\n",
    "print(f'std = {knn_scores.std():.2f}')"
   ]
  },
  {
   "cell_type": "markdown",
   "metadata": {},
   "source": [
    "#### 10.2.2 Based model"
   ]
  },
  {
   "cell_type": "code",
   "execution_count": 78,
   "metadata": {},
   "outputs": [
    {
     "name": "stdout",
     "output_type": "stream",
     "text": [
      "              precision    recall  f1-score   support\n",
      "\n",
      "           0       0.76      0.89      0.82      5387\n",
      "           1       0.90      0.79      0.84      7185\n",
      "\n",
      "    accuracy                           0.83     12572\n",
      "   macro avg       0.83      0.84      0.83     12572\n",
      "weighted avg       0.84      0.83      0.83     12572\n",
      "\n"
     ]
    }
   ],
   "source": [
    "print(classification_report(pipe_knn_alt.predict(new_train),y_train))"
   ]
  },
  {
   "cell_type": "code",
   "execution_count": 79,
   "metadata": {},
   "outputs": [
    {
     "name": "stdout",
     "output_type": "stream",
     "text": [
      "              precision    recall  f1-score   support\n",
      "\n",
      "           0       0.67      0.88      0.76      1280\n",
      "           1       0.63      0.33      0.43       815\n",
      "\n",
      "    accuracy                           0.66      2095\n",
      "   macro avg       0.65      0.60      0.60      2095\n",
      "weighted avg       0.65      0.66      0.63      2095\n",
      "\n"
     ]
    }
   ],
   "source": [
    "print(classification_report(knn_pred,y_test))"
   ]
  },
  {
   "cell_type": "markdown",
   "metadata": {},
   "source": [
    "# 11. Kesimpulan."
   ]
  },
  {
   "cell_type": "markdown",
   "metadata": {},
   "source": [
    "Setelah membandingkan 5 model machine-learning dan mendapatkan hasil evaluasinya, didapati hasil bahwa: \n",
    "- berdasarkan perbandingan 5 model yang digunakan yang memiliki nilai performa yang baik pada dataset ini adalah model KNN dan model Random-forest.\n",
    "- Dilakukan komparasi pada stabilitas hasil model dari ke-2 model terbaik , model KNN yang memiliki nilai lebih stabil dibanding model random-forest.\n",
    "- setelah dilakukan tuning pada model KNN awal didapati hasil pada evaluasi cross-validation, nilai metrik pada model yang setelah dituning mengalami peningkatan performa dan lebih stabil namun tetap overfit."
   ]
  },
  {
   "cell_type": "markdown",
   "metadata": {},
   "source": [
    "# 12. Saving-Model"
   ]
  },
  {
   "cell_type": "code",
   "execution_count": 80,
   "metadata": {},
   "outputs": [],
   "source": [
    "with open ('best_model.pkl', 'wb') as best:\n",
    "    pickle.dump(best_model,best)"
   ]
  },
  {
   "cell_type": "markdown",
   "metadata": {},
   "source": [
    "# OPSI 1 Randomforest Tuning"
   ]
  },
  {
   "cell_type": "code",
   "execution_count": 81,
   "metadata": {},
   "outputs": [],
   "source": [
    "#inisialisasi kombinasi parameter\n",
    "grid_randfor = {\n",
    "    'randfor__n_estimators': [30, 50, 75],\n",
    "    'randfor__max_depth': [30,15,5],\n",
    "    'randfor__min_samples_split': [2],\n",
    "    'randfor__min_samples_leaf': [2],\n",
    "        'randfor__criterion':['gini', 'entropy', 'log_loss'],\n",
    "        'randfor__class_weight' : ['balanced']\n",
    "}"
   ]
  },
  {
   "cell_type": "code",
   "execution_count": 82,
   "metadata": {},
   "outputs": [
    {
     "name": "stdout",
     "output_type": "stream",
     "text": [
      "Fitting 5 folds for each of 15 candidates, totalling 75 fits\n"
     ]
    },
    {
     "data": {
      "text/html": [
       "<style>#sk-container-id-3 {\n",
       "  /* Definition of color scheme common for light and dark mode */\n",
       "  --sklearn-color-text: black;\n",
       "  --sklearn-color-line: gray;\n",
       "  /* Definition of color scheme for unfitted estimators */\n",
       "  --sklearn-color-unfitted-level-0: #fff5e6;\n",
       "  --sklearn-color-unfitted-level-1: #f6e4d2;\n",
       "  --sklearn-color-unfitted-level-2: #ffe0b3;\n",
       "  --sklearn-color-unfitted-level-3: chocolate;\n",
       "  /* Definition of color scheme for fitted estimators */\n",
       "  --sklearn-color-fitted-level-0: #f0f8ff;\n",
       "  --sklearn-color-fitted-level-1: #d4ebff;\n",
       "  --sklearn-color-fitted-level-2: #b3dbfd;\n",
       "  --sklearn-color-fitted-level-3: cornflowerblue;\n",
       "\n",
       "  /* Specific color for light theme */\n",
       "  --sklearn-color-text-on-default-background: var(--sg-text-color, var(--theme-code-foreground, var(--jp-content-font-color1, black)));\n",
       "  --sklearn-color-background: var(--sg-background-color, var(--theme-background, var(--jp-layout-color0, white)));\n",
       "  --sklearn-color-border-box: var(--sg-text-color, var(--theme-code-foreground, var(--jp-content-font-color1, black)));\n",
       "  --sklearn-color-icon: #696969;\n",
       "\n",
       "  @media (prefers-color-scheme: dark) {\n",
       "    /* Redefinition of color scheme for dark theme */\n",
       "    --sklearn-color-text-on-default-background: var(--sg-text-color, var(--theme-code-foreground, var(--jp-content-font-color1, white)));\n",
       "    --sklearn-color-background: var(--sg-background-color, var(--theme-background, var(--jp-layout-color0, #111)));\n",
       "    --sklearn-color-border-box: var(--sg-text-color, var(--theme-code-foreground, var(--jp-content-font-color1, white)));\n",
       "    --sklearn-color-icon: #878787;\n",
       "  }\n",
       "}\n",
       "\n",
       "#sk-container-id-3 {\n",
       "  color: var(--sklearn-color-text);\n",
       "}\n",
       "\n",
       "#sk-container-id-3 pre {\n",
       "  padding: 0;\n",
       "}\n",
       "\n",
       "#sk-container-id-3 input.sk-hidden--visually {\n",
       "  border: 0;\n",
       "  clip: rect(1px 1px 1px 1px);\n",
       "  clip: rect(1px, 1px, 1px, 1px);\n",
       "  height: 1px;\n",
       "  margin: -1px;\n",
       "  overflow: hidden;\n",
       "  padding: 0;\n",
       "  position: absolute;\n",
       "  width: 1px;\n",
       "}\n",
       "\n",
       "#sk-container-id-3 div.sk-dashed-wrapped {\n",
       "  border: 1px dashed var(--sklearn-color-line);\n",
       "  margin: 0 0.4em 0.5em 0.4em;\n",
       "  box-sizing: border-box;\n",
       "  padding-bottom: 0.4em;\n",
       "  background-color: var(--sklearn-color-background);\n",
       "}\n",
       "\n",
       "#sk-container-id-3 div.sk-container {\n",
       "  /* jupyter's `normalize.less` sets `[hidden] { display: none; }`\n",
       "     but bootstrap.min.css set `[hidden] { display: none !important; }`\n",
       "     so we also need the `!important` here to be able to override the\n",
       "     default hidden behavior on the sphinx rendered scikit-learn.org.\n",
       "     See: https://github.com/scikit-learn/scikit-learn/issues/21755 */\n",
       "  display: inline-block !important;\n",
       "  position: relative;\n",
       "}\n",
       "\n",
       "#sk-container-id-3 div.sk-text-repr-fallback {\n",
       "  display: none;\n",
       "}\n",
       "\n",
       "div.sk-parallel-item,\n",
       "div.sk-serial,\n",
       "div.sk-item {\n",
       "  /* draw centered vertical line to link estimators */\n",
       "  background-image: linear-gradient(var(--sklearn-color-text-on-default-background), var(--sklearn-color-text-on-default-background));\n",
       "  background-size: 2px 100%;\n",
       "  background-repeat: no-repeat;\n",
       "  background-position: center center;\n",
       "}\n",
       "\n",
       "/* Parallel-specific style estimator block */\n",
       "\n",
       "#sk-container-id-3 div.sk-parallel-item::after {\n",
       "  content: \"\";\n",
       "  width: 100%;\n",
       "  border-bottom: 2px solid var(--sklearn-color-text-on-default-background);\n",
       "  flex-grow: 1;\n",
       "}\n",
       "\n",
       "#sk-container-id-3 div.sk-parallel {\n",
       "  display: flex;\n",
       "  align-items: stretch;\n",
       "  justify-content: center;\n",
       "  background-color: var(--sklearn-color-background);\n",
       "  position: relative;\n",
       "}\n",
       "\n",
       "#sk-container-id-3 div.sk-parallel-item {\n",
       "  display: flex;\n",
       "  flex-direction: column;\n",
       "}\n",
       "\n",
       "#sk-container-id-3 div.sk-parallel-item:first-child::after {\n",
       "  align-self: flex-end;\n",
       "  width: 50%;\n",
       "}\n",
       "\n",
       "#sk-container-id-3 div.sk-parallel-item:last-child::after {\n",
       "  align-self: flex-start;\n",
       "  width: 50%;\n",
       "}\n",
       "\n",
       "#sk-container-id-3 div.sk-parallel-item:only-child::after {\n",
       "  width: 0;\n",
       "}\n",
       "\n",
       "/* Serial-specific style estimator block */\n",
       "\n",
       "#sk-container-id-3 div.sk-serial {\n",
       "  display: flex;\n",
       "  flex-direction: column;\n",
       "  align-items: center;\n",
       "  background-color: var(--sklearn-color-background);\n",
       "  padding-right: 1em;\n",
       "  padding-left: 1em;\n",
       "}\n",
       "\n",
       "\n",
       "/* Toggleable style: style used for estimator/Pipeline/ColumnTransformer box that is\n",
       "clickable and can be expanded/collapsed.\n",
       "- Pipeline and ColumnTransformer use this feature and define the default style\n",
       "- Estimators will overwrite some part of the style using the `sk-estimator` class\n",
       "*/\n",
       "\n",
       "/* Pipeline and ColumnTransformer style (default) */\n",
       "\n",
       "#sk-container-id-3 div.sk-toggleable {\n",
       "  /* Default theme specific background. It is overwritten whether we have a\n",
       "  specific estimator or a Pipeline/ColumnTransformer */\n",
       "  background-color: var(--sklearn-color-background);\n",
       "}\n",
       "\n",
       "/* Toggleable label */\n",
       "#sk-container-id-3 label.sk-toggleable__label {\n",
       "  cursor: pointer;\n",
       "  display: block;\n",
       "  width: 100%;\n",
       "  margin-bottom: 0;\n",
       "  padding: 0.5em;\n",
       "  box-sizing: border-box;\n",
       "  text-align: center;\n",
       "}\n",
       "\n",
       "#sk-container-id-3 label.sk-toggleable__label-arrow:before {\n",
       "  /* Arrow on the left of the label */\n",
       "  content: \"▸\";\n",
       "  float: left;\n",
       "  margin-right: 0.25em;\n",
       "  color: var(--sklearn-color-icon);\n",
       "}\n",
       "\n",
       "#sk-container-id-3 label.sk-toggleable__label-arrow:hover:before {\n",
       "  color: var(--sklearn-color-text);\n",
       "}\n",
       "\n",
       "/* Toggleable content - dropdown */\n",
       "\n",
       "#sk-container-id-3 div.sk-toggleable__content {\n",
       "  max-height: 0;\n",
       "  max-width: 0;\n",
       "  overflow: hidden;\n",
       "  text-align: left;\n",
       "  /* unfitted */\n",
       "  background-color: var(--sklearn-color-unfitted-level-0);\n",
       "}\n",
       "\n",
       "#sk-container-id-3 div.sk-toggleable__content.fitted {\n",
       "  /* fitted */\n",
       "  background-color: var(--sklearn-color-fitted-level-0);\n",
       "}\n",
       "\n",
       "#sk-container-id-3 div.sk-toggleable__content pre {\n",
       "  margin: 0.2em;\n",
       "  border-radius: 0.25em;\n",
       "  color: var(--sklearn-color-text);\n",
       "  /* unfitted */\n",
       "  background-color: var(--sklearn-color-unfitted-level-0);\n",
       "}\n",
       "\n",
       "#sk-container-id-3 div.sk-toggleable__content.fitted pre {\n",
       "  /* unfitted */\n",
       "  background-color: var(--sklearn-color-fitted-level-0);\n",
       "}\n",
       "\n",
       "#sk-container-id-3 input.sk-toggleable__control:checked~div.sk-toggleable__content {\n",
       "  /* Expand drop-down */\n",
       "  max-height: 200px;\n",
       "  max-width: 100%;\n",
       "  overflow: auto;\n",
       "}\n",
       "\n",
       "#sk-container-id-3 input.sk-toggleable__control:checked~label.sk-toggleable__label-arrow:before {\n",
       "  content: \"▾\";\n",
       "}\n",
       "\n",
       "/* Pipeline/ColumnTransformer-specific style */\n",
       "\n",
       "#sk-container-id-3 div.sk-label input.sk-toggleable__control:checked~label.sk-toggleable__label {\n",
       "  color: var(--sklearn-color-text);\n",
       "  background-color: var(--sklearn-color-unfitted-level-2);\n",
       "}\n",
       "\n",
       "#sk-container-id-3 div.sk-label.fitted input.sk-toggleable__control:checked~label.sk-toggleable__label {\n",
       "  background-color: var(--sklearn-color-fitted-level-2);\n",
       "}\n",
       "\n",
       "/* Estimator-specific style */\n",
       "\n",
       "/* Colorize estimator box */\n",
       "#sk-container-id-3 div.sk-estimator input.sk-toggleable__control:checked~label.sk-toggleable__label {\n",
       "  /* unfitted */\n",
       "  background-color: var(--sklearn-color-unfitted-level-2);\n",
       "}\n",
       "\n",
       "#sk-container-id-3 div.sk-estimator.fitted input.sk-toggleable__control:checked~label.sk-toggleable__label {\n",
       "  /* fitted */\n",
       "  background-color: var(--sklearn-color-fitted-level-2);\n",
       "}\n",
       "\n",
       "#sk-container-id-3 div.sk-label label.sk-toggleable__label,\n",
       "#sk-container-id-3 div.sk-label label {\n",
       "  /* The background is the default theme color */\n",
       "  color: var(--sklearn-color-text-on-default-background);\n",
       "}\n",
       "\n",
       "/* On hover, darken the color of the background */\n",
       "#sk-container-id-3 div.sk-label:hover label.sk-toggleable__label {\n",
       "  color: var(--sklearn-color-text);\n",
       "  background-color: var(--sklearn-color-unfitted-level-2);\n",
       "}\n",
       "\n",
       "/* Label box, darken color on hover, fitted */\n",
       "#sk-container-id-3 div.sk-label.fitted:hover label.sk-toggleable__label.fitted {\n",
       "  color: var(--sklearn-color-text);\n",
       "  background-color: var(--sklearn-color-fitted-level-2);\n",
       "}\n",
       "\n",
       "/* Estimator label */\n",
       "\n",
       "#sk-container-id-3 div.sk-label label {\n",
       "  font-family: monospace;\n",
       "  font-weight: bold;\n",
       "  display: inline-block;\n",
       "  line-height: 1.2em;\n",
       "}\n",
       "\n",
       "#sk-container-id-3 div.sk-label-container {\n",
       "  text-align: center;\n",
       "}\n",
       "\n",
       "/* Estimator-specific */\n",
       "#sk-container-id-3 div.sk-estimator {\n",
       "  font-family: monospace;\n",
       "  border: 1px dotted var(--sklearn-color-border-box);\n",
       "  border-radius: 0.25em;\n",
       "  box-sizing: border-box;\n",
       "  margin-bottom: 0.5em;\n",
       "  /* unfitted */\n",
       "  background-color: var(--sklearn-color-unfitted-level-0);\n",
       "}\n",
       "\n",
       "#sk-container-id-3 div.sk-estimator.fitted {\n",
       "  /* fitted */\n",
       "  background-color: var(--sklearn-color-fitted-level-0);\n",
       "}\n",
       "\n",
       "/* on hover */\n",
       "#sk-container-id-3 div.sk-estimator:hover {\n",
       "  /* unfitted */\n",
       "  background-color: var(--sklearn-color-unfitted-level-2);\n",
       "}\n",
       "\n",
       "#sk-container-id-3 div.sk-estimator.fitted:hover {\n",
       "  /* fitted */\n",
       "  background-color: var(--sklearn-color-fitted-level-2);\n",
       "}\n",
       "\n",
       "/* Specification for estimator info (e.g. \"i\" and \"?\") */\n",
       "\n",
       "/* Common style for \"i\" and \"?\" */\n",
       "\n",
       ".sk-estimator-doc-link,\n",
       "a:link.sk-estimator-doc-link,\n",
       "a:visited.sk-estimator-doc-link {\n",
       "  float: right;\n",
       "  font-size: smaller;\n",
       "  line-height: 1em;\n",
       "  font-family: monospace;\n",
       "  background-color: var(--sklearn-color-background);\n",
       "  border-radius: 1em;\n",
       "  height: 1em;\n",
       "  width: 1em;\n",
       "  text-decoration: none !important;\n",
       "  margin-left: 1ex;\n",
       "  /* unfitted */\n",
       "  border: var(--sklearn-color-unfitted-level-1) 1pt solid;\n",
       "  color: var(--sklearn-color-unfitted-level-1);\n",
       "}\n",
       "\n",
       ".sk-estimator-doc-link.fitted,\n",
       "a:link.sk-estimator-doc-link.fitted,\n",
       "a:visited.sk-estimator-doc-link.fitted {\n",
       "  /* fitted */\n",
       "  border: var(--sklearn-color-fitted-level-1) 1pt solid;\n",
       "  color: var(--sklearn-color-fitted-level-1);\n",
       "}\n",
       "\n",
       "/* On hover */\n",
       "div.sk-estimator:hover .sk-estimator-doc-link:hover,\n",
       ".sk-estimator-doc-link:hover,\n",
       "div.sk-label-container:hover .sk-estimator-doc-link:hover,\n",
       ".sk-estimator-doc-link:hover {\n",
       "  /* unfitted */\n",
       "  background-color: var(--sklearn-color-unfitted-level-3);\n",
       "  color: var(--sklearn-color-background);\n",
       "  text-decoration: none;\n",
       "}\n",
       "\n",
       "div.sk-estimator.fitted:hover .sk-estimator-doc-link.fitted:hover,\n",
       ".sk-estimator-doc-link.fitted:hover,\n",
       "div.sk-label-container:hover .sk-estimator-doc-link.fitted:hover,\n",
       ".sk-estimator-doc-link.fitted:hover {\n",
       "  /* fitted */\n",
       "  background-color: var(--sklearn-color-fitted-level-3);\n",
       "  color: var(--sklearn-color-background);\n",
       "  text-decoration: none;\n",
       "}\n",
       "\n",
       "/* Span, style for the box shown on hovering the info icon */\n",
       ".sk-estimator-doc-link span {\n",
       "  display: none;\n",
       "  z-index: 9999;\n",
       "  position: relative;\n",
       "  font-weight: normal;\n",
       "  right: .2ex;\n",
       "  padding: .5ex;\n",
       "  margin: .5ex;\n",
       "  width: min-content;\n",
       "  min-width: 20ex;\n",
       "  max-width: 50ex;\n",
       "  color: var(--sklearn-color-text);\n",
       "  box-shadow: 2pt 2pt 4pt #999;\n",
       "  /* unfitted */\n",
       "  background: var(--sklearn-color-unfitted-level-0);\n",
       "  border: .5pt solid var(--sklearn-color-unfitted-level-3);\n",
       "}\n",
       "\n",
       ".sk-estimator-doc-link.fitted span {\n",
       "  /* fitted */\n",
       "  background: var(--sklearn-color-fitted-level-0);\n",
       "  border: var(--sklearn-color-fitted-level-3);\n",
       "}\n",
       "\n",
       ".sk-estimator-doc-link:hover span {\n",
       "  display: block;\n",
       "}\n",
       "\n",
       "/* \"?\"-specific style due to the `<a>` HTML tag */\n",
       "\n",
       "#sk-container-id-3 a.estimator_doc_link {\n",
       "  float: right;\n",
       "  font-size: 1rem;\n",
       "  line-height: 1em;\n",
       "  font-family: monospace;\n",
       "  background-color: var(--sklearn-color-background);\n",
       "  border-radius: 1rem;\n",
       "  height: 1rem;\n",
       "  width: 1rem;\n",
       "  text-decoration: none;\n",
       "  /* unfitted */\n",
       "  color: var(--sklearn-color-unfitted-level-1);\n",
       "  border: var(--sklearn-color-unfitted-level-1) 1pt solid;\n",
       "}\n",
       "\n",
       "#sk-container-id-3 a.estimator_doc_link.fitted {\n",
       "  /* fitted */\n",
       "  border: var(--sklearn-color-fitted-level-1) 1pt solid;\n",
       "  color: var(--sklearn-color-fitted-level-1);\n",
       "}\n",
       "\n",
       "/* On hover */\n",
       "#sk-container-id-3 a.estimator_doc_link:hover {\n",
       "  /* unfitted */\n",
       "  background-color: var(--sklearn-color-unfitted-level-3);\n",
       "  color: var(--sklearn-color-background);\n",
       "  text-decoration: none;\n",
       "}\n",
       "\n",
       "#sk-container-id-3 a.estimator_doc_link.fitted:hover {\n",
       "  /* fitted */\n",
       "  background-color: var(--sklearn-color-fitted-level-3);\n",
       "}\n",
       "</style><div id=\"sk-container-id-3\" class=\"sk-top-container\"><div class=\"sk-text-repr-fallback\"><pre>RandomizedSearchCV(estimator=Pipeline(steps=[(&#x27;encoding&#x27;,\n",
       "                                              ColumnTransformer(transformers=[(&#x27;scale&#x27;,\n",
       "                                                                               StandardScaler(),\n",
       "                                                                               [&#x27;CreditScore&#x27;,\n",
       "                                                                                &#x27;Age&#x27;,\n",
       "                                                                                &#x27;Tenure&#x27;,\n",
       "                                                                                &#x27;Balance&#x27;,\n",
       "                                                                                &#x27;EstimatedSalary&#x27;,\n",
       "                                                                                &#x27;Point &#x27;\n",
       "                                                                                &#x27;Earned&#x27;])])),\n",
       "                                             (&#x27;randfor&#x27;,\n",
       "                                              RandomForestClassifier(class_weight=&#x27;balanced&#x27;,\n",
       "                                                                     random_state=42))]),\n",
       "                   n_iter=15, n_jobs=-1,\n",
       "                   param_distributions={&#x27;randfor__class_weight&#x27;: [&#x27;balanced&#x27;],\n",
       "                                        &#x27;randfor__criterion&#x27;: [&#x27;gini&#x27;,\n",
       "                                                               &#x27;entropy&#x27;,\n",
       "                                                               &#x27;log_loss&#x27;],\n",
       "                                        &#x27;randfor__max_depth&#x27;: [30, 15, 5],\n",
       "                                        &#x27;randfor__min_samples_leaf&#x27;: [2],\n",
       "                                        &#x27;randfor__min_samples_split&#x27;: [2],\n",
       "                                        &#x27;randfor__n_estimators&#x27;: [30, 50, 75]},\n",
       "                   scoring=&#x27;recall&#x27;, verbose=2)</pre><b>In a Jupyter environment, please rerun this cell to show the HTML representation or trust the notebook. <br />On GitHub, the HTML representation is unable to render, please try loading this page with nbviewer.org.</b></div><div class=\"sk-container\" hidden><div class=\"sk-item sk-dashed-wrapped\"><div class=\"sk-label-container\"><div class=\"sk-label fitted sk-toggleable\"><input class=\"sk-toggleable__control sk-hidden--visually\" id=\"sk-estimator-id-12\" type=\"checkbox\" ><label for=\"sk-estimator-id-12\" class=\"sk-toggleable__label fitted sk-toggleable__label-arrow fitted\">&nbsp;&nbsp;RandomizedSearchCV<a class=\"sk-estimator-doc-link fitted\" rel=\"noreferrer\" target=\"_blank\" href=\"https://scikit-learn.org/1.5/modules/generated/sklearn.model_selection.RandomizedSearchCV.html\">?<span>Documentation for RandomizedSearchCV</span></a><span class=\"sk-estimator-doc-link fitted\">i<span>Fitted</span></span></label><div class=\"sk-toggleable__content fitted\"><pre>RandomizedSearchCV(estimator=Pipeline(steps=[(&#x27;encoding&#x27;,\n",
       "                                              ColumnTransformer(transformers=[(&#x27;scale&#x27;,\n",
       "                                                                               StandardScaler(),\n",
       "                                                                               [&#x27;CreditScore&#x27;,\n",
       "                                                                                &#x27;Age&#x27;,\n",
       "                                                                                &#x27;Tenure&#x27;,\n",
       "                                                                                &#x27;Balance&#x27;,\n",
       "                                                                                &#x27;EstimatedSalary&#x27;,\n",
       "                                                                                &#x27;Point &#x27;\n",
       "                                                                                &#x27;Earned&#x27;])])),\n",
       "                                             (&#x27;randfor&#x27;,\n",
       "                                              RandomForestClassifier(class_weight=&#x27;balanced&#x27;,\n",
       "                                                                     random_state=42))]),\n",
       "                   n_iter=15, n_jobs=-1,\n",
       "                   param_distributions={&#x27;randfor__class_weight&#x27;: [&#x27;balanced&#x27;],\n",
       "                                        &#x27;randfor__criterion&#x27;: [&#x27;gini&#x27;,\n",
       "                                                               &#x27;entropy&#x27;,\n",
       "                                                               &#x27;log_loss&#x27;],\n",
       "                                        &#x27;randfor__max_depth&#x27;: [30, 15, 5],\n",
       "                                        &#x27;randfor__min_samples_leaf&#x27;: [2],\n",
       "                                        &#x27;randfor__min_samples_split&#x27;: [2],\n",
       "                                        &#x27;randfor__n_estimators&#x27;: [30, 50, 75]},\n",
       "                   scoring=&#x27;recall&#x27;, verbose=2)</pre></div> </div></div><div class=\"sk-parallel\"><div class=\"sk-parallel-item\"><div class=\"sk-item\"><div class=\"sk-label-container\"><div class=\"sk-label fitted sk-toggleable\"><input class=\"sk-toggleable__control sk-hidden--visually\" id=\"sk-estimator-id-13\" type=\"checkbox\" ><label for=\"sk-estimator-id-13\" class=\"sk-toggleable__label fitted sk-toggleable__label-arrow fitted\">best_estimator_: Pipeline</label><div class=\"sk-toggleable__content fitted\"><pre>Pipeline(steps=[(&#x27;encoding&#x27;,\n",
       "                 ColumnTransformer(transformers=[(&#x27;scale&#x27;, StandardScaler(),\n",
       "                                                  [&#x27;CreditScore&#x27;, &#x27;Age&#x27;,\n",
       "                                                   &#x27;Tenure&#x27;, &#x27;Balance&#x27;,\n",
       "                                                   &#x27;EstimatedSalary&#x27;,\n",
       "                                                   &#x27;Point Earned&#x27;])])),\n",
       "                (&#x27;randfor&#x27;,\n",
       "                 RandomForestClassifier(class_weight=&#x27;balanced&#x27;,\n",
       "                                        criterion=&#x27;log_loss&#x27;, max_depth=30,\n",
       "                                        min_samples_leaf=2, n_estimators=50,\n",
       "                                        random_state=42))])</pre></div> </div></div><div class=\"sk-serial\"><div class=\"sk-item\"><div class=\"sk-serial\"><div class=\"sk-item sk-dashed-wrapped\"><div class=\"sk-label-container\"><div class=\"sk-label fitted sk-toggleable\"><input class=\"sk-toggleable__control sk-hidden--visually\" id=\"sk-estimator-id-14\" type=\"checkbox\" ><label for=\"sk-estimator-id-14\" class=\"sk-toggleable__label fitted sk-toggleable__label-arrow fitted\">&nbsp;encoding: ColumnTransformer<a class=\"sk-estimator-doc-link fitted\" rel=\"noreferrer\" target=\"_blank\" href=\"https://scikit-learn.org/1.5/modules/generated/sklearn.compose.ColumnTransformer.html\">?<span>Documentation for encoding: ColumnTransformer</span></a></label><div class=\"sk-toggleable__content fitted\"><pre>ColumnTransformer(transformers=[(&#x27;scale&#x27;, StandardScaler(),\n",
       "                                 [&#x27;CreditScore&#x27;, &#x27;Age&#x27;, &#x27;Tenure&#x27;, &#x27;Balance&#x27;,\n",
       "                                  &#x27;EstimatedSalary&#x27;, &#x27;Point Earned&#x27;])])</pre></div> </div></div><div class=\"sk-parallel\"><div class=\"sk-parallel-item\"><div class=\"sk-item\"><div class=\"sk-label-container\"><div class=\"sk-label fitted sk-toggleable\"><input class=\"sk-toggleable__control sk-hidden--visually\" id=\"sk-estimator-id-15\" type=\"checkbox\" ><label for=\"sk-estimator-id-15\" class=\"sk-toggleable__label fitted sk-toggleable__label-arrow fitted\">scale</label><div class=\"sk-toggleable__content fitted\"><pre>[&#x27;CreditScore&#x27;, &#x27;Age&#x27;, &#x27;Tenure&#x27;, &#x27;Balance&#x27;, &#x27;EstimatedSalary&#x27;, &#x27;Point Earned&#x27;]</pre></div> </div></div><div class=\"sk-serial\"><div class=\"sk-item\"><div class=\"sk-estimator fitted sk-toggleable\"><input class=\"sk-toggleable__control sk-hidden--visually\" id=\"sk-estimator-id-16\" type=\"checkbox\" ><label for=\"sk-estimator-id-16\" class=\"sk-toggleable__label fitted sk-toggleable__label-arrow fitted\">&nbsp;StandardScaler<a class=\"sk-estimator-doc-link fitted\" rel=\"noreferrer\" target=\"_blank\" href=\"https://scikit-learn.org/1.5/modules/generated/sklearn.preprocessing.StandardScaler.html\">?<span>Documentation for StandardScaler</span></a></label><div class=\"sk-toggleable__content fitted\"><pre>StandardScaler()</pre></div> </div></div></div></div></div></div></div><div class=\"sk-item\"><div class=\"sk-estimator fitted sk-toggleable\"><input class=\"sk-toggleable__control sk-hidden--visually\" id=\"sk-estimator-id-17\" type=\"checkbox\" ><label for=\"sk-estimator-id-17\" class=\"sk-toggleable__label fitted sk-toggleable__label-arrow fitted\">&nbsp;RandomForestClassifier<a class=\"sk-estimator-doc-link fitted\" rel=\"noreferrer\" target=\"_blank\" href=\"https://scikit-learn.org/1.5/modules/generated/sklearn.ensemble.RandomForestClassifier.html\">?<span>Documentation for RandomForestClassifier</span></a></label><div class=\"sk-toggleable__content fitted\"><pre>RandomForestClassifier(class_weight=&#x27;balanced&#x27;, criterion=&#x27;log_loss&#x27;,\n",
       "                       max_depth=30, min_samples_leaf=2, n_estimators=50,\n",
       "                       random_state=42)</pre></div> </div></div></div></div></div></div></div></div></div></div></div>"
      ],
      "text/plain": [
       "RandomizedSearchCV(estimator=Pipeline(steps=[('encoding',\n",
       "                                              ColumnTransformer(transformers=[('scale',\n",
       "                                                                               StandardScaler(),\n",
       "                                                                               ['CreditScore',\n",
       "                                                                                'Age',\n",
       "                                                                                'Tenure',\n",
       "                                                                                'Balance',\n",
       "                                                                                'EstimatedSalary',\n",
       "                                                                                'Point '\n",
       "                                                                                'Earned'])])),\n",
       "                                             ('randfor',\n",
       "                                              RandomForestClassifier(class_weight='balanced',\n",
       "                                                                     random_state=42))]),\n",
       "                   n_iter=15, n_jobs=-1,\n",
       "                   param_distributions={'randfor__class_weight': ['balanced'],\n",
       "                                        'randfor__criterion': ['gini',\n",
       "                                                               'entropy',\n",
       "                                                               'log_loss'],\n",
       "                                        'randfor__max_depth': [30, 15, 5],\n",
       "                                        'randfor__min_samples_leaf': [2],\n",
       "                                        'randfor__min_samples_split': [2],\n",
       "                                        'randfor__n_estimators': [30, 50, 75]},\n",
       "                   scoring='recall', verbose=2)"
      ]
     },
     "execution_count": 82,
     "metadata": {},
     "output_type": "execute_result"
    }
   ],
   "source": [
    "best_randfor = RandomizedSearchCV(pipe_randfor_alt,param_distributions=grid_randfor,n_iter=15,verbose=2,n_jobs=-1,refit=True,scoring='recall')\n",
    "best_randfor.fit(new_train,y_train)"
   ]
  },
  {
   "cell_type": "code",
   "execution_count": 83,
   "metadata": {},
   "outputs": [
    {
     "data": {
      "text/plain": [
       "{'randfor__n_estimators': 50,\n",
       " 'randfor__min_samples_split': 2,\n",
       " 'randfor__min_samples_leaf': 2,\n",
       " 'randfor__max_depth': 30,\n",
       " 'randfor__criterion': 'log_loss',\n",
       " 'randfor__class_weight': 'balanced'}"
      ]
     },
     "execution_count": 83,
     "metadata": {},
     "output_type": "execute_result"
    }
   ],
   "source": [
    "# ekstrak hasil kombinasi terbaik\n",
    "new_best_model = best_randfor.best_estimator_\n",
    "best_randfor.best_params_"
   ]
  },
  {
   "cell_type": "code",
   "execution_count": 84,
   "metadata": {},
   "outputs": [
    {
     "name": "stdout",
     "output_type": "stream",
     "text": [
      "mean = 0.81\n",
      "std = 0.06\n"
     ]
    }
   ],
   "source": [
    "www = cross_val_score(new_best_model,new_train,y_train,cv=5,scoring='recall')\n",
    "print(f'mean = {www.mean():.2f}')\n",
    "print(f'std = {www.std():.2f}')"
   ]
  },
  {
   "cell_type": "code",
   "execution_count": 85,
   "metadata": {},
   "outputs": [
    {
     "name": "stdout",
     "output_type": "stream",
     "text": [
      "              precision    recall  f1-score   support\n",
      "\n",
      "           0       0.99      0.99      0.99      6286\n",
      "           1       0.99      0.99      0.99      6286\n",
      "\n",
      "    accuracy                           0.99     12572\n",
      "   macro avg       0.99      0.99      0.99     12572\n",
      "weighted avg       0.99      0.99      0.99     12572\n",
      "\n",
      "              precision    recall  f1-score   support\n",
      "\n",
      "           0       0.76      0.88      0.82      1440\n",
      "           1       0.60      0.39      0.47       655\n",
      "\n",
      "    accuracy                           0.73      2095\n",
      "   macro avg       0.68      0.64      0.65      2095\n",
      "weighted avg       0.71      0.73      0.71      2095\n",
      "\n"
     ]
    }
   ],
   "source": [
    "# membandingkan hasil model parameter tuning untuk mengetahui kualitas atau performa train dan test set\n",
    "train_new_best = new_best_model.predict(new_train)\n",
    "print(classification_report(train_new_best,y_train))\n",
    "pred_best = new_best_model.predict(new_test)\n",
    "print(classification_report(pred_best,y_test))\n"
   ]
  },
  {
   "cell_type": "code",
   "execution_count": 86,
   "metadata": {},
   "outputs": [
    {
     "name": "stdout",
     "output_type": "stream",
     "text": [
      "              precision    recall  f1-score   support\n",
      "\n",
      "           0       1.00      1.00      1.00      6286\n",
      "           1       1.00      1.00      1.00      6286\n",
      "\n",
      "    accuracy                           1.00     12572\n",
      "   macro avg       1.00      1.00      1.00     12572\n",
      "weighted avg       1.00      1.00      1.00     12572\n",
      "\n",
      "              precision    recall  f1-score   support\n",
      "\n",
      "           0       0.78      0.88      0.82      1468\n",
      "           1       0.59      0.40      0.48       627\n",
      "\n",
      "    accuracy                           0.74      2095\n",
      "   macro avg       0.68      0.64      0.65      2095\n",
      "weighted avg       0.72      0.74      0.72      2095\n",
      "\n"
     ]
    }
   ],
   "source": [
    "#### Based model\n",
    "print(classification_report(pipe_randfor_alt.predict(new_train),y_train))\n",
    "print(classification_report(randfor_,y_test))"
   ]
  },
  {
   "cell_type": "markdown",
   "metadata": {},
   "source": [
    "## Insight :\n",
    "hasil nilai rata-rata dari 5 kali pengujian dengan menggunakan hasil dari proses parameter tuning mengalami peningkatan namun stabilitasnya menjadi berkurang dan apabila dibandingan menggunakan metriknya dengan model base-nya benar bahwa ada peningkatan namun tetap hasil prediksi pada test set tetap overfit terhadap data trainnya."
   ]
  },
  {
   "cell_type": "markdown",
   "metadata": {},
   "source": [
    "#  OPSI 2 XGboost tuning"
   ]
  },
  {
   "cell_type": "code",
   "execution_count": 87,
   "metadata": {},
   "outputs": [],
   "source": [
    "# menginisialisasi kombinasi parameter \n",
    "params = {\n",
    "    'n_estimators': [100, 200, 500],\n",
    "    'learning_rate': [0.01,0.05,0.1],\n",
    "    'booster': ['gbtree', 'gblinear'],\n",
    "    'gamma': [0, 0.5, 1],\n",
    "    'reg_alpha': [0, 0.5, 1],\n",
    "    'reg_lambda': [0.5, 1, 5],\n",
    "    'base_score': [0.2, 0.5, 1]\n",
    "}"
   ]
  },
  {
   "cell_type": "code",
   "execution_count": 88,
   "metadata": {},
   "outputs": [
    {
     "data": {
      "text/html": [
       "<style>#sk-container-id-4 {\n",
       "  /* Definition of color scheme common for light and dark mode */\n",
       "  --sklearn-color-text: black;\n",
       "  --sklearn-color-line: gray;\n",
       "  /* Definition of color scheme for unfitted estimators */\n",
       "  --sklearn-color-unfitted-level-0: #fff5e6;\n",
       "  --sklearn-color-unfitted-level-1: #f6e4d2;\n",
       "  --sklearn-color-unfitted-level-2: #ffe0b3;\n",
       "  --sklearn-color-unfitted-level-3: chocolate;\n",
       "  /* Definition of color scheme for fitted estimators */\n",
       "  --sklearn-color-fitted-level-0: #f0f8ff;\n",
       "  --sklearn-color-fitted-level-1: #d4ebff;\n",
       "  --sklearn-color-fitted-level-2: #b3dbfd;\n",
       "  --sklearn-color-fitted-level-3: cornflowerblue;\n",
       "\n",
       "  /* Specific color for light theme */\n",
       "  --sklearn-color-text-on-default-background: var(--sg-text-color, var(--theme-code-foreground, var(--jp-content-font-color1, black)));\n",
       "  --sklearn-color-background: var(--sg-background-color, var(--theme-background, var(--jp-layout-color0, white)));\n",
       "  --sklearn-color-border-box: var(--sg-text-color, var(--theme-code-foreground, var(--jp-content-font-color1, black)));\n",
       "  --sklearn-color-icon: #696969;\n",
       "\n",
       "  @media (prefers-color-scheme: dark) {\n",
       "    /* Redefinition of color scheme for dark theme */\n",
       "    --sklearn-color-text-on-default-background: var(--sg-text-color, var(--theme-code-foreground, var(--jp-content-font-color1, white)));\n",
       "    --sklearn-color-background: var(--sg-background-color, var(--theme-background, var(--jp-layout-color0, #111)));\n",
       "    --sklearn-color-border-box: var(--sg-text-color, var(--theme-code-foreground, var(--jp-content-font-color1, white)));\n",
       "    --sklearn-color-icon: #878787;\n",
       "  }\n",
       "}\n",
       "\n",
       "#sk-container-id-4 {\n",
       "  color: var(--sklearn-color-text);\n",
       "}\n",
       "\n",
       "#sk-container-id-4 pre {\n",
       "  padding: 0;\n",
       "}\n",
       "\n",
       "#sk-container-id-4 input.sk-hidden--visually {\n",
       "  border: 0;\n",
       "  clip: rect(1px 1px 1px 1px);\n",
       "  clip: rect(1px, 1px, 1px, 1px);\n",
       "  height: 1px;\n",
       "  margin: -1px;\n",
       "  overflow: hidden;\n",
       "  padding: 0;\n",
       "  position: absolute;\n",
       "  width: 1px;\n",
       "}\n",
       "\n",
       "#sk-container-id-4 div.sk-dashed-wrapped {\n",
       "  border: 1px dashed var(--sklearn-color-line);\n",
       "  margin: 0 0.4em 0.5em 0.4em;\n",
       "  box-sizing: border-box;\n",
       "  padding-bottom: 0.4em;\n",
       "  background-color: var(--sklearn-color-background);\n",
       "}\n",
       "\n",
       "#sk-container-id-4 div.sk-container {\n",
       "  /* jupyter's `normalize.less` sets `[hidden] { display: none; }`\n",
       "     but bootstrap.min.css set `[hidden] { display: none !important; }`\n",
       "     so we also need the `!important` here to be able to override the\n",
       "     default hidden behavior on the sphinx rendered scikit-learn.org.\n",
       "     See: https://github.com/scikit-learn/scikit-learn/issues/21755 */\n",
       "  display: inline-block !important;\n",
       "  position: relative;\n",
       "}\n",
       "\n",
       "#sk-container-id-4 div.sk-text-repr-fallback {\n",
       "  display: none;\n",
       "}\n",
       "\n",
       "div.sk-parallel-item,\n",
       "div.sk-serial,\n",
       "div.sk-item {\n",
       "  /* draw centered vertical line to link estimators */\n",
       "  background-image: linear-gradient(var(--sklearn-color-text-on-default-background), var(--sklearn-color-text-on-default-background));\n",
       "  background-size: 2px 100%;\n",
       "  background-repeat: no-repeat;\n",
       "  background-position: center center;\n",
       "}\n",
       "\n",
       "/* Parallel-specific style estimator block */\n",
       "\n",
       "#sk-container-id-4 div.sk-parallel-item::after {\n",
       "  content: \"\";\n",
       "  width: 100%;\n",
       "  border-bottom: 2px solid var(--sklearn-color-text-on-default-background);\n",
       "  flex-grow: 1;\n",
       "}\n",
       "\n",
       "#sk-container-id-4 div.sk-parallel {\n",
       "  display: flex;\n",
       "  align-items: stretch;\n",
       "  justify-content: center;\n",
       "  background-color: var(--sklearn-color-background);\n",
       "  position: relative;\n",
       "}\n",
       "\n",
       "#sk-container-id-4 div.sk-parallel-item {\n",
       "  display: flex;\n",
       "  flex-direction: column;\n",
       "}\n",
       "\n",
       "#sk-container-id-4 div.sk-parallel-item:first-child::after {\n",
       "  align-self: flex-end;\n",
       "  width: 50%;\n",
       "}\n",
       "\n",
       "#sk-container-id-4 div.sk-parallel-item:last-child::after {\n",
       "  align-self: flex-start;\n",
       "  width: 50%;\n",
       "}\n",
       "\n",
       "#sk-container-id-4 div.sk-parallel-item:only-child::after {\n",
       "  width: 0;\n",
       "}\n",
       "\n",
       "/* Serial-specific style estimator block */\n",
       "\n",
       "#sk-container-id-4 div.sk-serial {\n",
       "  display: flex;\n",
       "  flex-direction: column;\n",
       "  align-items: center;\n",
       "  background-color: var(--sklearn-color-background);\n",
       "  padding-right: 1em;\n",
       "  padding-left: 1em;\n",
       "}\n",
       "\n",
       "\n",
       "/* Toggleable style: style used for estimator/Pipeline/ColumnTransformer box that is\n",
       "clickable and can be expanded/collapsed.\n",
       "- Pipeline and ColumnTransformer use this feature and define the default style\n",
       "- Estimators will overwrite some part of the style using the `sk-estimator` class\n",
       "*/\n",
       "\n",
       "/* Pipeline and ColumnTransformer style (default) */\n",
       "\n",
       "#sk-container-id-4 div.sk-toggleable {\n",
       "  /* Default theme specific background. It is overwritten whether we have a\n",
       "  specific estimator or a Pipeline/ColumnTransformer */\n",
       "  background-color: var(--sklearn-color-background);\n",
       "}\n",
       "\n",
       "/* Toggleable label */\n",
       "#sk-container-id-4 label.sk-toggleable__label {\n",
       "  cursor: pointer;\n",
       "  display: block;\n",
       "  width: 100%;\n",
       "  margin-bottom: 0;\n",
       "  padding: 0.5em;\n",
       "  box-sizing: border-box;\n",
       "  text-align: center;\n",
       "}\n",
       "\n",
       "#sk-container-id-4 label.sk-toggleable__label-arrow:before {\n",
       "  /* Arrow on the left of the label */\n",
       "  content: \"▸\";\n",
       "  float: left;\n",
       "  margin-right: 0.25em;\n",
       "  color: var(--sklearn-color-icon);\n",
       "}\n",
       "\n",
       "#sk-container-id-4 label.sk-toggleable__label-arrow:hover:before {\n",
       "  color: var(--sklearn-color-text);\n",
       "}\n",
       "\n",
       "/* Toggleable content - dropdown */\n",
       "\n",
       "#sk-container-id-4 div.sk-toggleable__content {\n",
       "  max-height: 0;\n",
       "  max-width: 0;\n",
       "  overflow: hidden;\n",
       "  text-align: left;\n",
       "  /* unfitted */\n",
       "  background-color: var(--sklearn-color-unfitted-level-0);\n",
       "}\n",
       "\n",
       "#sk-container-id-4 div.sk-toggleable__content.fitted {\n",
       "  /* fitted */\n",
       "  background-color: var(--sklearn-color-fitted-level-0);\n",
       "}\n",
       "\n",
       "#sk-container-id-4 div.sk-toggleable__content pre {\n",
       "  margin: 0.2em;\n",
       "  border-radius: 0.25em;\n",
       "  color: var(--sklearn-color-text);\n",
       "  /* unfitted */\n",
       "  background-color: var(--sklearn-color-unfitted-level-0);\n",
       "}\n",
       "\n",
       "#sk-container-id-4 div.sk-toggleable__content.fitted pre {\n",
       "  /* unfitted */\n",
       "  background-color: var(--sklearn-color-fitted-level-0);\n",
       "}\n",
       "\n",
       "#sk-container-id-4 input.sk-toggleable__control:checked~div.sk-toggleable__content {\n",
       "  /* Expand drop-down */\n",
       "  max-height: 200px;\n",
       "  max-width: 100%;\n",
       "  overflow: auto;\n",
       "}\n",
       "\n",
       "#sk-container-id-4 input.sk-toggleable__control:checked~label.sk-toggleable__label-arrow:before {\n",
       "  content: \"▾\";\n",
       "}\n",
       "\n",
       "/* Pipeline/ColumnTransformer-specific style */\n",
       "\n",
       "#sk-container-id-4 div.sk-label input.sk-toggleable__control:checked~label.sk-toggleable__label {\n",
       "  color: var(--sklearn-color-text);\n",
       "  background-color: var(--sklearn-color-unfitted-level-2);\n",
       "}\n",
       "\n",
       "#sk-container-id-4 div.sk-label.fitted input.sk-toggleable__control:checked~label.sk-toggleable__label {\n",
       "  background-color: var(--sklearn-color-fitted-level-2);\n",
       "}\n",
       "\n",
       "/* Estimator-specific style */\n",
       "\n",
       "/* Colorize estimator box */\n",
       "#sk-container-id-4 div.sk-estimator input.sk-toggleable__control:checked~label.sk-toggleable__label {\n",
       "  /* unfitted */\n",
       "  background-color: var(--sklearn-color-unfitted-level-2);\n",
       "}\n",
       "\n",
       "#sk-container-id-4 div.sk-estimator.fitted input.sk-toggleable__control:checked~label.sk-toggleable__label {\n",
       "  /* fitted */\n",
       "  background-color: var(--sklearn-color-fitted-level-2);\n",
       "}\n",
       "\n",
       "#sk-container-id-4 div.sk-label label.sk-toggleable__label,\n",
       "#sk-container-id-4 div.sk-label label {\n",
       "  /* The background is the default theme color */\n",
       "  color: var(--sklearn-color-text-on-default-background);\n",
       "}\n",
       "\n",
       "/* On hover, darken the color of the background */\n",
       "#sk-container-id-4 div.sk-label:hover label.sk-toggleable__label {\n",
       "  color: var(--sklearn-color-text);\n",
       "  background-color: var(--sklearn-color-unfitted-level-2);\n",
       "}\n",
       "\n",
       "/* Label box, darken color on hover, fitted */\n",
       "#sk-container-id-4 div.sk-label.fitted:hover label.sk-toggleable__label.fitted {\n",
       "  color: var(--sklearn-color-text);\n",
       "  background-color: var(--sklearn-color-fitted-level-2);\n",
       "}\n",
       "\n",
       "/* Estimator label */\n",
       "\n",
       "#sk-container-id-4 div.sk-label label {\n",
       "  font-family: monospace;\n",
       "  font-weight: bold;\n",
       "  display: inline-block;\n",
       "  line-height: 1.2em;\n",
       "}\n",
       "\n",
       "#sk-container-id-4 div.sk-label-container {\n",
       "  text-align: center;\n",
       "}\n",
       "\n",
       "/* Estimator-specific */\n",
       "#sk-container-id-4 div.sk-estimator {\n",
       "  font-family: monospace;\n",
       "  border: 1px dotted var(--sklearn-color-border-box);\n",
       "  border-radius: 0.25em;\n",
       "  box-sizing: border-box;\n",
       "  margin-bottom: 0.5em;\n",
       "  /* unfitted */\n",
       "  background-color: var(--sklearn-color-unfitted-level-0);\n",
       "}\n",
       "\n",
       "#sk-container-id-4 div.sk-estimator.fitted {\n",
       "  /* fitted */\n",
       "  background-color: var(--sklearn-color-fitted-level-0);\n",
       "}\n",
       "\n",
       "/* on hover */\n",
       "#sk-container-id-4 div.sk-estimator:hover {\n",
       "  /* unfitted */\n",
       "  background-color: var(--sklearn-color-unfitted-level-2);\n",
       "}\n",
       "\n",
       "#sk-container-id-4 div.sk-estimator.fitted:hover {\n",
       "  /* fitted */\n",
       "  background-color: var(--sklearn-color-fitted-level-2);\n",
       "}\n",
       "\n",
       "/* Specification for estimator info (e.g. \"i\" and \"?\") */\n",
       "\n",
       "/* Common style for \"i\" and \"?\" */\n",
       "\n",
       ".sk-estimator-doc-link,\n",
       "a:link.sk-estimator-doc-link,\n",
       "a:visited.sk-estimator-doc-link {\n",
       "  float: right;\n",
       "  font-size: smaller;\n",
       "  line-height: 1em;\n",
       "  font-family: monospace;\n",
       "  background-color: var(--sklearn-color-background);\n",
       "  border-radius: 1em;\n",
       "  height: 1em;\n",
       "  width: 1em;\n",
       "  text-decoration: none !important;\n",
       "  margin-left: 1ex;\n",
       "  /* unfitted */\n",
       "  border: var(--sklearn-color-unfitted-level-1) 1pt solid;\n",
       "  color: var(--sklearn-color-unfitted-level-1);\n",
       "}\n",
       "\n",
       ".sk-estimator-doc-link.fitted,\n",
       "a:link.sk-estimator-doc-link.fitted,\n",
       "a:visited.sk-estimator-doc-link.fitted {\n",
       "  /* fitted */\n",
       "  border: var(--sklearn-color-fitted-level-1) 1pt solid;\n",
       "  color: var(--sklearn-color-fitted-level-1);\n",
       "}\n",
       "\n",
       "/* On hover */\n",
       "div.sk-estimator:hover .sk-estimator-doc-link:hover,\n",
       ".sk-estimator-doc-link:hover,\n",
       "div.sk-label-container:hover .sk-estimator-doc-link:hover,\n",
       ".sk-estimator-doc-link:hover {\n",
       "  /* unfitted */\n",
       "  background-color: var(--sklearn-color-unfitted-level-3);\n",
       "  color: var(--sklearn-color-background);\n",
       "  text-decoration: none;\n",
       "}\n",
       "\n",
       "div.sk-estimator.fitted:hover .sk-estimator-doc-link.fitted:hover,\n",
       ".sk-estimator-doc-link.fitted:hover,\n",
       "div.sk-label-container:hover .sk-estimator-doc-link.fitted:hover,\n",
       ".sk-estimator-doc-link.fitted:hover {\n",
       "  /* fitted */\n",
       "  background-color: var(--sklearn-color-fitted-level-3);\n",
       "  color: var(--sklearn-color-background);\n",
       "  text-decoration: none;\n",
       "}\n",
       "\n",
       "/* Span, style for the box shown on hovering the info icon */\n",
       ".sk-estimator-doc-link span {\n",
       "  display: none;\n",
       "  z-index: 9999;\n",
       "  position: relative;\n",
       "  font-weight: normal;\n",
       "  right: .2ex;\n",
       "  padding: .5ex;\n",
       "  margin: .5ex;\n",
       "  width: min-content;\n",
       "  min-width: 20ex;\n",
       "  max-width: 50ex;\n",
       "  color: var(--sklearn-color-text);\n",
       "  box-shadow: 2pt 2pt 4pt #999;\n",
       "  /* unfitted */\n",
       "  background: var(--sklearn-color-unfitted-level-0);\n",
       "  border: .5pt solid var(--sklearn-color-unfitted-level-3);\n",
       "}\n",
       "\n",
       ".sk-estimator-doc-link.fitted span {\n",
       "  /* fitted */\n",
       "  background: var(--sklearn-color-fitted-level-0);\n",
       "  border: var(--sklearn-color-fitted-level-3);\n",
       "}\n",
       "\n",
       ".sk-estimator-doc-link:hover span {\n",
       "  display: block;\n",
       "}\n",
       "\n",
       "/* \"?\"-specific style due to the `<a>` HTML tag */\n",
       "\n",
       "#sk-container-id-4 a.estimator_doc_link {\n",
       "  float: right;\n",
       "  font-size: 1rem;\n",
       "  line-height: 1em;\n",
       "  font-family: monospace;\n",
       "  background-color: var(--sklearn-color-background);\n",
       "  border-radius: 1rem;\n",
       "  height: 1rem;\n",
       "  width: 1rem;\n",
       "  text-decoration: none;\n",
       "  /* unfitted */\n",
       "  color: var(--sklearn-color-unfitted-level-1);\n",
       "  border: var(--sklearn-color-unfitted-level-1) 1pt solid;\n",
       "}\n",
       "\n",
       "#sk-container-id-4 a.estimator_doc_link.fitted {\n",
       "  /* fitted */\n",
       "  border: var(--sklearn-color-fitted-level-1) 1pt solid;\n",
       "  color: var(--sklearn-color-fitted-level-1);\n",
       "}\n",
       "\n",
       "/* On hover */\n",
       "#sk-container-id-4 a.estimator_doc_link:hover {\n",
       "  /* unfitted */\n",
       "  background-color: var(--sklearn-color-unfitted-level-3);\n",
       "  color: var(--sklearn-color-background);\n",
       "  text-decoration: none;\n",
       "}\n",
       "\n",
       "#sk-container-id-4 a.estimator_doc_link.fitted:hover {\n",
       "  /* fitted */\n",
       "  background-color: var(--sklearn-color-fitted-level-3);\n",
       "}\n",
       "</style><div id=\"sk-container-id-4\" class=\"sk-top-container\"><div class=\"sk-text-repr-fallback\"><pre>RandomizedSearchCV(cv=5,\n",
       "                   estimator=XGBClassifier(base_score=None, booster=None,\n",
       "                                           callbacks=None,\n",
       "                                           colsample_bylevel=None,\n",
       "                                           colsample_bynode=None,\n",
       "                                           colsample_bytree=None,\n",
       "                                           early_stopping_rounds=None,\n",
       "                                           enable_categorical=False,\n",
       "                                           eval_metric=None, feature_types=None,\n",
       "                                           gamma=None, gpu_id=None,\n",
       "                                           grow_policy=None,\n",
       "                                           importance_type=None,\n",
       "                                           interaction_constraints=None,\n",
       "                                           learning_rate...\n",
       "                                           min_child_weight=None, missing=nan,\n",
       "                                           monotone_constraints=None,\n",
       "                                           n_estimators=100, n_jobs=-1,\n",
       "                                           num_parallel_tree=None,\n",
       "                                           predictor=None, random_state=None, ...),\n",
       "                   n_jobs=-1,\n",
       "                   param_distributions={&#x27;base_score&#x27;: [0.2, 0.5, 1],\n",
       "                                        &#x27;booster&#x27;: [&#x27;gbtree&#x27;, &#x27;gblinear&#x27;],\n",
       "                                        &#x27;gamma&#x27;: [0, 0.5, 1],\n",
       "                                        &#x27;learning_rate&#x27;: [0.01, 0.05, 0.1],\n",
       "                                        &#x27;n_estimators&#x27;: [100, 200, 500],\n",
       "                                        &#x27;reg_alpha&#x27;: [0, 0.5, 1],\n",
       "                                        &#x27;reg_lambda&#x27;: [0.5, 1, 5]},\n",
       "                   scoring=&#x27;recall&#x27;)</pre><b>In a Jupyter environment, please rerun this cell to show the HTML representation or trust the notebook. <br />On GitHub, the HTML representation is unable to render, please try loading this page with nbviewer.org.</b></div><div class=\"sk-container\" hidden><div class=\"sk-item sk-dashed-wrapped\"><div class=\"sk-label-container\"><div class=\"sk-label fitted sk-toggleable\"><input class=\"sk-toggleable__control sk-hidden--visually\" id=\"sk-estimator-id-18\" type=\"checkbox\" ><label for=\"sk-estimator-id-18\" class=\"sk-toggleable__label fitted sk-toggleable__label-arrow fitted\">&nbsp;&nbsp;RandomizedSearchCV<a class=\"sk-estimator-doc-link fitted\" rel=\"noreferrer\" target=\"_blank\" href=\"https://scikit-learn.org/1.5/modules/generated/sklearn.model_selection.RandomizedSearchCV.html\">?<span>Documentation for RandomizedSearchCV</span></a><span class=\"sk-estimator-doc-link fitted\">i<span>Fitted</span></span></label><div class=\"sk-toggleable__content fitted\"><pre>RandomizedSearchCV(cv=5,\n",
       "                   estimator=XGBClassifier(base_score=None, booster=None,\n",
       "                                           callbacks=None,\n",
       "                                           colsample_bylevel=None,\n",
       "                                           colsample_bynode=None,\n",
       "                                           colsample_bytree=None,\n",
       "                                           early_stopping_rounds=None,\n",
       "                                           enable_categorical=False,\n",
       "                                           eval_metric=None, feature_types=None,\n",
       "                                           gamma=None, gpu_id=None,\n",
       "                                           grow_policy=None,\n",
       "                                           importance_type=None,\n",
       "                                           interaction_constraints=None,\n",
       "                                           learning_rate...\n",
       "                                           min_child_weight=None, missing=nan,\n",
       "                                           monotone_constraints=None,\n",
       "                                           n_estimators=100, n_jobs=-1,\n",
       "                                           num_parallel_tree=None,\n",
       "                                           predictor=None, random_state=None, ...),\n",
       "                   n_jobs=-1,\n",
       "                   param_distributions={&#x27;base_score&#x27;: [0.2, 0.5, 1],\n",
       "                                        &#x27;booster&#x27;: [&#x27;gbtree&#x27;, &#x27;gblinear&#x27;],\n",
       "                                        &#x27;gamma&#x27;: [0, 0.5, 1],\n",
       "                                        &#x27;learning_rate&#x27;: [0.01, 0.05, 0.1],\n",
       "                                        &#x27;n_estimators&#x27;: [100, 200, 500],\n",
       "                                        &#x27;reg_alpha&#x27;: [0, 0.5, 1],\n",
       "                                        &#x27;reg_lambda&#x27;: [0.5, 1, 5]},\n",
       "                   scoring=&#x27;recall&#x27;)</pre></div> </div></div><div class=\"sk-parallel\"><div class=\"sk-parallel-item\"><div class=\"sk-item\"><div class=\"sk-label-container\"><div class=\"sk-label fitted sk-toggleable\"><input class=\"sk-toggleable__control sk-hidden--visually\" id=\"sk-estimator-id-19\" type=\"checkbox\" ><label for=\"sk-estimator-id-19\" class=\"sk-toggleable__label fitted sk-toggleable__label-arrow fitted\">best_estimator_: XGBClassifier</label><div class=\"sk-toggleable__content fitted\"><pre>XGBClassifier(base_score=0.5, booster=&#x27;gbtree&#x27;, callbacks=None,\n",
       "              colsample_bylevel=None, colsample_bynode=None,\n",
       "              colsample_bytree=None, early_stopping_rounds=None,\n",
       "              enable_categorical=False, eval_metric=None, feature_types=None,\n",
       "              gamma=0.5, gpu_id=None, grow_policy=None, importance_type=None,\n",
       "              interaction_constraints=None, learning_rate=0.1, max_bin=None,\n",
       "              max_cat_threshold=None, max_cat_to_onehot=None,\n",
       "              max_delta_step=None, max_depth=None, max_leaves=None,\n",
       "              min_child_weight=None, missing=nan, monotone_constraints=None,\n",
       "              n_estimators=200, n_jobs=-1, num_parallel_tree=None,\n",
       "              predictor=None, random_state=None, ...)</pre></div> </div></div><div class=\"sk-serial\"><div class=\"sk-item\"><div class=\"sk-estimator fitted sk-toggleable\"><input class=\"sk-toggleable__control sk-hidden--visually\" id=\"sk-estimator-id-20\" type=\"checkbox\" ><label for=\"sk-estimator-id-20\" class=\"sk-toggleable__label fitted sk-toggleable__label-arrow fitted\">XGBClassifier</label><div class=\"sk-toggleable__content fitted\"><pre>XGBClassifier(base_score=0.5, booster=&#x27;gbtree&#x27;, callbacks=None,\n",
       "              colsample_bylevel=None, colsample_bynode=None,\n",
       "              colsample_bytree=None, early_stopping_rounds=None,\n",
       "              enable_categorical=False, eval_metric=None, feature_types=None,\n",
       "              gamma=0.5, gpu_id=None, grow_policy=None, importance_type=None,\n",
       "              interaction_constraints=None, learning_rate=0.1, max_bin=None,\n",
       "              max_cat_threshold=None, max_cat_to_onehot=None,\n",
       "              max_delta_step=None, max_depth=None, max_leaves=None,\n",
       "              min_child_weight=None, missing=nan, monotone_constraints=None,\n",
       "              n_estimators=200, n_jobs=-1, num_parallel_tree=None,\n",
       "              predictor=None, random_state=None, ...)</pre></div> </div></div></div></div></div></div></div></div></div>"
      ],
      "text/plain": [
       "RandomizedSearchCV(cv=5,\n",
       "                   estimator=XGBClassifier(base_score=None, booster=None,\n",
       "                                           callbacks=None,\n",
       "                                           colsample_bylevel=None,\n",
       "                                           colsample_bynode=None,\n",
       "                                           colsample_bytree=None,\n",
       "                                           early_stopping_rounds=None,\n",
       "                                           enable_categorical=False,\n",
       "                                           eval_metric=None, feature_types=None,\n",
       "                                           gamma=None, gpu_id=None,\n",
       "                                           grow_policy=None,\n",
       "                                           importance_type=None,\n",
       "                                           interaction_constraints=None,\n",
       "                                           learning_rate...\n",
       "                                           min_child_weight=None, missing=nan,\n",
       "                                           monotone_constraints=None,\n",
       "                                           n_estimators=100, n_jobs=-1,\n",
       "                                           num_parallel_tree=None,\n",
       "                                           predictor=None, random_state=None, ...),\n",
       "                   n_jobs=-1,\n",
       "                   param_distributions={'base_score': [0.2, 0.5, 1],\n",
       "                                        'booster': ['gbtree', 'gblinear'],\n",
       "                                        'gamma': [0, 0.5, 1],\n",
       "                                        'learning_rate': [0.01, 0.05, 0.1],\n",
       "                                        'n_estimators': [100, 200, 500],\n",
       "                                        'reg_alpha': [0, 0.5, 1],\n",
       "                                        'reg_lambda': [0.5, 1, 5]},\n",
       "                   scoring='recall')"
      ]
     },
     "execution_count": 88,
     "metadata": {},
     "output_type": "execute_result"
    }
   ],
   "source": [
    "# melakukan fit hasil dari randomsearch pada data train\n",
    "xgb_best = RandomizedSearchCV(XGBClassifier(n_jobs=-1), params, n_jobs=-1, cv=5, scoring='recall')\n",
    "xgb_best.fit(new_train, y_train)"
   ]
  },
  {
   "cell_type": "code",
   "execution_count": 89,
   "metadata": {},
   "outputs": [],
   "source": [
    "# mengekstrasi hasil kombinasi terbaik\n",
    "tune_xgb = xgb_best.best_estimator_"
   ]
  },
  {
   "cell_type": "code",
   "execution_count": 90,
   "metadata": {},
   "outputs": [
    {
     "name": "stdout",
     "output_type": "stream",
     "text": [
      "mean = 0.84\n",
      "std = 0.10\n"
     ]
    }
   ],
   "source": [
    "# model tuning\n",
    "qqq = cross_val_score(tune_xgb,new_train,y_train,cv=5,scoring='recall')\n",
    "print(f'mean = {qqq.mean():.2f}')\n",
    "print(f'std = {qqq.std():.2f}')"
   ]
  },
  {
   "cell_type": "code",
   "execution_count": 91,
   "metadata": {},
   "outputs": [
    {
     "name": "stdout",
     "output_type": "stream",
     "text": [
      "mean = 0.77\n",
      "std = 0.06\n"
     ]
    }
   ],
   "source": [
    "# model default\n",
    "print(f'mean = {xgbo_scores.mean():.2f}')\n",
    "print(f'std = {xgbo_scores.std():.2f}')"
   ]
  },
  {
   "cell_type": "code",
   "execution_count": 92,
   "metadata": {},
   "outputs": [
    {
     "name": "stdout",
     "output_type": "stream",
     "text": [
      "              precision    recall  f1-score   support\n",
      "\n",
      "           0       0.91      0.93      0.92      6181\n",
      "           1       0.93      0.92      0.92      6391\n",
      "\n",
      "    accuracy                           0.92     12572\n",
      "   macro avg       0.92      0.92      0.92     12572\n",
      "weighted avg       0.92      0.92      0.92     12572\n",
      "\n",
      "              precision    recall  f1-score   support\n",
      "\n",
      "           0       0.83      0.91      0.87      1530\n",
      "           1       0.66      0.50      0.57       565\n",
      "\n",
      "    accuracy                           0.80      2095\n",
      "   macro avg       0.75      0.70      0.72      2095\n",
      "weighted avg       0.79      0.80      0.79      2095\n",
      "\n"
     ]
    }
   ],
   "source": [
    "# membandingkan hasil untuk melakukan pengecekan apakah hasilnya masih overfitt atau sudah goodfit\n",
    "new_model = tune_xgb.predict(new_train)\n",
    "print(classification_report(new_model,y_train))\n",
    "pred_xgb = tune_xgb.predict(new_test)\n",
    "print(classification_report(pred_xgb,y_test))"
   ]
  },
  {
   "cell_type": "code",
   "execution_count": 93,
   "metadata": {},
   "outputs": [
    {
     "name": "stdout",
     "output_type": "stream",
     "text": [
      "              precision    recall  f1-score   support\n",
      "\n",
      "           0       0.82      0.84      0.83      6140\n",
      "           1       0.84      0.82      0.83      6432\n",
      "\n",
      "    accuracy                           0.83     12572\n",
      "   macro avg       0.83      0.83      0.83     12572\n",
      "weighted avg       0.83      0.83      0.83     12572\n",
      "\n",
      "              precision    recall  f1-score   support\n",
      "\n",
      "           0       0.67      0.88      0.76      1280\n",
      "           1       0.63      0.33      0.43       815\n",
      "\n",
      "    accuracy                           0.66      2095\n",
      "   macro avg       0.65      0.60      0.60      2095\n",
      "weighted avg       0.65      0.66      0.63      2095\n",
      "\n"
     ]
    }
   ],
   "source": [
    "#### 10.2.2 Based model\n",
    "print(classification_report(pipe_boost_alt.predict(new_train),y_train))\n",
    "print(classification_report(boost,y_test))"
   ]
  },
  {
   "cell_type": "markdown",
   "metadata": {},
   "source": [
    "## Insight :\n",
    "hasil nilai rata-rata dari 5 kali pengujian dengan menggunakan hasil dari proses parameter tuning mengalami peningkatan namun stabilitasnya menjadi berkurang dan apabila dibandingan menggunakan metriknya dengan model base-nya benar bahwa ada peningkatan namun tetap hasilnya overfit."
   ]
  }
 ],
 "metadata": {
  "kernelspec": {
   "display_name": "hack8",
   "language": "python",
   "name": "python3"
  },
  "language_info": {
   "codemirror_mode": {
    "name": "ipython",
    "version": 3
   },
   "file_extension": ".py",
   "mimetype": "text/x-python",
   "name": "python",
   "nbconvert_exporter": "python",
   "pygments_lexer": "ipython3",
   "version": "3.9.19"
  }
 },
 "nbformat": 4,
 "nbformat_minor": 2
}
