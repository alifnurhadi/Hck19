{
 "cells": [
  {
   "cell_type": "markdown",
   "metadata": {},
   "source": [
    "# Milestones Challange 1\n",
    "\n",
    "NAMA    = ALIF NURHADI <br>\n",
    "BATCH   = HCK-019 <br>\n",
    "\n",
    "Objektif = Melakukan analisa penjualan sepeda beserta item-item pendukungnya pada suatu negara untuk memberikan insight eksekutif perusahaan sepeda."
   ]
  },
  {
   "cell_type": "markdown",
   "metadata": {},
   "source": [
    "Audience = eksekutif perusahaan sepeda."
   ]
  },
  {
   "cell_type": "markdown",
   "metadata": {},
   "source": [
    "link tableau : https://public.tableau.com/app/profile/alif.nurhadi/viz/HCK019alif/Milestones?publish=yes"
   ]
  },
  {
   "cell_type": "markdown",
   "metadata": {},
   "source": [
    "# 1. Latar permasalahan :<br>\n",
    "Di tengah era urbanisasi yang pesat, kota-kota besar di Amerika Serikat menghadapi tantangan serius terkait polusi udara, dan gaya hidup tidak sehat. Perusahaan sepeda dan yang berkaitan dengan hal tersebut memiliki potensi besar untuk berkontribusi pada solusi masalah ini mengembangkan bisnisnya."
   ]
  },
  {
   "cell_type": "markdown",
   "metadata": {},
   "source": [
    "## 1.a. SMART : <br>\n",
    "\n",
    "Spesifik: <br>\n",
    "- mengetahui top produk pada produk kategori bikes atau aksesoris yang berpotensi meningkatkan revenue bisnis untuk lebih difokuskan.\n",
    "- Meningkatkan jumlah order dan menaikkan revenue pada kategori bikes dan accesorisnya.\n",
    "\n",
    "Measurable: <br>\n",
    "- mengetahui 3 jenis produk dari tiap kategori yang memiliki penjualan atau revenue paling menarik dan berpontesi untuk dikembangkan.\n",
    "- menaikan revenue produk kategori bikes dan aksesorisnya sebesar 10%.\n",
    "\n",
    "Achievable: <br>\n",
    "- mepusatkan proses pemasaran pada top produk pada kategori produk bikes dan aksesoris.\n",
    "- memperkecil cost of lead-nya,\n",
    "- melakukan analisa korelasi pada kolom yang berkaitan ( demografi , produk, revenue , jumlah order ) \n",
    "\n",
    "Relevan: <br>\n",
    "- Dengan melakukan analisis pada data yang tersedia dapat menghasilkan rekomendasi produk teratas dari tiap kategori produk bikes and akesorisnya dan memperkecil CostOfLead pada produk teratas di tiap kategorinya dapat meningkatkan penjualan dan jumlah ordernya.\n",
    "\n",
    "Time-bound: <br>\n",
    "- Menyelesaikan analisis dan menyajikan temuan dalam waktu dua minggu,dengan rekomendasi yang dapat diimplementasikan dalam tiga bulan ke depan."
   ]
  },
  {
   "cell_type": "markdown",
   "metadata": {},
   "source": [
    "## 1.b. Problem Statement :<br>\n",
    "\n",
    "Untuk meningkatkan penjualan dan pendapatan sepeda dan aksesoris dengan mengidentifikasi tiga produk teratas di setiap kategori yang memiliki potensi pertumbuhan tertinggi dan memusatkan strategi pemasaran pada produk-produk ini. Tujuannya adalah untuk mencapai peningkatan pendapatan sebesar 10% sambil mengurangi biaya akuisisi prospek dengan memanfaatkan wawasan data tentang kinerja produk dan korelasi demografi. Analisis ini harus diselesaikan dalam dua minggu, dengan rekomendasi yang diimplementasikan dalam tiga bulan ke depan."
   ]
  },
  {
   "cell_type": "markdown",
   "metadata": {},
   "source": [
    "## 1.c. Problem Breakdown : <br>\n",
    "\n",
    "- bagaimana pemusatan data pada tiap revenue dan umurnya produk berdasarkan kategori. (deskriptif)\n",
    "- bagaimana relasi antara jumlah revenue(uang yang dikeluarkan konsumen) dengan umur pembelinya. (deskriptif)\n",
    "- revenue order quantity akan naik berdasarkan gender pembelinya. (inferensial)\n",
    "- bagaimana trend penjualan dalam 5 tahun . ( line-chart )\n",
    "- seberapa besar porsi cowo dalam keseluruhan penjualan produk. ( pie-chart )\n",
    "- produk apa saja yang paling populer di negara bagian berdasarkan revenuenya. ( top bar-chart)\n",
    "- berapa besar revenue tiap categorynya.( top bar-chart)\n",
    "\n"
   ]
  },
  {
   "cell_type": "markdown",
   "metadata": {},
   "source": [
    "# 2. Melakukan Loading Data"
   ]
  },
  {
   "cell_type": "code",
   "execution_count": 160,
   "metadata": {},
   "outputs": [],
   "source": [
    "# import library yang dibutuhkan\n",
    "\n",
    "import pandas as pd     # untuk kebutuhan dataframe\n",
    "import matplotlib.pyplot as plt\n",
    "from scipy import stats\n",
    "import numpy as np\n",
    "import seaborn as sns"
   ]
  },
  {
   "cell_type": "code",
   "execution_count": 161,
   "metadata": {},
   "outputs": [
    {
     "data": {
      "text/html": [
       "<div>\n",
       "<style scoped>\n",
       "    .dataframe tbody tr th:only-of-type {\n",
       "        vertical-align: middle;\n",
       "    }\n",
       "\n",
       "    .dataframe tbody tr th {\n",
       "        vertical-align: top;\n",
       "    }\n",
       "\n",
       "    .dataframe thead th {\n",
       "        text-align: right;\n",
       "    }\n",
       "</style>\n",
       "<table border=\"1\" class=\"dataframe\">\n",
       "  <thead>\n",
       "    <tr style=\"text-align: right;\">\n",
       "      <th></th>\n",
       "      <th>Date</th>\n",
       "      <th>Day</th>\n",
       "      <th>Month</th>\n",
       "      <th>Year</th>\n",
       "      <th>Customer_Age</th>\n",
       "      <th>Age_Group</th>\n",
       "      <th>Customer_Gender</th>\n",
       "      <th>Country</th>\n",
       "      <th>State</th>\n",
       "      <th>Product_Category</th>\n",
       "      <th>Sub_Category</th>\n",
       "      <th>Product</th>\n",
       "      <th>Order_Quantity</th>\n",
       "      <th>Unit_Cost</th>\n",
       "      <th>Unit_Price</th>\n",
       "      <th>Profit</th>\n",
       "      <th>Cost</th>\n",
       "      <th>Revenue</th>\n",
       "    </tr>\n",
       "  </thead>\n",
       "  <tbody>\n",
       "    <tr>\n",
       "      <th>0</th>\n",
       "      <td>2013-11-26</td>\n",
       "      <td>26</td>\n",
       "      <td>November</td>\n",
       "      <td>2013</td>\n",
       "      <td>19</td>\n",
       "      <td>Youth (&lt;25)</td>\n",
       "      <td>M</td>\n",
       "      <td>Canada</td>\n",
       "      <td>British Columbia</td>\n",
       "      <td>Accessories</td>\n",
       "      <td>Bike Racks</td>\n",
       "      <td>Hitch Rack - 4-Bike</td>\n",
       "      <td>8</td>\n",
       "      <td>45</td>\n",
       "      <td>120</td>\n",
       "      <td>590</td>\n",
       "      <td>360</td>\n",
       "      <td>950</td>\n",
       "    </tr>\n",
       "    <tr>\n",
       "      <th>1</th>\n",
       "      <td>2015-11-26</td>\n",
       "      <td>26</td>\n",
       "      <td>November</td>\n",
       "      <td>2015</td>\n",
       "      <td>19</td>\n",
       "      <td>Youth (&lt;25)</td>\n",
       "      <td>M</td>\n",
       "      <td>Canada</td>\n",
       "      <td>British Columbia</td>\n",
       "      <td>Accessories</td>\n",
       "      <td>Bike Racks</td>\n",
       "      <td>Hitch Rack - 4-Bike</td>\n",
       "      <td>8</td>\n",
       "      <td>45</td>\n",
       "      <td>120</td>\n",
       "      <td>590</td>\n",
       "      <td>360</td>\n",
       "      <td>950</td>\n",
       "    </tr>\n",
       "    <tr>\n",
       "      <th>2</th>\n",
       "      <td>2014-03-23</td>\n",
       "      <td>23</td>\n",
       "      <td>March</td>\n",
       "      <td>2014</td>\n",
       "      <td>49</td>\n",
       "      <td>Adults (35-64)</td>\n",
       "      <td>M</td>\n",
       "      <td>Australia</td>\n",
       "      <td>New South Wales</td>\n",
       "      <td>Accessories</td>\n",
       "      <td>Bike Racks</td>\n",
       "      <td>Hitch Rack - 4-Bike</td>\n",
       "      <td>23</td>\n",
       "      <td>45</td>\n",
       "      <td>120</td>\n",
       "      <td>1366</td>\n",
       "      <td>1035</td>\n",
       "      <td>2401</td>\n",
       "    </tr>\n",
       "    <tr>\n",
       "      <th>3</th>\n",
       "      <td>2016-03-23</td>\n",
       "      <td>23</td>\n",
       "      <td>March</td>\n",
       "      <td>2016</td>\n",
       "      <td>49</td>\n",
       "      <td>Adults (35-64)</td>\n",
       "      <td>M</td>\n",
       "      <td>Australia</td>\n",
       "      <td>New South Wales</td>\n",
       "      <td>Accessories</td>\n",
       "      <td>Bike Racks</td>\n",
       "      <td>Hitch Rack - 4-Bike</td>\n",
       "      <td>20</td>\n",
       "      <td>45</td>\n",
       "      <td>120</td>\n",
       "      <td>1188</td>\n",
       "      <td>900</td>\n",
       "      <td>2088</td>\n",
       "    </tr>\n",
       "    <tr>\n",
       "      <th>4</th>\n",
       "      <td>2014-05-15</td>\n",
       "      <td>15</td>\n",
       "      <td>May</td>\n",
       "      <td>2014</td>\n",
       "      <td>47</td>\n",
       "      <td>Adults (35-64)</td>\n",
       "      <td>F</td>\n",
       "      <td>Australia</td>\n",
       "      <td>New South Wales</td>\n",
       "      <td>Accessories</td>\n",
       "      <td>Bike Racks</td>\n",
       "      <td>Hitch Rack - 4-Bike</td>\n",
       "      <td>4</td>\n",
       "      <td>45</td>\n",
       "      <td>120</td>\n",
       "      <td>238</td>\n",
       "      <td>180</td>\n",
       "      <td>418</td>\n",
       "    </tr>\n",
       "    <tr>\n",
       "      <th>...</th>\n",
       "      <td>...</td>\n",
       "      <td>...</td>\n",
       "      <td>...</td>\n",
       "      <td>...</td>\n",
       "      <td>...</td>\n",
       "      <td>...</td>\n",
       "      <td>...</td>\n",
       "      <td>...</td>\n",
       "      <td>...</td>\n",
       "      <td>...</td>\n",
       "      <td>...</td>\n",
       "      <td>...</td>\n",
       "      <td>...</td>\n",
       "      <td>...</td>\n",
       "      <td>...</td>\n",
       "      <td>...</td>\n",
       "      <td>...</td>\n",
       "      <td>...</td>\n",
       "    </tr>\n",
       "    <tr>\n",
       "      <th>113031</th>\n",
       "      <td>2016-04-12</td>\n",
       "      <td>12</td>\n",
       "      <td>April</td>\n",
       "      <td>2016</td>\n",
       "      <td>41</td>\n",
       "      <td>Adults (35-64)</td>\n",
       "      <td>M</td>\n",
       "      <td>United Kingdom</td>\n",
       "      <td>England</td>\n",
       "      <td>Clothing</td>\n",
       "      <td>Vests</td>\n",
       "      <td>Classic Vest, S</td>\n",
       "      <td>3</td>\n",
       "      <td>24</td>\n",
       "      <td>64</td>\n",
       "      <td>112</td>\n",
       "      <td>72</td>\n",
       "      <td>184</td>\n",
       "    </tr>\n",
       "    <tr>\n",
       "      <th>113032</th>\n",
       "      <td>2014-04-02</td>\n",
       "      <td>2</td>\n",
       "      <td>April</td>\n",
       "      <td>2014</td>\n",
       "      <td>18</td>\n",
       "      <td>Youth (&lt;25)</td>\n",
       "      <td>M</td>\n",
       "      <td>Australia</td>\n",
       "      <td>Queensland</td>\n",
       "      <td>Clothing</td>\n",
       "      <td>Vests</td>\n",
       "      <td>Classic Vest, M</td>\n",
       "      <td>22</td>\n",
       "      <td>24</td>\n",
       "      <td>64</td>\n",
       "      <td>655</td>\n",
       "      <td>528</td>\n",
       "      <td>1183</td>\n",
       "    </tr>\n",
       "    <tr>\n",
       "      <th>113033</th>\n",
       "      <td>2016-04-02</td>\n",
       "      <td>2</td>\n",
       "      <td>April</td>\n",
       "      <td>2016</td>\n",
       "      <td>18</td>\n",
       "      <td>Youth (&lt;25)</td>\n",
       "      <td>M</td>\n",
       "      <td>Australia</td>\n",
       "      <td>Queensland</td>\n",
       "      <td>Clothing</td>\n",
       "      <td>Vests</td>\n",
       "      <td>Classic Vest, M</td>\n",
       "      <td>22</td>\n",
       "      <td>24</td>\n",
       "      <td>64</td>\n",
       "      <td>655</td>\n",
       "      <td>528</td>\n",
       "      <td>1183</td>\n",
       "    </tr>\n",
       "    <tr>\n",
       "      <th>113034</th>\n",
       "      <td>2014-03-04</td>\n",
       "      <td>4</td>\n",
       "      <td>March</td>\n",
       "      <td>2014</td>\n",
       "      <td>37</td>\n",
       "      <td>Adults (35-64)</td>\n",
       "      <td>F</td>\n",
       "      <td>France</td>\n",
       "      <td>Seine (Paris)</td>\n",
       "      <td>Clothing</td>\n",
       "      <td>Vests</td>\n",
       "      <td>Classic Vest, L</td>\n",
       "      <td>24</td>\n",
       "      <td>24</td>\n",
       "      <td>64</td>\n",
       "      <td>684</td>\n",
       "      <td>576</td>\n",
       "      <td>1260</td>\n",
       "    </tr>\n",
       "    <tr>\n",
       "      <th>113035</th>\n",
       "      <td>2016-03-04</td>\n",
       "      <td>4</td>\n",
       "      <td>March</td>\n",
       "      <td>2016</td>\n",
       "      <td>37</td>\n",
       "      <td>Adults (35-64)</td>\n",
       "      <td>F</td>\n",
       "      <td>France</td>\n",
       "      <td>Seine (Paris)</td>\n",
       "      <td>Clothing</td>\n",
       "      <td>Vests</td>\n",
       "      <td>Classic Vest, L</td>\n",
       "      <td>23</td>\n",
       "      <td>24</td>\n",
       "      <td>64</td>\n",
       "      <td>655</td>\n",
       "      <td>552</td>\n",
       "      <td>1207</td>\n",
       "    </tr>\n",
       "  </tbody>\n",
       "</table>\n",
       "<p>113036 rows × 18 columns</p>\n",
       "</div>"
      ],
      "text/plain": [
       "              Date  Day     Month  Year  Customer_Age       Age_Group  \\\n",
       "0       2013-11-26   26  November  2013            19     Youth (<25)   \n",
       "1       2015-11-26   26  November  2015            19     Youth (<25)   \n",
       "2       2014-03-23   23     March  2014            49  Adults (35-64)   \n",
       "3       2016-03-23   23     March  2016            49  Adults (35-64)   \n",
       "4       2014-05-15   15       May  2014            47  Adults (35-64)   \n",
       "...            ...  ...       ...   ...           ...             ...   \n",
       "113031  2016-04-12   12     April  2016            41  Adults (35-64)   \n",
       "113032  2014-04-02    2     April  2014            18     Youth (<25)   \n",
       "113033  2016-04-02    2     April  2016            18     Youth (<25)   \n",
       "113034  2014-03-04    4     March  2014            37  Adults (35-64)   \n",
       "113035  2016-03-04    4     March  2016            37  Adults (35-64)   \n",
       "\n",
       "       Customer_Gender         Country             State Product_Category  \\\n",
       "0                    M          Canada  British Columbia      Accessories   \n",
       "1                    M          Canada  British Columbia      Accessories   \n",
       "2                    M       Australia   New South Wales      Accessories   \n",
       "3                    M       Australia   New South Wales      Accessories   \n",
       "4                    F       Australia   New South Wales      Accessories   \n",
       "...                ...             ...               ...              ...   \n",
       "113031               M  United Kingdom           England         Clothing   \n",
       "113032               M       Australia        Queensland         Clothing   \n",
       "113033               M       Australia        Queensland         Clothing   \n",
       "113034               F          France     Seine (Paris)         Clothing   \n",
       "113035               F          France     Seine (Paris)         Clothing   \n",
       "\n",
       "       Sub_Category              Product  Order_Quantity  Unit_Cost  \\\n",
       "0        Bike Racks  Hitch Rack - 4-Bike               8         45   \n",
       "1        Bike Racks  Hitch Rack - 4-Bike               8         45   \n",
       "2        Bike Racks  Hitch Rack - 4-Bike              23         45   \n",
       "3        Bike Racks  Hitch Rack - 4-Bike              20         45   \n",
       "4        Bike Racks  Hitch Rack - 4-Bike               4         45   \n",
       "...             ...                  ...             ...        ...   \n",
       "113031        Vests      Classic Vest, S               3         24   \n",
       "113032        Vests      Classic Vest, M              22         24   \n",
       "113033        Vests      Classic Vest, M              22         24   \n",
       "113034        Vests      Classic Vest, L              24         24   \n",
       "113035        Vests      Classic Vest, L              23         24   \n",
       "\n",
       "        Unit_Price  Profit  Cost  Revenue  \n",
       "0              120     590   360      950  \n",
       "1              120     590   360      950  \n",
       "2              120    1366  1035     2401  \n",
       "3              120    1188   900     2088  \n",
       "4              120     238   180      418  \n",
       "...            ...     ...   ...      ...  \n",
       "113031          64     112    72      184  \n",
       "113032          64     655   528     1183  \n",
       "113033          64     655   528     1183  \n",
       "113034          64     684   576     1260  \n",
       "113035          64     655   552     1207  \n",
       "\n",
       "[113036 rows x 18 columns]"
      ]
     },
     "execution_count": 161,
     "metadata": {},
     "output_type": "execute_result"
    }
   ],
   "source": [
    "df = pd.read_csv('bike_sales.csv')\n",
    "df"
   ]
  },
  {
   "cell_type": "markdown",
   "metadata": {},
   "source": [
    "## 2.a. Data Cleaning"
   ]
  },
  {
   "cell_type": "code",
   "execution_count": 162,
   "metadata": {},
   "outputs": [
    {
     "name": "stdout",
     "output_type": "stream",
     "text": [
      "<class 'pandas.core.frame.DataFrame'>\n",
      "RangeIndex: 113036 entries, 0 to 113035\n",
      "Data columns (total 18 columns):\n",
      " #   Column            Non-Null Count   Dtype \n",
      "---  ------            --------------   ----- \n",
      " 0   Date              113036 non-null  object\n",
      " 1   Day               113036 non-null  int64 \n",
      " 2   Month             113036 non-null  object\n",
      " 3   Year              113036 non-null  int64 \n",
      " 4   Customer_Age      113036 non-null  int64 \n",
      " 5   Age_Group         113036 non-null  object\n",
      " 6   Customer_Gender   113036 non-null  object\n",
      " 7   Country           113036 non-null  object\n",
      " 8   State             113036 non-null  object\n",
      " 9   Product_Category  113036 non-null  object\n",
      " 10  Sub_Category      113036 non-null  object\n",
      " 11  Product           113036 non-null  object\n",
      " 12  Order_Quantity    113036 non-null  int64 \n",
      " 13  Unit_Cost         113036 non-null  int64 \n",
      " 14  Unit_Price        113036 non-null  int64 \n",
      " 15  Profit            113036 non-null  int64 \n",
      " 16  Cost              113036 non-null  int64 \n",
      " 17  Revenue           113036 non-null  int64 \n",
      "dtypes: int64(9), object(9)\n",
      "memory usage: 15.5+ MB\n"
     ]
    }
   ],
   "source": [
    "df.info()"
   ]
  },
  {
   "cell_type": "markdown",
   "metadata": {},
   "source": [
    "### 2.a.a Melakukan Cleaning pada kolom yang redundant dalam analisis"
   ]
  },
  {
   "cell_type": "code",
   "execution_count": 163,
   "metadata": {},
   "outputs": [
    {
     "data": {
      "text/html": [
       "<div>\n",
       "<style scoped>\n",
       "    .dataframe tbody tr th:only-of-type {\n",
       "        vertical-align: middle;\n",
       "    }\n",
       "\n",
       "    .dataframe tbody tr th {\n",
       "        vertical-align: top;\n",
       "    }\n",
       "\n",
       "    .dataframe thead th {\n",
       "        text-align: right;\n",
       "    }\n",
       "</style>\n",
       "<table border=\"1\" class=\"dataframe\">\n",
       "  <thead>\n",
       "    <tr style=\"text-align: right;\">\n",
       "      <th></th>\n",
       "      <th>Day</th>\n",
       "      <th>Month</th>\n",
       "      <th>Year</th>\n",
       "      <th>Customer_Age</th>\n",
       "      <th>Age_Group</th>\n",
       "      <th>Customer_Gender</th>\n",
       "      <th>Country</th>\n",
       "      <th>State</th>\n",
       "      <th>Product_Category</th>\n",
       "      <th>Sub_Category</th>\n",
       "      <th>Product</th>\n",
       "      <th>Order_Quantity</th>\n",
       "      <th>Unit_Cost</th>\n",
       "      <th>Unit_Price</th>\n",
       "      <th>Revenue</th>\n",
       "    </tr>\n",
       "  </thead>\n",
       "  <tbody>\n",
       "    <tr>\n",
       "      <th>27646</th>\n",
       "      <td>23</td>\n",
       "      <td>April</td>\n",
       "      <td>2014</td>\n",
       "      <td>41</td>\n",
       "      <td>Adults (35-64)</td>\n",
       "      <td>F</td>\n",
       "      <td>Canada</td>\n",
       "      <td>British Columbia</td>\n",
       "      <td>Clothing</td>\n",
       "      <td>Gloves</td>\n",
       "      <td>Half-Finger Gloves, S</td>\n",
       "      <td>16</td>\n",
       "      <td>9</td>\n",
       "      <td>24</td>\n",
       "      <td>380</td>\n",
       "    </tr>\n",
       "    <tr>\n",
       "      <th>19192</th>\n",
       "      <td>13</td>\n",
       "      <td>March</td>\n",
       "      <td>2014</td>\n",
       "      <td>40</td>\n",
       "      <td>Adults (35-64)</td>\n",
       "      <td>F</td>\n",
       "      <td>Germany</td>\n",
       "      <td>Hessen</td>\n",
       "      <td>Clothing</td>\n",
       "      <td>Caps</td>\n",
       "      <td>AWC Logo Cap</td>\n",
       "      <td>11</td>\n",
       "      <td>7</td>\n",
       "      <td>9</td>\n",
       "      <td>92</td>\n",
       "    </tr>\n",
       "    <tr>\n",
       "      <th>60290</th>\n",
       "      <td>4</td>\n",
       "      <td>February</td>\n",
       "      <td>2013</td>\n",
       "      <td>32</td>\n",
       "      <td>Young Adults (25-34)</td>\n",
       "      <td>F</td>\n",
       "      <td>United States</td>\n",
       "      <td>California</td>\n",
       "      <td>Bikes</td>\n",
       "      <td>Road Bikes</td>\n",
       "      <td>Road-650 Red, 62</td>\n",
       "      <td>1</td>\n",
       "      <td>487</td>\n",
       "      <td>783</td>\n",
       "      <td>767</td>\n",
       "    </tr>\n",
       "  </tbody>\n",
       "</table>\n",
       "</div>"
      ],
      "text/plain": [
       "       Day     Month  Year  Customer_Age             Age_Group  \\\n",
       "27646   23     April  2014            41        Adults (35-64)   \n",
       "19192   13     March  2014            40        Adults (35-64)   \n",
       "60290    4  February  2013            32  Young Adults (25-34)   \n",
       "\n",
       "      Customer_Gender        Country             State Product_Category  \\\n",
       "27646               F         Canada  British Columbia         Clothing   \n",
       "19192               F        Germany            Hessen         Clothing   \n",
       "60290               F  United States        California            Bikes   \n",
       "\n",
       "      Sub_Category                Product  Order_Quantity  Unit_Cost  \\\n",
       "27646       Gloves  Half-Finger Gloves, S              16          9   \n",
       "19192         Caps           AWC Logo Cap              11          7   \n",
       "60290   Road Bikes       Road-650 Red, 62               1        487   \n",
       "\n",
       "       Unit_Price  Revenue  \n",
       "27646          24      380  \n",
       "19192           9       92  \n",
       "60290         783      767  "
      ]
     },
     "execution_count": 163,
     "metadata": {},
     "output_type": "execute_result"
    }
   ],
   "source": [
    "df1 = df\n",
    "\n",
    "df1 = df[['Date', 'Day', 'Month', 'Year', 'Customer_Age', 'Age_Group',\n",
    "       'Customer_Gender', 'Country', 'State', 'Product_Category',\n",
    "       'Sub_Category', 'Product', 'Order_Quantity', 'Unit_Cost', 'Unit_Price', 'Revenue',]]\n",
    "df1 = df1.drop(columns='Date')\n",
    "df1.sample(3)"
   ]
  },
  {
   "cell_type": "markdown",
   "metadata": {},
   "source": [
    "### 2.a.b Melakukan filterisasi kolom agar lebih spesifik pada satu negara"
   ]
  },
  {
   "cell_type": "code",
   "execution_count": 164,
   "metadata": {},
   "outputs": [
    {
     "name": "stdout",
     "output_type": "stream",
     "text": [
      "<class 'pandas.core.frame.DataFrame'>\n",
      "RangeIndex: 33070 entries, 0 to 33069\n",
      "Data columns (total 15 columns):\n",
      " #   Column            Non-Null Count  Dtype \n",
      "---  ------            --------------  ----- \n",
      " 0   Day               33070 non-null  int64 \n",
      " 1   Month             33070 non-null  object\n",
      " 2   Year              33070 non-null  int64 \n",
      " 3   Customer_Age      33070 non-null  int64 \n",
      " 4   Age_Group         33070 non-null  object\n",
      " 5   Customer_Gender   33070 non-null  object\n",
      " 6   Country           33070 non-null  object\n",
      " 7   State             33070 non-null  object\n",
      " 8   Product_Category  33070 non-null  object\n",
      " 9   Sub_Category      33070 non-null  object\n",
      " 10  Product           33070 non-null  object\n",
      " 11  Order_Quantity    33070 non-null  int64 \n",
      " 12  Unit_Cost         33070 non-null  int64 \n",
      " 13  Unit_Price        33070 non-null  int64 \n",
      " 14  Revenue           33070 non-null  int64 \n",
      "dtypes: int64(7), object(8)\n",
      "memory usage: 3.8+ MB\n"
     ]
    }
   ],
   "source": [
    "df_usa= df1[(df1['Country'] == 'United States')&(df1['Product_Category'] != 'Clothing')]\n",
    "df_usa = df_usa.reset_index(drop=True)\n",
    "df_usa.info()\n"
   ]
  },
  {
   "cell_type": "code",
   "execution_count": 165,
   "metadata": {},
   "outputs": [
    {
     "name": "stdout",
     "output_type": "stream",
     "text": [
      "<class 'pandas.core.frame.DataFrame'>\n",
      "Index: 32706 entries, 0 to 33069\n",
      "Data columns (total 15 columns):\n",
      " #   Column            Non-Null Count  Dtype \n",
      "---  ------            --------------  ----- \n",
      " 0   Day               32706 non-null  int64 \n",
      " 1   Month             32706 non-null  object\n",
      " 2   Year              32706 non-null  int64 \n",
      " 3   Customer_Age      32706 non-null  int64 \n",
      " 4   Age_Group         32706 non-null  object\n",
      " 5   Customer_Gender   32706 non-null  object\n",
      " 6   Country           32706 non-null  object\n",
      " 7   State             32706 non-null  object\n",
      " 8   Product_Category  32706 non-null  object\n",
      " 9   Sub_Category      32706 non-null  object\n",
      " 10  Product           32706 non-null  object\n",
      " 11  Order_Quantity    32706 non-null  int64 \n",
      " 12  Unit_Cost         32706 non-null  int64 \n",
      " 13  Unit_Price        32706 non-null  int64 \n",
      " 14  Revenue           32706 non-null  int64 \n",
      "dtypes: int64(7), object(8)\n",
      "memory usage: 4.0+ MB\n"
     ]
    }
   ],
   "source": [
    "df_usa[df_usa.duplicated()]\n",
    "df_usa = df_usa.drop_duplicates(keep='last')\n",
    "df_usa.info()"
   ]
  },
  {
   "cell_type": "markdown",
   "metadata": {},
   "source": [
    "Setelah melakukan loading data, dan setelah dianalisa awal terdapat : \n",
    "- kolom yang cukup redundant yaitu kolom date. Untuk alasan mempermudah proses filterisasi maka kolom tersebut akan didrop dan akan menggunakan kolom `Year` atau `Month` atau `Day` untuk proses filterisasi waktu. \n",
    "- tidak terdapat nilai null pada 18 kolom yang tersedia.\n",
    "\n",
    "dari data awal yang terlalu luas cakupannya, saya mempersempitnya untuk pada salah satu negara yang memiliki daya-beli paling kuat dibanding negara lain yang ada pada kolom country pada data awal yaitu united states.<br>\n",
    "Ada sekitar lebih dari 300 baris yang terduplikasi dari keseluruhan data yang harus didrop atau diatasi, itu alasan mengapa ada proses pembuangan baris terduplikasi dengan menyisakan satu dari data terduplikasinya.<br>"
   ]
  },
  {
   "cell_type": "markdown",
   "metadata": {},
   "source": [
    "# 3. Analisa "
   ]
  },
  {
   "cell_type": "markdown",
   "metadata": {},
   "source": [
    "## 3.a. bagaimana pemusatan data dan dispersi pada tiap kategori produk berdasarkan revenue dan umurnya?"
   ]
  },
  {
   "cell_type": "markdown",
   "metadata": {},
   "source": [
    "### 3.a.a. Menghitung Central Tendency of Data"
   ]
  },
  {
   "cell_type": "markdown",
   "metadata": {},
   "source": [
    "Mengetahui nilai rataan revenue dari tiap kategorinya"
   ]
  },
  {
   "cell_type": "code",
   "execution_count": 166,
   "metadata": {},
   "outputs": [
    {
     "name": "stdout",
     "output_type": "stream",
     "text": [
      "\n",
      " nilai mean Customer_Age berdasarkan Product-categorynya adalah \n",
      " Product_Category\n",
      "Accessories    37.448038\n",
      "Bikes          37.218821\n",
      "Name: Customer_Age, dtype: float64 \n",
      "          \n",
      " deviasinya Customer_Age berdasarkan Product-categorynya adalah \n",
      " Product_Category\n",
      "Accessories    11.605411\n",
      "Bikes          10.276761\n",
      "Name: Customer_Age, dtype: float64\n",
      "\n",
      " nilai mean Revenue berdasarkan Product-categorynya adalah \n",
      " Product_Category\n",
      "Accessories     212.010982\n",
      "Bikes          2445.194507\n",
      "Name: Revenue, dtype: float64 \n",
      "          \n",
      " deviasinya Revenue berdasarkan Product-categorynya adalah \n",
      " Product_Category\n",
      "Accessories     271.626585\n",
      "Bikes          1957.601606\n",
      "Name: Revenue, dtype: float64\n"
     ]
    }
   ],
   "source": [
    "meann = ['Customer_Age','Revenue']\n",
    "\n",
    "for me in meann:\n",
    "    mann = df_usa.groupby(\"Product_Category\")[me].mean()\n",
    "    manstd = df_usa.groupby(\"Product_Category\")[me].std()\n",
    "    print(f'''\\n nilai mean {me} berdasarkan Product-categorynya adalah \\n {mann} \n",
    "          \\n deviasinya {me} berdasarkan Product-categorynya adalah \\n {manstd}''')"
   ]
  },
  {
   "cell_type": "code",
   "execution_count": 167,
   "metadata": {},
   "outputs": [
    {
     "name": "stdout",
     "output_type": "stream",
     "text": [
      "\n",
      " nilai median Customer_Age berdasarkan product-categorynya adalah \n",
      " Product_Category\n",
      "Accessories    37.0\n",
      "Bikes          36.0\n",
      "Name: Customer_Age, dtype: float64\n",
      "\n",
      " nilai median Revenue berdasarkan product-categorynya adalah \n",
      " Product_Category\n",
      "Accessories      95.0\n",
      "Bikes          2101.0\n",
      "Name: Revenue, dtype: float64\n"
     ]
    }
   ],
   "source": [
    "medi = ['Customer_Age','Revenue']\n",
    "\n",
    "for med in medi:\n",
    "    media = df_usa.groupby(\"Product_Category\")[med].median()\n",
    "    print(f'\\n nilai median {med} berdasarkan product-categorynya adalah \\n {media}')"
   ]
  },
  {
   "cell_type": "code",
   "execution_count": 168,
   "metadata": {},
   "outputs": [
    {
     "name": "stdout",
     "output_type": "stream",
     "text": [
      "\n",
      " modus dari Customer_Age adalah \n",
      " 32\n",
      "\n",
      " modus dari Revenue adalah \n",
      " 2274\n"
     ]
    }
   ],
   "source": [
    "moddes = ['Customer_Age','Revenue']\n",
    "\n",
    "for dd in moddes:\n",
    "    mod = df_usa[dd].mode().values[0]\n",
    "    print(f'\\n modus dari {dd} adalah \\n {mod}')"
   ]
  },
  {
   "cell_type": "markdown",
   "metadata": {},
   "source": [
    "- Berdasarkan product category rata-rata umur pembelinya adalah 37tahun dengan deviasi umur 0.7 tahun , dengan deviasi umur pada tiap product-categorynya accessories 11,6 th , bikes 10 th, dan clothing 11th .\n",
    "- nilai rata-rata revenue dari keseluruhan data pada tiap kategorynya bernilai mendekati nilai 2445 pada category bikes dan nilai 212 pada category accessories.\n",
    "- data pada umur pembeli product mengindikasikan bahwa data mengalami sedikit skew kearah kanan dengan nilai rata-ratanya lebih besar dari nilai tengah pada data apabila dilakukan pengurutan data, berikut pula dengan sebaran nilai revenuenya bahwa datanya mengindikasikan ada skew kearah kanan apabila dilihat dari nilai dari tiap kategorynya.\n",
    "- umur pembeli yang sering melakukan pembelian barang berkaitan dengan sepeda dan perlengkapannya adalah umur 32 tahun dan nilai pendapatan revenue yang per waktu transaksinya adalah sebanyak 2274"
   ]
  },
  {
   "cell_type": "markdown",
   "metadata": {},
   "source": [
    "## 3.b. korelasi antara jumlah yang dikeluarkan konsumen dengan umurnya"
   ]
  },
  {
   "cell_type": "markdown",
   "metadata": {},
   "source": [
    "### 3.b.a mengitung korelasi antar kolom data"
   ]
  },
  {
   "cell_type": "markdown",
   "metadata": {},
   "source": [
    "dengan sebaran nilai revenue dan jumlah order itu terbagi atas tiap kategori, sebelum melakukan pengujian korelasi dan hipotesis antar kolom. Beberapa kolom datanya akan distandarisasi terlebih dahulu."
   ]
  },
  {
   "cell_type": "markdown",
   "metadata": {},
   "source": [
    "#### 3.b.a.a menstandarisasi data beberapa kolom"
   ]
  },
  {
   "cell_type": "code",
   "execution_count": 169,
   "metadata": {},
   "outputs": [
    {
     "data": {
      "text/html": [
       "<div>\n",
       "<style scoped>\n",
       "    .dataframe tbody tr th:only-of-type {\n",
       "        vertical-align: middle;\n",
       "    }\n",
       "\n",
       "    .dataframe tbody tr th {\n",
       "        vertical-align: top;\n",
       "    }\n",
       "\n",
       "    .dataframe thead th {\n",
       "        text-align: right;\n",
       "    }\n",
       "</style>\n",
       "<table border=\"1\" class=\"dataframe\">\n",
       "  <thead>\n",
       "    <tr style=\"text-align: right;\">\n",
       "      <th></th>\n",
       "      <th>Product_Category</th>\n",
       "      <th>Customer_Age</th>\n",
       "      <th>Revenue</th>\n",
       "      <th>Order_Quantity</th>\n",
       "      <th>Unit_Price</th>\n",
       "      <th>Customer_Gender</th>\n",
       "    </tr>\n",
       "  </thead>\n",
       "  <tbody>\n",
       "    <tr>\n",
       "      <th>0</th>\n",
       "      <td>Accessories</td>\n",
       "      <td>1.167728</td>\n",
       "      <td>2.639613</td>\n",
       "      <td>-0.687278</td>\n",
       "      <td>5.005643</td>\n",
       "      <td>M</td>\n",
       "    </tr>\n",
       "    <tr>\n",
       "      <th>1</th>\n",
       "      <td>Accessories</td>\n",
       "      <td>1.167728</td>\n",
       "      <td>1.877537</td>\n",
       "      <td>-0.916868</td>\n",
       "      <td>5.005643</td>\n",
       "      <td>M</td>\n",
       "    </tr>\n",
       "    <tr>\n",
       "      <th>2</th>\n",
       "      <td>Accessories</td>\n",
       "      <td>-0.469439</td>\n",
       "      <td>2.639613</td>\n",
       "      <td>-0.687278</td>\n",
       "      <td>5.005643</td>\n",
       "      <td>F</td>\n",
       "    </tr>\n",
       "    <tr>\n",
       "      <th>3</th>\n",
       "      <td>Accessories</td>\n",
       "      <td>-0.469439</td>\n",
       "      <td>2.639613</td>\n",
       "      <td>-0.687278</td>\n",
       "      <td>5.005643</td>\n",
       "      <td>F</td>\n",
       "    </tr>\n",
       "    <tr>\n",
       "      <th>4</th>\n",
       "      <td>Accessories</td>\n",
       "      <td>0.478394</td>\n",
       "      <td>3.548949</td>\n",
       "      <td>-0.572483</td>\n",
       "      <td>5.005643</td>\n",
       "      <td>F</td>\n",
       "    </tr>\n",
       "  </tbody>\n",
       "</table>\n",
       "</div>"
      ],
      "text/plain": [
       "  Product_Category  Customer_Age   Revenue  Order_Quantity  Unit_Price  \\\n",
       "0      Accessories      1.167728  2.639613       -0.687278    5.005643   \n",
       "1      Accessories      1.167728  1.877537       -0.916868    5.005643   \n",
       "2      Accessories     -0.469439  2.639613       -0.687278    5.005643   \n",
       "3      Accessories     -0.469439  2.639613       -0.687278    5.005643   \n",
       "4      Accessories      0.478394  3.548949       -0.572483    5.005643   \n",
       "\n",
       "  Customer_Gender  \n",
       "0               M  \n",
       "1               M  \n",
       "2               F  \n",
       "3               F  \n",
       "4               F  "
      ]
     },
     "execution_count": 169,
     "metadata": {},
     "output_type": "execute_result"
    }
   ],
   "source": [
    "df_standar = df_usa[['Product_Category','Customer_Age','Revenue','Order_Quantity','Unit_Price','Customer_Gender']].copy()\n",
    "\n",
    "standar = ['Customer_Age','Revenue','Order_Quantity','Unit_Price']\n",
    "\n",
    "for stand in standar:\n",
    "    df_standar[stand] = df_usa.groupby(\"Product_Category\")[stand].transform(lambda x: (x - x.mean()) / x.std() if x.std() != 0 else 0)\n",
    "\n",
    "df_standar = df_standar.reset_index(drop=True)\n",
    "df_standar.head()"
   ]
  },
  {
   "cell_type": "markdown",
   "metadata": {},
   "source": [
    "#### 3.b.a.b mengetahui distribusi datanya."
   ]
  },
  {
   "cell_type": "code",
   "execution_count": 170,
   "metadata": {},
   "outputs": [
    {
     "name": "stdout",
     "output_type": "stream",
     "text": [
      "\n",
      " distribusi data Customer_Age adalah tidak normal\n",
      "\n",
      " distribusi data Revenue adalah tidak normal\n",
      "\n",
      " distribusi data Order_Quantity adalah tidak normal\n",
      "\n",
      " distribusi data Unit_Price adalah tidak normal\n"
     ]
    },
    {
     "name": "stderr",
     "output_type": "stream",
     "text": [
      "d:\\hacktiv8_alif\\hack8_bc\\conda_env\\hack8\\lib\\site-packages\\scipy\\stats\\_axis_nan_policy.py:531: UserWarning: scipy.stats.shapiro: For N > 5000, computed p-value may not be accurate. Current N is 32706.\n",
      "  res = hypotest_fun_out(*samples, **kwds)\n"
     ]
    }
   ],
   "source": [
    "Shapiro = ['Customer_Age','Revenue','Order_Quantity','Unit_Price']\n",
    "for shap in Shapiro:\n",
    "    res = stats.shapiro(df_standar[shap])\n",
    "\n",
    "    if res.pvalue > 0.05:\n",
    "        print (f'\\n distribusi data {shap} adalah normal')\n",
    "       \n",
    "    else:\n",
    "        print (f'\\n distribusi data {shap} adalah tidak normal')\n",
    "        "
   ]
  },
  {
   "cell_type": "markdown",
   "metadata": {},
   "source": [
    "#### 3.b.a.c menghitung korelasi beberapa kolom"
   ]
  },
  {
   "cell_type": "markdown",
   "metadata": {},
   "source": [
    "menghitung korelasi antara umur konsumen dengan revenue tiap kategorinya dan korelasi antara umur konsumen dengan jumlah banyaknya order tiap kategory dengan menggunakan metode spearman dikarenakan sebaran datanya tidak normal pada kolom yang digunakan."
   ]
  },
  {
   "cell_type": "code",
   "execution_count": 177,
   "metadata": {},
   "outputs": [
    {
     "name": "stdout",
     "output_type": "stream",
     "text": [
      "\n",
      "Category: Accessories dengan revenue\n",
      "Spearman correlation: 0.010\n",
      "\n",
      "Category: Bikes dengan revenue\n",
      "Spearman correlation: 0.031\n"
     ]
    }
   ],
   "source": [
    "for category in df_standar['Product_Category'].unique():\n",
    "        per_category = df_standar[df_standar['Product_Category'] == category]\n",
    "        spearman_corr, p_value_spearman = stats.spearmanr(per_category['Customer_Age'], per_category['Revenue'])\n",
    "        \n",
    "        print(f\"\\nCategory: {category} dengan revenue\")\n",
    "        print(f\"Spearman correlation: {spearman_corr:.3f}\")\n"
   ]
  },
  {
   "cell_type": "code",
   "execution_count": 178,
   "metadata": {},
   "outputs": [
    {
     "name": "stdout",
     "output_type": "stream",
     "text": [
      "\n",
      "Category: Accessories dengan customer age\n",
      "Spearman correlation: 0.019 \n",
      "\n",
      "Category: Bikes dengan customer age\n",
      "Spearman correlation: -0.015 \n"
     ]
    }
   ],
   "source": [
    "for categ in df_standar['Product_Category'].unique():\n",
    "        per_categ = df_standar[df_standar['Product_Category'] == categ]\n",
    "        spearman_corr2, p_value_spearman2 = stats.spearmanr(per_categ['Customer_Age'], per_categ['Order_Quantity'])\n",
    "        \n",
    "        print(f\"\\nCategory: {categ} dengan customer age\")\n",
    "        print(f\"Spearman correlation: {spearman_corr2:.3f} \")\n"
   ]
  },
  {
   "cell_type": "markdown",
   "metadata": {},
   "source": [
    "dari 2 Percobaan diatas diketahui bahwa korelasi antara umur pembeli dengan revenue yang dihasilkan perusahaan dan beberapa produk kategori yang terjual memiliki hubungan yang sangat lemah walau korelasinya positif, mengindikasikan pada beberapa produk apabila pada umur tertentu memang spending amountnya pada beberapa kategori sejalan sama kenaikan revenuenya. selain dari itu korelasi antara umur pembeli dengan jenis produk kategori bikes(sepeda) berkorelasi kontradiktif atau negatif dan itupun kuat relasinya itu sangat lemah sama dengan yang lainnya."
   ]
  },
  {
   "cell_type": "markdown",
   "metadata": {},
   "source": [
    "### 3.b.b Menguji hipotesi beberapa kolom"
   ]
  },
  {
   "cell_type": "markdown",
   "metadata": {},
   "source": [
    "pengujian ini dimaksudkan untuk mengetahui bahwa 'usia pelanggan memiliki pengaruh terhadap nilai pembelian sepeda di pasar Amerika Serikat.' dengan menggunakan metode menggunakan spearmanr karena sebaran data salah satu tidak normal."
   ]
  },
  {
   "cell_type": "markdown",
   "metadata": {},
   "source": [
    "H0: Tidak ada pengaruh signifikan antara usia pelanggan dan nilai pembelian sepeda.<br>\n",
    "H1: Terdapat pengaruh signifikan antara usia pelanggan dan nilai pembelian sepeda.<br>"
   ]
  },
  {
   "cell_type": "code",
   "execution_count": 173,
   "metadata": {},
   "outputs": [
    {
     "name": "stdout",
     "output_type": "stream",
     "text": [
      "\n",
      "Category: Accessories dengan revenue\n",
      "Spearman correlation: 0.010, p-value: 0.0993\n",
      "\n",
      "Category: Bikes dengan revenue\n",
      "Spearman correlation: 0.031, p-value: 0.0055\n"
     ]
    }
   ],
   "source": [
    "for category in df_standar['Product_Category'].unique():\n",
    "        per_category = df_standar[df_standar['Product_Category'] == category]\n",
    "        spearman_corr, p_value_spearman = stats.spearmanr(per_category['Customer_Age'], per_category['Revenue'])\n",
    "        \n",
    "        print(f\"\\nCategory: {category} dengan revenue\")\n",
    "        print(f\"Spearman correlation: {spearman_corr:.3f}, p-value: {p_value_spearman:.4f}\")\n"
   ]
  },
  {
   "cell_type": "markdown",
   "metadata": {},
   "source": [
    "dengan begitu diketahui bahwa selain dari kategori accesories, kategori lainnya tersebut dipengaruhi nilai pembeliannya oleh umur dari calon konsumennya."
   ]
  },
  {
   "cell_type": "markdown",
   "metadata": {},
   "source": [
    "\"terdapat perbedaan signifikan dalam revenue atau jumlah pembelian (order quantity) antara pelanggan pria dan wanita?\"<br>\n",
    "mengujinya dengan two sample independent test dengan menggunakan metode mann whitneyy u.\n",
    "\n",
    "\n",
    "H0: Tidak ada perbedaan signifikan dalam rata-rata revenue atau jumlah pembelian  antara pelanggan pria dan wanita.<br>\n",
    "H1: Terdapat perbedaan signifikan dalam rata-rata revenue atau jumlah pembelian  antara pelanggan pria dan wanita.<br>\n",
    "\n"
   ]
  },
  {
   "cell_type": "code",
   "execution_count": 174,
   "metadata": {},
   "outputs": [
    {
     "name": "stdout",
     "output_type": "stream",
     "text": [
      "\n",
      "Category: Accessories\n",
      "Mann-Whitney U test results:\n",
      "Statistic: 79131300.5, p-value: 5.599895200066132e-06\n",
      "\n",
      "Category: Bikes\n",
      "Mann-Whitney U test results:\n",
      "Statistic: 8086651.0, p-value: 0.03930061116441829\n"
     ]
    }
   ],
   "source": [
    "for tegory in df_standar['Product_Category'].unique():\n",
    "        category_df =  df_standar[ df_standar['Product_Category'] == tegory]\n",
    "        male_prices = category_df[category_df['Customer_Gender'] == 'M']['Revenue']\n",
    "        female_prices = category_df[category_df['Customer_Gender'] == 'F']['Revenue']\n",
    "        \n",
    "        statistic, p_value = stats.mannwhitneyu(male_prices, female_prices)\n",
    "        print(f\"\\nCategory: {tegory}\")\n",
    "        print(f\"Mann-Whitney U test results:\")\n",
    "        print(f\"Statistic: {statistic}, p-value: {p_value}\")\n"
   ]
  },
  {
   "cell_type": "markdown",
   "metadata": {},
   "source": [
    "dengan nilai p-value pada kedua product category rata-rata revenue terdapat perbedaan yang signifikan jika dikorelasikan dengan gender pembelinya."
   ]
  },
  {
   "cell_type": "markdown",
   "metadata": {},
   "source": [
    "# 4. Visualisasi"
   ]
  },
  {
   "cell_type": "markdown",
   "metadata": {},
   "source": [
    "### 4.a memvisualisasikan trend penjualan dalam 5 tahun masa penjualan pada 2 kategori yaitu kategory bikes dan aksesoris dengan menggunakan multiline-chart dikarenakan ingin mengetahui bentuk trendnya. "
   ]
  },
  {
   "cell_type": "code",
   "execution_count": 197,
   "metadata": {},
   "outputs": [
    {
     "data": {
      "image/png": "[encoded data removed]",
      "text/plain": [
       "<Figure size 1000x600 with 1 Axes>"
      ]
     },
     "metadata": {},
     "output_type": "display_data"
    }
   ],
   "source": [
    "trend = df_usa.groupby(['Product_Category','Year'],as_index=False)['Revenue'].sum()\n",
    "\n",
    "plt.figure(figsize=(10, 6))\n",
    "\n",
    "for category in trend['Product_Category'].unique():\n",
    "  \n",
    "    multiline = trend[(trend['Product_Category'] == category)]\n",
    "    \n",
    "    plt.plot(multiline['Year'], multiline['Revenue'], marker='o', label=category)\n",
    "\n",
    "plt.title('Revenue by Category and Year')\n",
    "plt.xlabel('Year')\n",
    "plt.ylabel('Revenue'+'(mil)')\n",
    "plt.xticks(df_usa['Year'].unique())  \n",
    "\n",
    "plt.legend(title='Category')\n",
    "\n",
    "plt.grid(False)  \n",
    "plt.tight_layout()\n",
    "plt.show()\n"
   ]
  },
  {
   "cell_type": "markdown",
   "metadata": {},
   "source": [
    "Penjualan produk pada kategory aksesoris pada 4 tahun yaitu dari tahun 2013 hingga 2016 mengalami pergerakan yang tidak signifikan, sedangkan untuk produk pada kategory bikes mengalami pergerakan signifikan dari tahun 2014 ke 2015 sebelum pada akhirnya mengalami penurunan performa ditahun setelahnya."
   ]
  },
  {
   "cell_type": "markdown",
   "metadata": {},
   "source": [
    "### 4.b memvisualiasikan berapa besar porsi pria dan wanita  dalam keseluruhan penjualan produk selama 2011-2016 dengan menggunakan pie-chart karena konteks yang digunakan tidak terlalu kompleks (hanya menggunakan 1 variable saja)"
   ]
  },
  {
   "cell_type": "code",
   "execution_count": 198,
   "metadata": {},
   "outputs": [
    {
     "data": {
      "image/png": "[encoded data removed]",
      "text/plain": [
       "<Figure size 800x800 with 1 Axes>"
      ]
     },
     "metadata": {},
     "output_type": "display_data"
    }
   ],
   "source": [
    "fig,ax1 = plt.subplots(figsize=(8,8))\n",
    "\n",
    "df_usa['Customer_Gender'].value_counts().plot(kind='pie', autopct='%.2f%%',ax=ax1)\n",
    "plt.show()"
   ]
  },
  {
   "cell_type": "markdown",
   "metadata": {},
   "source": [
    "berdasarakan dari tahun penjualan 2011-2016 , secara kumulatif sebaran gender para pembelinya hampir imbang dikarenakan gender laki-laki yang sedikit lebih unggul dibanding konsumen perempuannya."
   ]
  },
  {
   "cell_type": "markdown",
   "metadata": {},
   "source": [
    "### 4.c memvisualisasikan produk teratas di tiap negara bagian berdasarkan revenuenya dengan bar-chart"
   ]
  },
  {
   "cell_type": "code",
   "execution_count": 220,
   "metadata": {},
   "outputs": [
    {
     "data": {
      "image/png": "[encoded data removed]",
      "text/plain": [
       "<Figure size 1200x600 with 1 Axes>"
      ]
     },
     "metadata": {},
     "output_type": "display_data"
    }
   ],
   "source": [
    "grouped = df_usa.groupby(['State', 'Product_Category'], as_index=False)['Revenue'].sum()\n",
    "\n",
    "sorted = grouped.sort_values(by='Revenue',ascending=False)\n",
    "\n",
    "top = sorted.head(10)\n",
    "\n",
    "# Set the figure size\n",
    "plt.figure(figsize=(12, 6))\n",
    "\n",
    "# Create a bar plot using Seaborn\n",
    "sns.barplot(data= top , x='State', y='Revenue', hue='Product_Category', dodge=False, palette='muted')\n",
    "\n",
    "# Add title and labels\n",
    "plt.title('Top Products by State Based on Revenue')\n",
    "plt.xlabel('State')\n",
    "plt.ylabel('Revenue (x 10mil)')\n",
    "\n",
    "# Optional: Add grid for better readability\n",
    "plt.grid(axis='y', linestyle='--', linewidth=0.7, alpha=0.7)\n",
    "\n",
    "# Adjust layout\n",
    "plt.tight_layout()\n",
    "\n",
    "# Show the plot\n",
    "plt.show()\n"
   ]
  },
  {
   "cell_type": "markdown",
   "metadata": {},
   "source": [
    "### 4.d mengetahui berapa besar revenue tiap sub-categorynya selama  tahun penjualan dengan menggunakan bar-chart karna bentuknya yang kategorikal"
   ]
  },
  {
   "cell_type": "code",
   "execution_count": 215,
   "metadata": {},
   "outputs": [
    {
     "name": "stderr",
     "output_type": "stream",
     "text": [
      "C:\\Users\\alifn\\AppData\\Local\\Temp\\ipykernel_8880\\2226783789.py:11: FutureWarning: \n",
      "\n",
      "Passing `palette` without assigning `hue` is deprecated and will be removed in v0.14.0. Assign the `x` variable to `hue` and set `legend=False` for the same effect.\n",
      "\n",
      "  sns.barplot(data=topqwe, x='Product', y='Revenue', palette='muted')\n"
     ]
    },
    {
     "data": {
      "image/png": "[encoded data removed]",
      "text/plain": [
       "<Figure size 1200x600 with 1 Axes>"
      ]
     },
     "metadata": {},
     "output_type": "display_data"
    }
   ],
   "source": [
    "qwe = df_usa.groupby(['Sub_Category', 'Product'], as_index=False)['Revenue'].sum()\n",
    "\n",
    "sortqwe = qwe.sort_values(by='Revenue',ascending=False)\n",
    "\n",
    "topqwe = sortqwe.head(5)\n",
    "\n",
    "# Set the figure size\n",
    "plt.figure(figsize=(12, 6))\n",
    "\n",
    "# Create a bar plot using Seaborn\n",
    "sns.barplot(data=topqwe, x='Product', y='Revenue', palette='muted')\n",
    "\n",
    "# Add title and labels\n",
    "plt.title('Top 5 Products by Cumulative Revenue (2014-2016)')\n",
    "plt.xlabel('Product')\n",
    "plt.ylabel('Revenue')\n",
    "\n",
    "# Optional: Add grid for better readability\n",
    "plt.grid(axis='y', linestyle='--', linewidth=0.7, alpha=0.7)\n",
    "\n",
    "# Adjust layout\n",
    "plt.tight_layout()\n",
    "\n",
    "# Show the plot\n",
    "plt.show()\n"
   ]
  },
  {
   "cell_type": "markdown",
   "metadata": {},
   "source": [
    "# 5. Kesimpulan"
   ]
  },
  {
   "cell_type": "markdown",
   "metadata": {},
   "source": [
    "- setelah dilakukan loading data didapati bahwa data sudah clean dengan tidak terdapat nilai null-value, namun terdapat tidak kesesuaian tipedata pada salah satu kolomnya.Namun hal itu dihiraukan karena sudah ada representasinya pada kolom hari bulan dan tahun,sehingga kolom tersebut akan dihapus dari keseluruhan data. \n",
    "- Pada data awal cakupannya terlalu luas untuk dilakukan analisa yang spesifik, maka dari itu dilakukan filterisasi data berdasarkan negaranya yaitu yang terpilih adalah united state dan melakukan filter juga pada kategori produknya karena kategori clothing konteksnya terlalu jauh bila disandingkan dengan accessories dan bikes, dan terkumpulah kolom sebanyak 32706 baris dari total sebelumnya -+ 110000 baris , dan dari 32706 baris terdapat data yang terduplikasi sebanyak 364 baris dan langsung mengatasi hal tersebut dengan menghapusnya dan menyisakan satu sebagai nilai-unik. \n",
    "\n",
    "\n",
    "Setelah sudah selesai dengan proses cleaning lebih lanjut didapatkan bahwa Berdasarkan product category :\n",
    "\n",
    "- rata-rata umur pembelinya adalah 37tahun dengan deviasi umur 0.7 tahun , dengan deviasi umur pada tiap product-categorynya accessories 11,6 th , bikes 10 th, dan clothing 11th. Nilai rata-rata revenue dari keseluruhan data pada tiap kategorynya bernilai mendekati nilai 2445 pada category bikes dan nilai 212 pada category accessories. \n",
    "- Data pada umur pembeli product mengindikasikan bahwa data mengalami sedikit skew kearah kanan dengan nilai rata-ratanya lebih besar dari nilai tengah pada data apabila dilakukan pengurutan data, berikut pula dengan sebaran nilai revenuenya bahwa datanya mengindikasikan ada skew kearah kanan apabila dilihat dari nilai dari tiap kategorynya. \n",
    "- Umur pembeli yang sering melakukan pembelian barang berkaitan dengan sepeda dan perlengkapannya adalah umur 32 tahun dan nilai pendapatan revenue yang per waktu transaksinya adalah sebanyak 2274\n",
    "\n",
    "- diketahui bahwa sebaran data pada beberapa kolom yang akan dilakukan uji korelasi adalah tidak terdistribusi normal sehingga analisa lanjut banyak menggunakan metode yang diperuntukkan untuk data yang tidak terdistribusi normal. \n",
    "- pada perhitungan metode spearman pada saat perhitungan analisis deskriptif bahwa korelasi antara umur pembeli dengan revenue yang dihasilkan perusahaan dan beberapa produk kategori yang terjual memiliki hubungan yang sangat lemah walau korelasinya positif, mengindikasikan pada beberapa produk apabila pada umur tertentu memang spending amountnya pada beberapa kategori sejalan sama kenaikan revenuenya.\n",
    "- selain dari itu korelasi antara umur pembeli dengan jenis produk kategori bikes(sepeda) berkorelasi kontradiktif atau negatif dan itupun kuat relasinya itu sangat lemah sama dengan yang lainnya.\n",
    "- Pada menguji hipotesis apakah 'usia pelanggan memiliki pengaruh terhadap nilai pembelian sepeda di pasar Amerika Serikat.\n",
    "didapati hasil & diketahui bahwa selain dari kategori accesories, kategori lainnya tersebut dipengaruhi nilai pembeliannya oleh umur dari calon konsumennya.\n",
    "- pada uji hipotesis lainnya yang menyatakan bahwa \"terdapat perbedaan signifikan dalam revenue atau jumlah pembelian (order quantity) antara pelanggan pria dan wanita? didapati hasil bahwa pada kedua product category rata-rata revenue terdapat perbedaan yang signifikan jika dikorelasikan dengan gender pembelinya.\n"
   ]
  },
  {
   "cell_type": "markdown",
   "metadata": {},
   "source": [
    "## Rekomendasi:\n",
    "\n",
    "- Berdasarkan perhitungan dan visualiasi diatas perusahaan dapat memfokuskan penjualannya pada kategory produk berbasiskan sepeda dilihat dari produk 5 teratas berdasarkan dari kalkukasi revenuenya pada tahun 2014-2016\n",
    "- dengan diketahuinya bahwa 3 negara bagian memiliki penjualan yang besar dibanding negara bagian lainnya, maka perusahaan perlu menjaga kepuasan pelanggan di negara bagian tersebut, selagi menjajaki produknya pada negara bagian selain 3 negara bagian teratas berdasarkan kumulatif revenuenya.\n",
    "- dengan mengetahui bahwa sebaran gender pembelinya hampir sama antara pria dan wanita, maka perusahaan perlu memastikan bahwa saat melakukan strategi pemasaran tidak condong kesalahsatunya, untuk memastikan keduanya tetap membeli produk dari perusahaan anda.\n",
    "- berdasarkan hasil uji beberapa korelasi diatas nilai revenue tidak dipengaruhi oleh gender maupun umur sehingga memungkinkan ada faktor lain yang mempengaruhi naik atau turunnya nilai revenue dari tiap kategori produk, dan hal tersebut perlu dilakukan analisa lebih lanjut dengan data yang lebih lengkap."
   ]
  }
 ],
 "metadata": {
  "kernelspec": {
   "display_name": "hack8",
   "language": "python",
   "name": "python3"
  },
  "language_info": {
   "codemirror_mode": {
    "name": "ipython",
    "version": 3
   },
   "file_extension": ".py",
   "mimetype": "text/x-python",
   "name": "python",
   "nbconvert_exporter": "python",
   "pygments_lexer": "ipython3",
   "version": "3.9.19"
  }
 },
 "nbformat": 4,
 "nbformat_minor": 2
}
